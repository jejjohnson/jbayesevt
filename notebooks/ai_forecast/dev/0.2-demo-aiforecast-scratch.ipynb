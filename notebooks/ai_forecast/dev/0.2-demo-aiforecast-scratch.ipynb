{
 "cells": [
  {
   "cell_type": "markdown",
   "id": "2ed30967-37c7-4680-b4be-4d7ec23b7f3d",
   "metadata": {},
   "source": [
    "# AI Models From Scratch"
   ]
  },
  {
   "cell_type": "code",
   "execution_count": 1,
   "id": "0c076400-8459-4625-bc81-a4f88ccaa6c8",
   "metadata": {},
   "outputs": [],
   "source": [
    "import ai_models\n",
    "import climetlab as cml"
   ]
  },
  {
   "cell_type": "markdown",
   "id": "e0519b32-27a2-4f40-9fd6-af79f2632c4d",
   "metadata": {},
   "source": [
    "## Arguments"
   ]
  },
  {
   "cell_type": "code",
   "execution_count": 2,
   "id": "776e683a-cb3b-4494-9ea8-a554aee1f7d0",
   "metadata": {},
   "outputs": [],
   "source": [
    "from dataclasses import dataclass\n",
    "from functools import cached_property\n",
    "\n",
    "@dataclass\n",
    "class Arguments:\n",
    "    model: str = \"fourcastnetv2-small\"\n",
    "    model_version: str = \"latest\"\n",
    "    output: str = \"file\"\n",
    "    download_assets: bool = True\n",
    "    verbose: int = 0\n",
    "    date: str = 20210801\n",
    "    time: int = 12\n",
    "    assets: str = \"/home/juanjohn/data/forecasters/ai_models\"\n",
    "    assets_sub_directory: str = \"fourcastnetv2-small\"\n",
    "    path: str = \"./\"\n",
    "    lead_time: int = 6\n",
    "    only_gpu: bool = False\n",
    "\n",
    "args = Arguments()"
   ]
  },
  {
   "cell_type": "markdown",
   "id": "e1a3f4a4-7f5f-44fe-a152-89284280ed24",
   "metadata": {},
   "source": [
    "## Input Data"
   ]
  },
  {
   "cell_type": "code",
   "execution_count": 3,
   "id": "915c8a03-5801-48d9-bdc9-58b8b28b9ab4",
   "metadata": {},
   "outputs": [],
   "source": [
    "class CustomFileInput:\n",
    "    def __init__(self, owner, pl_file, sfc_file, **kwargs):\n",
    "        self.pl_file = pl_file\n",
    "        self.sfc_file = sfc_file\n",
    "        self.owner = owner\n",
    "\n",
    "    @cached_property\n",
    "    def fields_sfc(self):\n",
    "        return cml.load_source(\"file\", self.sfc_file)\n",
    "\n",
    "    @cached_property\n",
    "    def fields_pl(self):\n",
    "        return cml.load_source(\"file\", self.pl_file)\n",
    "\n",
    "    @cached_property\n",
    "    def fields_ml(self):\n",
    "        raise NotImplementedError()\n",
    "\n",
    "    @cached_property\n",
    "    def all_fields(self):\n",
    "        return self.fields_sfc + self.fields_pl"
   ]
  },
  {
   "cell_type": "code",
   "execution_count": 4,
   "id": "3f0f6df1-3dcb-47d8-99b2-ef96445b6130",
   "metadata": {},
   "outputs": [],
   "source": [
    "sfc_file = \"/pool/usuarios/juanjohn/ai_models/data/era5/surface_fourcastnet.grib\"\n",
    "pl_file = \"/pool/usuarios/juanjohn/ai_models/data/era5/levels_fourcastnet.grib\"\n",
    "\n",
    "file_input = CustomFileInput(None, sfc_file, pl_file)"
   ]
  },
  {
   "cell_type": "markdown",
   "id": "d26fbb1b-2daf-480b-95c3-de9ca63c8f62",
   "metadata": {},
   "source": [
    "## Load Model"
   ]
  },
  {
   "cell_type": "code",
   "execution_count": 5,
   "id": "26d2b31a-dbb9-43f6-ae47-fe5efa7d55e8",
   "metadata": {},
   "outputs": [],
   "source": [
    "from ai_models_fourcastnetv2.model import FourCastNetv2\n",
    "from ai_models.model import ArchiveCollector\n",
    "from collections import defaultdict\n",
    "from loguru import logger\n",
    "import os\n",
    "from ai_models.outputs import get_output\n",
    "import time\n",
    "\n",
    "class CustomModel(FourCastNetv2):\n",
    "    def __init__(self, **kwargs):\n",
    "\n",
    "        self.input = file_input #get_input(input, self, **kwargs)\n",
    "        self.output = get_output(name=\"file\", owner=self, metadata={}, **kwargs)\n",
    "\n",
    "        print(self.output)\n",
    "        print(type(self.output))\n",
    "    \n",
    "        for k, v in kwargs.items():\n",
    "            setattr(self, k, v)\n",
    "\n",
    "        # # We need to call it to initialise the default args\n",
    "        # args = self.parse_model_args(self.model_args)\n",
    "        # if args:\n",
    "        #     for k, v in vars(args).items():\n",
    "        #         setattr(self, k, v)\n",
    "\n",
    "        if self.assets_sub_directory:\n",
    "            if self.assets_extra_dir is not None:\n",
    "                self.assets += self.assets_extra_dir\n",
    "\n",
    "        logger.debug(\"Asset directory is %s\", self.assets)\n",
    "\n",
    "        try:\n",
    "            # For CliMetLab, when date=-1\n",
    "            self.date = int(self.date)\n",
    "        except ValueError:\n",
    "            pass\n",
    "\n",
    "        # self.download_assets(**kwargs)\n",
    "\n",
    "        self.archiving = defaultdict(ArchiveCollector)\n",
    "        self.created = time.time()\n",
    "\n",
    "        self.n_lat = 721\n",
    "        self.n_lon = 1440\n",
    "        self.hour_steps = 6\n",
    "\n",
    "        self.backbone_channels = len(self.ordering)\n",
    "\n",
    "        self.checkpoint_path = os.path.join(self.assets, \"weights.tar\")"
   ]
  },
  {
   "cell_type": "code",
   "execution_count": 6,
   "id": "5a179deb-6639-4dd7-b2df-c0f7b9dd337f",
   "metadata": {},
   "outputs": [
    {
     "name": "stderr",
     "output_type": "stream",
     "text": [
      "\u001b[32m2024-02-13 13:19:26.779\u001b[0m | \u001b[34m\u001b[1mDEBUG   \u001b[0m | \u001b[36m__main__\u001b[0m:\u001b[36m__init__\u001b[0m:\u001b[36m31\u001b[0m - \u001b[34m\u001b[1mAsset directory is %s\u001b[0m\n"
     ]
    },
    {
     "name": "stdout",
     "output_type": "stream",
     "text": [
      "<ai_models.outputs.FileOutput object at 0x7f5384551ab0>\n",
      "<class 'ai_models.outputs.FileOutput'>\n"
     ]
    }
   ],
   "source": [
    "model = CustomModel(**vars(args))"
   ]
  },
  {
   "cell_type": "code",
   "execution_count": 7,
   "id": "9bec9535-92e4-4554-bff6-8a4820bacaf4",
   "metadata": {},
   "outputs": [
    {
     "name": "stderr",
     "output_type": "stream",
     "text": [
      "/home/juanjohn/miniconda/envs/ai-models/lib/python3.10/site-packages/gribapi/__init__.py:23: UserWarning: ecCodes 2.31.0 or higher is recommended. You are running version 2.30.0\n",
      "  warnings.warn(\n"
     ]
    },
    {
     "ename": "AttributeError",
     "evalue": "'str' object has no attribute 'write'",
     "output_type": "error",
     "traceback": [
      "\u001b[0;31m---------------------------------------------------------------------------\u001b[0m",
      "\u001b[0;31mAttributeError\u001b[0m                            Traceback (most recent call last)",
      "Cell \u001b[0;32mIn[7], line 1\u001b[0m\n\u001b[0;32m----> 1\u001b[0m \u001b[43mmodel\u001b[49m\u001b[38;5;241;43m.\u001b[39;49m\u001b[43mrun\u001b[49m\u001b[43m(\u001b[49m\u001b[43m)\u001b[49m\n",
      "File \u001b[0;32m~/miniconda/envs/ai-models/lib/python3.10/site-packages/ai_models_fourcastnetv2/model.py:245\u001b[0m, in \u001b[0;36mFourCastNetv2.run\u001b[0;34m(self)\u001b[0m\n\u001b[1;32m    235\u001b[0m         LOG\u001b[38;5;241m.\u001b[39mdebug(\n\u001b[1;32m    236\u001b[0m             \u001b[38;5;124m\"\u001b[39m\u001b[38;5;124m    \u001b[39m\u001b[38;5;132;01m%s\u001b[39;00m\u001b[38;5;124m mean=\u001b[39m\u001b[38;5;132;01m%s\u001b[39;00m\u001b[38;5;124m std=\u001b[39m\u001b[38;5;132;01m%s\u001b[39;00m\u001b[38;5;124m min=\u001b[39m\u001b[38;5;132;01m%s\u001b[39;00m\u001b[38;5;124m max=\u001b[39m\u001b[38;5;132;01m%s\u001b[39;00m\u001b[38;5;124m\"\u001b[39m,\n\u001b[1;32m    237\u001b[0m             name,\n\u001b[0;32m   (...)\u001b[0m\n\u001b[1;32m    241\u001b[0m             np\u001b[38;5;241m.\u001b[39mamax(output[:, j]),\n\u001b[1;32m    242\u001b[0m         )\n\u001b[1;32m    244\u001b[0m \u001b[38;5;28;01mfor\u001b[39;00m k, fs \u001b[38;5;129;01min\u001b[39;00m \u001b[38;5;28menumerate\u001b[39m(all_fields):\n\u001b[0;32m--> 245\u001b[0m     \u001b[38;5;28;43mself\u001b[39;49m\u001b[38;5;241;43m.\u001b[39;49m\u001b[43mwrite\u001b[49m\u001b[43m(\u001b[49m\n\u001b[1;32m    246\u001b[0m \u001b[43m        \u001b[49m\u001b[43moutput\u001b[49m\u001b[43m[\u001b[49m\u001b[38;5;241;43m0\u001b[39;49m\u001b[43m,\u001b[49m\u001b[43m \u001b[49m\u001b[43mk\u001b[49m\u001b[43m,\u001b[49m\u001b[43m \u001b[49m\u001b[38;5;241;43m.\u001b[39;49m\u001b[38;5;241;43m.\u001b[39;49m\u001b[38;5;241;43m.\u001b[39;49m\u001b[43m]\u001b[49m\u001b[43m,\u001b[49m\u001b[43m \u001b[49m\u001b[43mcheck_nans\u001b[49m\u001b[38;5;241;43m=\u001b[39;49m\u001b[38;5;28;43;01mTrue\u001b[39;49;00m\u001b[43m,\u001b[49m\u001b[43m \u001b[49m\u001b[43mtemplate\u001b[49m\u001b[38;5;241;43m=\u001b[39;49m\u001b[43mfs\u001b[49m\u001b[43m,\u001b[49m\u001b[43m \u001b[49m\u001b[43mstep\u001b[49m\u001b[38;5;241;43m=\u001b[39;49m\u001b[43mstep\u001b[49m\n\u001b[1;32m    247\u001b[0m \u001b[43m    \u001b[49m\u001b[43m)\u001b[49m\n\u001b[1;32m    249\u001b[0m stepper(i, step)\n",
      "File \u001b[0;32m~/miniconda/envs/ai-models/lib/python3.10/site-packages/ai_models/model.py:121\u001b[0m, in \u001b[0;36mModel.write\u001b[0;34m(self, *args, **kwargs)\u001b[0m\n\u001b[1;32m    119\u001b[0m \u001b[38;5;28;01mdef\u001b[39;00m \u001b[38;5;21mwrite\u001b[39m(\u001b[38;5;28mself\u001b[39m, \u001b[38;5;241m*\u001b[39margs, \u001b[38;5;241m*\u001b[39m\u001b[38;5;241m*\u001b[39mkwargs):\n\u001b[1;32m    120\u001b[0m     \u001b[38;5;28mself\u001b[39m\u001b[38;5;241m.\u001b[39mcollect_archive_requests(\n\u001b[0;32m--> 121\u001b[0m         \u001b[38;5;28;43mself\u001b[39;49m\u001b[38;5;241;43m.\u001b[39;49m\u001b[43moutput\u001b[49m\u001b[38;5;241;43m.\u001b[39;49m\u001b[43mwrite\u001b[49m(\u001b[38;5;241m*\u001b[39margs, \u001b[38;5;241m*\u001b[39m\u001b[38;5;241m*\u001b[39mkwargs),\n\u001b[1;32m    122\u001b[0m     )\n",
      "\u001b[0;31mAttributeError\u001b[0m: 'str' object has no attribute 'write'"
     ]
    }
   ],
   "source": [
    "model.run()"
   ]
  },
  {
   "cell_type": "code",
   "execution_count": 25,
   "id": "ca374b8b-d3f8-4f8d-bd6c-6ec63d5e7703",
   "metadata": {},
   "outputs": [
    {
     "ename": "TypeError",
     "evalue": "Model.__init__() missing 2 required positional arguments: 'input' and 'output'",
     "output_type": "error",
     "traceback": [
      "\u001b[0;31m---------------------------------------------------------------------------\u001b[0m",
      "\u001b[0;31mTypeError\u001b[0m                                 Traceback (most recent call last)",
      "Cell \u001b[0;32mIn[25], line 3\u001b[0m\n\u001b[1;32m      1\u001b[0m \u001b[38;5;28;01mfrom\u001b[39;00m \u001b[38;5;21;01mai_models\u001b[39;00m\u001b[38;5;21;01m.\u001b[39;00m\u001b[38;5;21;01mmodel\u001b[39;00m \u001b[38;5;28;01mimport\u001b[39;00m Timer, available_models, load_model, Model\n\u001b[0;32m----> 3\u001b[0m model \u001b[38;5;241m=\u001b[39m \u001b[43mload_model\u001b[49m\u001b[43m(\u001b[49m\u001b[43mname\u001b[49m\u001b[38;5;241;43m=\u001b[39;49m\u001b[43margs\u001b[49m\u001b[38;5;241;43m.\u001b[39;49m\u001b[43mmodel\u001b[49m\u001b[43m,\u001b[49m\u001b[43m \u001b[49m\u001b[38;5;241;43m*\u001b[39;49m\u001b[38;5;241;43m*\u001b[39;49m\u001b[38;5;28;43mvars\u001b[39;49m\u001b[43m(\u001b[49m\u001b[43margs\u001b[49m\u001b[43m)\u001b[49m\u001b[43m)\u001b[49m\n",
      "File \u001b[0;32m~/miniconda/envs/ai-models/lib/python3.10/site-packages/ai_models/model.py:432\u001b[0m, in \u001b[0;36mload_model\u001b[0;34m(name, **kwargs)\u001b[0m\n\u001b[1;32m    431\u001b[0m \u001b[38;5;28;01mdef\u001b[39;00m \u001b[38;5;21mload_model\u001b[39m(name, \u001b[38;5;241m*\u001b[39m\u001b[38;5;241m*\u001b[39mkwargs):\n\u001b[0;32m--> 432\u001b[0m     \u001b[38;5;28;01mreturn\u001b[39;00m \u001b[43mavailable_models\u001b[49m\u001b[43m(\u001b[49m\u001b[43m)\u001b[49m\u001b[43m[\u001b[49m\u001b[43mname\u001b[49m\u001b[43m]\u001b[49m\u001b[38;5;241;43m.\u001b[39;49m\u001b[43mload\u001b[49m\u001b[43m(\u001b[49m\u001b[43m)\u001b[49m\u001b[43m(\u001b[49m\u001b[38;5;241;43m*\u001b[39;49m\u001b[38;5;241;43m*\u001b[39;49m\u001b[43mkwargs\u001b[49m\u001b[43m)\u001b[49m\n",
      "File \u001b[0;32m~/miniconda/envs/ai-models/lib/python3.10/site-packages/ai_models_fourcastnetv2/model.py:259\u001b[0m, in \u001b[0;36mmodel\u001b[0;34m(model_version, **kwargs)\u001b[0m\n\u001b[1;32m    252\u001b[0m \u001b[38;5;28;01mdef\u001b[39;00m \u001b[38;5;21mmodel\u001b[39m(model_version, \u001b[38;5;241m*\u001b[39m\u001b[38;5;241m*\u001b[39mkwargs):\n\u001b[1;32m    253\u001b[0m     models \u001b[38;5;241m=\u001b[39m {\n\u001b[1;32m    254\u001b[0m         \u001b[38;5;124m\"\u001b[39m\u001b[38;5;124m0\u001b[39m\u001b[38;5;124m\"\u001b[39m: FourCastNetv2,\n\u001b[1;32m    255\u001b[0m         \u001b[38;5;124m\"\u001b[39m\u001b[38;5;124msmall\u001b[39m\u001b[38;5;124m\"\u001b[39m: FourCastNetv2,\n\u001b[1;32m    256\u001b[0m         \u001b[38;5;124m\"\u001b[39m\u001b[38;5;124mrelease\u001b[39m\u001b[38;5;124m\"\u001b[39m: FourCastNetv2,\n\u001b[1;32m    257\u001b[0m         \u001b[38;5;124m\"\u001b[39m\u001b[38;5;124mlatest\u001b[39m\u001b[38;5;124m\"\u001b[39m: FourCastNetv2,\n\u001b[1;32m    258\u001b[0m     }\n\u001b[0;32m--> 259\u001b[0m     \u001b[38;5;28;01mreturn\u001b[39;00m \u001b[43mmodels\u001b[49m\u001b[43m[\u001b[49m\u001b[43mmodel_version\u001b[49m\u001b[43m]\u001b[49m\u001b[43m(\u001b[49m\u001b[38;5;241;43m*\u001b[39;49m\u001b[38;5;241;43m*\u001b[39;49m\u001b[43mkwargs\u001b[49m\u001b[43m)\u001b[49m\n",
      "File \u001b[0;32m~/miniconda/envs/ai-models/lib/python3.10/site-packages/ai_models_fourcastnetv2/model.py:118\u001b[0m, in \u001b[0;36mFourCastNetv2.__init__\u001b[0;34m(self, precip_flag, **kwargs)\u001b[0m\n\u001b[1;32m    117\u001b[0m \u001b[38;5;28;01mdef\u001b[39;00m \u001b[38;5;21m__init__\u001b[39m(\u001b[38;5;28mself\u001b[39m, precip_flag\u001b[38;5;241m=\u001b[39m\u001b[38;5;28;01mFalse\u001b[39;00m, \u001b[38;5;241m*\u001b[39m\u001b[38;5;241m*\u001b[39mkwargs):\n\u001b[0;32m--> 118\u001b[0m     \u001b[38;5;28;43msuper\u001b[39;49m\u001b[43m(\u001b[49m\u001b[43m)\u001b[49m\u001b[38;5;241;43m.\u001b[39;49m\u001b[38;5;21;43m__init__\u001b[39;49m\u001b[43m(\u001b[49m\u001b[38;5;241;43m*\u001b[39;49m\u001b[38;5;241;43m*\u001b[39;49m\u001b[43mkwargs\u001b[49m\u001b[43m)\u001b[49m\n\u001b[1;32m    120\u001b[0m     \u001b[38;5;28mself\u001b[39m\u001b[38;5;241m.\u001b[39mn_lat \u001b[38;5;241m=\u001b[39m \u001b[38;5;241m721\u001b[39m\n\u001b[1;32m    121\u001b[0m     \u001b[38;5;28mself\u001b[39m\u001b[38;5;241m.\u001b[39mn_lon \u001b[38;5;241m=\u001b[39m \u001b[38;5;241m1440\u001b[39m\n",
      "\u001b[0;31mTypeError\u001b[0m: Model.__init__() missing 2 required positional arguments: 'input' and 'output'"
     ]
    }
   ],
   "source": [
    "from ai_models.model import Timer, available_models, load_model, Model\n",
    "\n",
    "model = load_model(name=args.model, **vars(args))"
   ]
  },
  {
   "cell_type": "code",
   "execution_count": null,
   "id": "b96161d5-56d8-42a2-a091-7e95ce62d257",
   "metadata": {},
   "outputs": [],
   "source": []
  }
 ],
 "metadata": {
  "kernelspec": {
   "display_name": "Python [conda env:ai-models]",
   "language": "python",
   "name": "conda-env-ai-models-py"
  },
  "language_info": {
   "codemirror_mode": {
    "name": "ipython",
    "version": 3
   },
   "file_extension": ".py",
   "mimetype": "text/x-python",
   "name": "python",
   "nbconvert_exporter": "python",
   "pygments_lexer": "ipython3",
   "version": "3.10.13"
  }
 },
 "nbformat": 4,
 "nbformat_minor": 5
}
