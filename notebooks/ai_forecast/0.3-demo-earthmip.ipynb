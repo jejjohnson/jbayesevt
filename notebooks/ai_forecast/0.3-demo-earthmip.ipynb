{
 "cells": [
  {
   "cell_type": "markdown",
   "id": "a364ed65-7846-4dbc-a21f-488e4b5e8ee0",
   "metadata": {},
   "source": [
    "# EarthMIP Trial"
   ]
  },
  {
   "cell_type": "markdown",
   "id": "413a946b-0a0d-495f-8acb-f67fed4014e3",
   "metadata": {},
   "source": [
    "**Installation**\n",
    "\n",
    "* [apex](https://github.com/NVIDIA/apex#quick-start)"
   ]
  },
  {
   "cell_type": "code",
   "execution_count": 1,
   "id": "a2a42fbf-9827-4551-8075-0aac7b0cca89",
   "metadata": {},
   "outputs": [],
   "source": [
    "import datetime\n",
    "from earth2mip import inference_ensemble, registry\n",
    "from earth2mip.networks import get_model\n",
    "from earth2mip.initial_conditions import cds\n",
    "from earth2mip.inference_ensemble import run_basic_inference"
   ]
  },
  {
   "cell_type": "code",
   "execution_count": 2,
   "id": "3871167b-0503-4b00-8c11-2a537abb8cb1",
   "metadata": {},
   "outputs": [],
   "source": [
    "time_loop  = get_model(\n",
    "    model=\"e2mip://fcnv2_sm\",\n",
    "    device=\"cuda:0\",\n",
    ")"
   ]
  },
  {
   "cell_type": "code",
   "execution_count": 3,
   "id": "7014b458-8d42-4b89-b8ec-6f34922f5f96",
   "metadata": {},
   "outputs": [],
   "source": [
    "# time_loop"
   ]
  },
  {
   "cell_type": "code",
   "execution_count": 4,
   "id": "0563d57d-b899-41a3-86a1-a22ddcd044d4",
   "metadata": {},
   "outputs": [
    {
     "data": {
      "text/plain": [
       "['u10m',\n",
       " 'v10m',\n",
       " 'u100m',\n",
       " 'v100m',\n",
       " 't2m',\n",
       " 'sp',\n",
       " 'msl',\n",
       " 'tcwv',\n",
       " 'u50',\n",
       " 'u100',\n",
       " 'u150',\n",
       " 'u200',\n",
       " 'u250',\n",
       " 'u300',\n",
       " 'u400',\n",
       " 'u500',\n",
       " 'u600',\n",
       " 'u700',\n",
       " 'u850',\n",
       " 'u925',\n",
       " 'u1000',\n",
       " 'v50',\n",
       " 'v100',\n",
       " 'v150',\n",
       " 'v200',\n",
       " 'v250',\n",
       " 'v300',\n",
       " 'v400',\n",
       " 'v500',\n",
       " 'v600',\n",
       " 'v700',\n",
       " 'v850',\n",
       " 'v925',\n",
       " 'v1000',\n",
       " 'z50',\n",
       " 'z100',\n",
       " 'z150',\n",
       " 'z200',\n",
       " 'z250',\n",
       " 'z300',\n",
       " 'z400',\n",
       " 'z500',\n",
       " 'z600',\n",
       " 'z700',\n",
       " 'z850',\n",
       " 'z925',\n",
       " 'z1000',\n",
       " 't50',\n",
       " 't100',\n",
       " 't150',\n",
       " 't200',\n",
       " 't250',\n",
       " 't300',\n",
       " 't400',\n",
       " 't500',\n",
       " 't600',\n",
       " 't700',\n",
       " 't850',\n",
       " 't925',\n",
       " 't1000',\n",
       " 'r50',\n",
       " 'r100',\n",
       " 'r150',\n",
       " 'r200',\n",
       " 'r250',\n",
       " 'r300',\n",
       " 'r400',\n",
       " 'r500',\n",
       " 'r600',\n",
       " 'r700',\n",
       " 'r850',\n",
       " 'r925',\n",
       " 'r1000']"
      ]
     },
     "execution_count": 4,
     "metadata": {},
     "output_type": "execute_result"
    }
   ],
   "source": [
    "time_loop.in_channel_names"
   ]
  },
  {
   "cell_type": "code",
   "execution_count": 5,
   "id": "8a6edef8-2615-4afe-bcd7-e9ee97a5a391",
   "metadata": {},
   "outputs": [],
   "source": [
    "data_source = cds.DataSource(time_loop.in_channel_names)"
   ]
  },
  {
   "cell_type": "code",
   "execution_count": null,
   "id": "2515f54b-1982-4583-9445-89eebd2e58e2",
   "metadata": {},
   "outputs": [
    {
     "name": "stderr",
     "output_type": "stream",
     "text": [
      "2024-02-13 18:01:16,923 INFO Welcome to the CDS\n",
      "2024-02-13 18:01:16,924 INFO Welcome to the CDS\n",
      "2024-02-13 18:01:16,924 INFO Sending request to https://cds.climate.copernicus.eu/api/v2/resources/reanalysis-era5-pressure-levels\n",
      "2024-02-13 18:01:16,925 INFO Sending request to https://cds.climate.copernicus.eu/api/v2/resources/reanalysis-era5-single-levels\n",
      "2024-02-13 18:01:16,983 INFO Request is queued\n"
     ]
    }
   ],
   "source": [
    "ds = run_basic_inference(\n",
    "    time_loop, \n",
    "    n=10, \n",
    "    data_source=data_source, \n",
    "    time=datetime.datetime(2021, 8, 1)\n",
    ")"
   ]
  },
  {
   "cell_type": "code",
   "execution_count": null,
   "id": "554fba37-206e-4fd3-b49a-5f75cf48e901",
   "metadata": {},
   "outputs": [],
   "source": [
    "ds.chunk()"
   ]
  },
  {
   "cell_type": "code",
   "execution_count": null,
   "id": "c619a20f-1831-45e1-8386-896a840e7c3b",
   "metadata": {},
   "outputs": [],
   "source": []
  }
 ],
 "metadata": {
  "kernelspec": {
   "display_name": "Python [conda env:bayesevt_ai]",
   "language": "python",
   "name": "conda-env-bayesevt_ai-py"
  },
  "language_info": {
   "codemirror_mode": {
    "name": "ipython",
    "version": 3
   },
   "file_extension": ".py",
   "mimetype": "text/x-python",
   "name": "python",
   "nbconvert_exporter": "python",
   "pygments_lexer": "ipython3",
   "version": "3.10.13"
  }
 },
 "nbformat": 4,
 "nbformat_minor": 5
}
