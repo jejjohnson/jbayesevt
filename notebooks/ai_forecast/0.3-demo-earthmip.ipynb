{
 "cells": [
  {
   "cell_type": "markdown",
   "id": "a364ed65-7846-4dbc-a21f-488e4b5e8ee0",
   "metadata": {},
   "source": [
    "# EarthMIP Trial"
   ]
  },
  {
   "cell_type": "markdown",
   "id": "413a946b-0a0d-495f-8acb-f67fed4014e3",
   "metadata": {},
   "source": [
    "**Installation**\n",
    "\n",
    "* [apex](https://github.com/NVIDIA/apex#quick-start)"
   ]
  },
  {
   "cell_type": "code",
   "execution_count": 1,
   "id": "a2a42fbf-9827-4551-8075-0aac7b0cca89",
   "metadata": {},
   "outputs": [],
   "source": [
    "import datetime\n",
    "from earth2mip import inference_ensemble, registry\n",
    "from earth2mip.networks import get_model\n",
    "from earth2mip.initial_conditions import cds\n",
    "from earth2mip.inference_ensemble import run_basic_inference"
   ]
  },
  {
   "cell_type": "code",
   "execution_count": 2,
   "id": "3871167b-0503-4b00-8c11-2a537abb8cb1",
   "metadata": {},
   "outputs": [],
   "source": [
    "time_loop  = get_model(\n",
    "    model=\"e2mip://fcnv2_sm\",\n",
    "    device=\"cuda:0\",\n",
    ")"
   ]
  },
  {
   "cell_type": "code",
   "execution_count": 3,
   "id": "7014b458-8d42-4b89-b8ec-6f34922f5f96",
   "metadata": {},
   "outputs": [],
   "source": [
    "# time_loop"
   ]
  },
  {
   "cell_type": "code",
   "execution_count": 4,
   "id": "0563d57d-b899-41a3-86a1-a22ddcd044d4",
   "metadata": {},
   "outputs": [
    {
     "data": {
      "text/plain": [
       "['u10m',\n",
       " 'v10m',\n",
       " 'u100m',\n",
       " 'v100m',\n",
       " 't2m',\n",
       " 'sp',\n",
       " 'msl',\n",
       " 'tcwv',\n",
       " 'u50',\n",
       " 'u100',\n",
       " 'u150',\n",
       " 'u200',\n",
       " 'u250',\n",
       " 'u300',\n",
       " 'u400',\n",
       " 'u500',\n",
       " 'u600',\n",
       " 'u700',\n",
       " 'u850',\n",
       " 'u925',\n",
       " 'u1000',\n",
       " 'v50',\n",
       " 'v100',\n",
       " 'v150',\n",
       " 'v200',\n",
       " 'v250',\n",
       " 'v300',\n",
       " 'v400',\n",
       " 'v500',\n",
       " 'v600',\n",
       " 'v700',\n",
       " 'v850',\n",
       " 'v925',\n",
       " 'v1000',\n",
       " 'z50',\n",
       " 'z100',\n",
       " 'z150',\n",
       " 'z200',\n",
       " 'z250',\n",
       " 'z300',\n",
       " 'z400',\n",
       " 'z500',\n",
       " 'z600',\n",
       " 'z700',\n",
       " 'z850',\n",
       " 'z925',\n",
       " 'z1000',\n",
       " 't50',\n",
       " 't100',\n",
       " 't150',\n",
       " 't200',\n",
       " 't250',\n",
       " 't300',\n",
       " 't400',\n",
       " 't500',\n",
       " 't600',\n",
       " 't700',\n",
       " 't850',\n",
       " 't925',\n",
       " 't1000',\n",
       " 'r50',\n",
       " 'r100',\n",
       " 'r150',\n",
       " 'r200',\n",
       " 'r250',\n",
       " 'r300',\n",
       " 'r400',\n",
       " 'r500',\n",
       " 'r600',\n",
       " 'r700',\n",
       " 'r850',\n",
       " 'r925',\n",
       " 'r1000']"
      ]
     },
     "execution_count": 4,
     "metadata": {},
     "output_type": "execute_result"
    }
   ],
   "source": [
    "time_loop.in_channel_names"
   ]
  },
  {
   "cell_type": "code",
   "execution_count": 5,
   "id": "8a6edef8-2615-4afe-bcd7-e9ee97a5a391",
   "metadata": {},
   "outputs": [],
   "source": [
    "data_source = cds.DataSource(time_loop.in_channel_names)"
   ]
  },
  {
   "cell_type": "code",
   "execution_count": 6,
   "id": "2515f54b-1982-4583-9445-89eebd2e58e2",
   "metadata": {},
   "outputs": [
    {
     "name": "stderr",
     "output_type": "stream",
     "text": [
      "2024-02-13 18:01:16,923 INFO Welcome to the CDS\n",
      "2024-02-13 18:01:16,924 INFO Welcome to the CDS\n",
      "2024-02-13 18:01:16,924 INFO Sending request to https://cds.climate.copernicus.eu/api/v2/resources/reanalysis-era5-pressure-levels\n",
      "2024-02-13 18:01:16,925 INFO Sending request to https://cds.climate.copernicus.eu/api/v2/resources/reanalysis-era5-single-levels\n",
      "2024-02-13 18:01:16,983 INFO Request is queued\n"
     ]
    },
    {
     "ename": "KeyboardInterrupt",
     "evalue": "",
     "output_type": "error",
     "traceback": [
      "\u001b[0;31m---------------------------------------------------------------------------\u001b[0m",
      "\u001b[0;31mKeyboardInterrupt\u001b[0m                         Traceback (most recent call last)",
      "Cell \u001b[0;32mIn[6], line 1\u001b[0m\n\u001b[0;32m----> 1\u001b[0m ds \u001b[38;5;241m=\u001b[39m \u001b[43mrun_basic_inference\u001b[49m\u001b[43m(\u001b[49m\n\u001b[1;32m      2\u001b[0m \u001b[43m    \u001b[49m\u001b[43mtime_loop\u001b[49m\u001b[43m,\u001b[49m\u001b[43m \u001b[49m\n\u001b[1;32m      3\u001b[0m \u001b[43m    \u001b[49m\u001b[43mn\u001b[49m\u001b[38;5;241;43m=\u001b[39;49m\u001b[38;5;241;43m10\u001b[39;49m\u001b[43m,\u001b[49m\u001b[43m \u001b[49m\n\u001b[1;32m      4\u001b[0m \u001b[43m    \u001b[49m\u001b[43mdata_source\u001b[49m\u001b[38;5;241;43m=\u001b[39;49m\u001b[43mdata_source\u001b[49m\u001b[43m,\u001b[49m\u001b[43m \u001b[49m\n\u001b[1;32m      5\u001b[0m \u001b[43m    \u001b[49m\u001b[43mtime\u001b[49m\u001b[38;5;241;43m=\u001b[39;49m\u001b[43mdatetime\u001b[49m\u001b[38;5;241;43m.\u001b[39;49m\u001b[43mdatetime\u001b[49m\u001b[43m(\u001b[49m\u001b[38;5;241;43m2021\u001b[39;49m\u001b[43m,\u001b[49m\u001b[43m \u001b[49m\u001b[38;5;241;43m8\u001b[39;49m\u001b[43m,\u001b[49m\u001b[43m \u001b[49m\u001b[38;5;241;43m1\u001b[39;49m\u001b[43m)\u001b[49m\n\u001b[1;32m      6\u001b[0m \u001b[43m)\u001b[49m\n",
      "File \u001b[0;32m~/miniconda/envs/bayesevt_ai/lib/python3.10/site-packages/earth2mip/inference_ensemble.py:282\u001b[0m, in \u001b[0;36mrun_basic_inference\u001b[0;34m(model, n, data_source, time)\u001b[0m\n\u001b[1;32m    274\u001b[0m \u001b[38;5;28;01mdef\u001b[39;00m \u001b[38;5;21mrun_basic_inference\u001b[39m(\n\u001b[1;32m    275\u001b[0m     model: time_loop\u001b[38;5;241m.\u001b[39mTimeLoop,\n\u001b[1;32m    276\u001b[0m     n: \u001b[38;5;28mint\u001b[39m,\n\u001b[1;32m    277\u001b[0m     data_source: Any,\n\u001b[1;32m    278\u001b[0m     time: datetime,\n\u001b[1;32m    279\u001b[0m ):\n\u001b[1;32m    280\u001b[0m \u001b[38;5;250m    \u001b[39m\u001b[38;5;124;03m\"\"\"Run a basic inference\"\"\"\u001b[39;00m\n\u001b[0;32m--> 282\u001b[0m     x \u001b[38;5;241m=\u001b[39m \u001b[43minitial_conditions\u001b[49m\u001b[38;5;241;43m.\u001b[39;49m\u001b[43mget_initial_condition_for_model\u001b[49m\u001b[43m(\u001b[49m\u001b[43mmodel\u001b[49m\u001b[43m,\u001b[49m\u001b[43m \u001b[49m\u001b[43mdata_source\u001b[49m\u001b[43m,\u001b[49m\u001b[43m \u001b[49m\u001b[43mtime\u001b[49m\u001b[43m)\u001b[49m\n\u001b[1;32m    284\u001b[0m     arrays \u001b[38;5;241m=\u001b[39m []\n\u001b[1;32m    285\u001b[0m     times \u001b[38;5;241m=\u001b[39m []\n",
      "File \u001b[0;32m~/miniconda/envs/bayesevt_ai/lib/python3.10/site-packages/earth2mip/initial_conditions/__init__.py:109\u001b[0m, in \u001b[0;36mget_initial_condition_for_model\u001b[0;34m(time_loop, data_source, time)\u001b[0m\n\u001b[1;32m    106\u001b[0m \u001b[38;5;28;01mdef\u001b[39;00m \u001b[38;5;21mget_initial_condition_for_model\u001b[39m(\n\u001b[1;32m    107\u001b[0m     time_loop: time_loop\u001b[38;5;241m.\u001b[39mTimeLoop, data_source: base\u001b[38;5;241m.\u001b[39mDataSource, time: datetime\n\u001b[1;32m    108\u001b[0m ) \u001b[38;5;241m-\u001b[39m\u001b[38;5;241m>\u001b[39m torch\u001b[38;5;241m.\u001b[39mTensor:\n\u001b[0;32m--> 109\u001b[0m     \u001b[38;5;28;01mreturn\u001b[39;00m \u001b[43mget_data_from_source\u001b[49m\u001b[43m(\u001b[49m\n\u001b[1;32m    110\u001b[0m \u001b[43m        \u001b[49m\u001b[43mdata_source\u001b[49m\u001b[43m,\u001b[49m\n\u001b[1;32m    111\u001b[0m \u001b[43m        \u001b[49m\u001b[43mtime\u001b[49m\u001b[43m,\u001b[49m\n\u001b[1;32m    112\u001b[0m \u001b[43m        \u001b[49m\u001b[43mtime_loop\u001b[49m\u001b[38;5;241;43m.\u001b[39;49m\u001b[43min_channel_names\u001b[49m\u001b[43m,\u001b[49m\n\u001b[1;32m    113\u001b[0m \u001b[43m        \u001b[49m\u001b[43mtime_loop\u001b[49m\u001b[38;5;241;43m.\u001b[39;49m\u001b[43mgrid\u001b[49m\u001b[43m,\u001b[49m\n\u001b[1;32m    114\u001b[0m \u001b[43m        \u001b[49m\u001b[43mtime_loop\u001b[49m\u001b[38;5;241;43m.\u001b[39;49m\u001b[43mn_history_levels\u001b[49m\u001b[43m,\u001b[49m\n\u001b[1;32m    115\u001b[0m \u001b[43m        \u001b[49m\u001b[43mtime_loop\u001b[49m\u001b[38;5;241;43m.\u001b[39;49m\u001b[43mhistory_time_step\u001b[49m\u001b[43m,\u001b[49m\n\u001b[1;32m    116\u001b[0m \u001b[43m        \u001b[49m\u001b[43mtime_loop\u001b[49m\u001b[38;5;241;43m.\u001b[39;49m\u001b[43mdevice\u001b[49m\u001b[43m,\u001b[49m\n\u001b[1;32m    117\u001b[0m \u001b[43m        \u001b[49m\u001b[43mtime_loop\u001b[49m\u001b[38;5;241;43m.\u001b[39;49m\u001b[43mdtype\u001b[49m\u001b[43m,\u001b[49m\n\u001b[1;32m    118\u001b[0m \u001b[43m    \u001b[49m\u001b[43m)\u001b[49m\n",
      "File \u001b[0;32m~/miniconda/envs/bayesevt_ai/lib/python3.10/site-packages/earth2mip/initial_conditions/__init__.py:86\u001b[0m, in \u001b[0;36mget_data_from_source\u001b[0;34m(data_source, time, channel_names, grid, n_history_levels, time_step, device, dtype)\u001b[0m\n\u001b[1;32m     84\u001b[0m \u001b[38;5;28;01mfor\u001b[39;00m i \u001b[38;5;129;01min\u001b[39;00m \u001b[38;5;28mrange\u001b[39m(n_history_levels \u001b[38;5;241m-\u001b[39m \u001b[38;5;241m1\u001b[39m, \u001b[38;5;241m-\u001b[39m\u001b[38;5;241m1\u001b[39m, \u001b[38;5;241m-\u001b[39m\u001b[38;5;241m1\u001b[39m):\n\u001b[1;32m     85\u001b[0m     time_to_get \u001b[38;5;241m=\u001b[39m time \u001b[38;5;241m-\u001b[39m i \u001b[38;5;241m*\u001b[39m dt\n\u001b[0;32m---> 86\u001b[0m     arr \u001b[38;5;241m=\u001b[39m \u001b[43mdata_source\u001b[49m\u001b[43m[\u001b[49m\u001b[43mtime_to_get\u001b[49m\u001b[43m]\u001b[49m\n\u001b[1;32m     87\u001b[0m     expected_shape \u001b[38;5;241m=\u001b[39m (\u001b[38;5;28mlen\u001b[39m(data_source\u001b[38;5;241m.\u001b[39mchannel_names), \u001b[38;5;241m*\u001b[39mdata_source\u001b[38;5;241m.\u001b[39mgrid\u001b[38;5;241m.\u001b[39mshape)\n\u001b[1;32m     88\u001b[0m     arrays\u001b[38;5;241m.\u001b[39mappend(arr)\n",
      "File \u001b[0;32m~/miniconda/envs/bayesevt_ai/lib/python3.10/site-packages/earth2mip/initial_conditions/cds.py:128\u001b[0m, in \u001b[0;36mDataSource.__getitem__\u001b[0;34m(self, time)\u001b[0m\n\u001b[1;32m    126\u001b[0m \u001b[38;5;28;01mdef\u001b[39;00m \u001b[38;5;21m__getitem__\u001b[39m(\u001b[38;5;28mself\u001b[39m, time: datetime\u001b[38;5;241m.\u001b[39mdatetime):\n\u001b[1;32m    127\u001b[0m     os\u001b[38;5;241m.\u001b[39mmakedirs(\u001b[38;5;28mself\u001b[39m\u001b[38;5;241m.\u001b[39mcache, exist_ok\u001b[38;5;241m=\u001b[39m\u001b[38;5;28;01mTrue\u001b[39;00m)\n\u001b[0;32m--> 128\u001b[0m     \u001b[38;5;28;01mreturn\u001b[39;00m \u001b[43m_get_channels\u001b[49m\u001b[43m(\u001b[49m\u001b[38;5;28;43mself\u001b[39;49m\u001b[38;5;241;43m.\u001b[39;49m\u001b[43mclient\u001b[49m\u001b[43m,\u001b[49m\u001b[43m \u001b[49m\u001b[43mtime\u001b[49m\u001b[43m,\u001b[49m\u001b[43m \u001b[49m\u001b[38;5;28;43mself\u001b[39;49m\u001b[38;5;241;43m.\u001b[39;49m\u001b[43mchannel_names\u001b[49m\u001b[43m,\u001b[49m\u001b[43m \u001b[49m\u001b[38;5;28;43mself\u001b[39;49m\u001b[38;5;241;43m.\u001b[39;49m\u001b[43mcache\u001b[49m\u001b[43m)\u001b[49m\u001b[38;5;241m.\u001b[39mvalues\n",
      "File \u001b[0;32m~/miniconda/envs/bayesevt_ai/lib/python3.10/site-packages/earth2mip/initial_conditions/cds.py:256\u001b[0m, in \u001b[0;36m_get_channels\u001b[0;34m(client, time, channels, d)\u001b[0m\n\u001b[1;32m    254\u001b[0m \u001b[38;5;28;01mdef\u001b[39;00m \u001b[38;5;21m_get_channels\u001b[39m(client, time: datetime\u001b[38;5;241m.\u001b[39mdatetime, channels: List[\u001b[38;5;28mstr\u001b[39m], d):\n\u001b[1;32m    255\u001b[0m     codes \u001b[38;5;241m=\u001b[39m [parse_channel(c) \u001b[38;5;28;01mfor\u001b[39;00m c \u001b[38;5;129;01min\u001b[39;00m channels]\n\u001b[0;32m--> 256\u001b[0m     darray \u001b[38;5;241m=\u001b[39m \u001b[43m_download_codes\u001b[49m\u001b[43m(\u001b[49m\u001b[43mclient\u001b[49m\u001b[43m,\u001b[49m\u001b[43m \u001b[49m\u001b[43mcodes\u001b[49m\u001b[43m,\u001b[49m\u001b[43m \u001b[49m\u001b[43mtime\u001b[49m\u001b[43m,\u001b[49m\u001b[43m \u001b[49m\u001b[43md\u001b[49m\u001b[43m)\u001b[49m\n\u001b[1;32m    257\u001b[0m     \u001b[38;5;28;01mreturn\u001b[39;00m (\n\u001b[1;32m    258\u001b[0m         darray\u001b[38;5;241m.\u001b[39massign_coords(channel\u001b[38;5;241m=\u001b[39mchannels)\n\u001b[1;32m    259\u001b[0m         \u001b[38;5;241m.\u001b[39massign_coords(time\u001b[38;5;241m=\u001b[39mtime)\n\u001b[0;32m   (...)\u001b[0m\n\u001b[1;32m    262\u001b[0m         \u001b[38;5;241m.\u001b[39mroll(lon\u001b[38;5;241m=\u001b[39m\u001b[38;5;241m1440\u001b[39m \u001b[38;5;241m/\u001b[39m\u001b[38;5;241m/\u001b[39m \u001b[38;5;241m2\u001b[39m)\n\u001b[1;32m    263\u001b[0m     )\n",
      "File \u001b[0;32m~/miniconda/envs/bayesevt_ai/lib/python3.10/site-packages/earth2mip/initial_conditions/cds.py:248\u001b[0m, in \u001b[0;36m_download_codes\u001b[0;34m(client, codes, time, d)\u001b[0m\n\u001b[1;32m    245\u001b[0m     \u001b[38;5;28;01mreturn\u001b[39;00m path\n\u001b[1;32m    247\u001b[0m requests \u001b[38;5;241m=\u001b[39m _get_cds_requests(codes, time, \u001b[38;5;28mformat\u001b[39m)\n\u001b[0;32m--> 248\u001b[0m \u001b[38;5;28;01mwith\u001b[39;00m ThreadPoolExecutor(\u001b[38;5;241m4\u001b[39m) \u001b[38;5;28;01mas\u001b[39;00m pool:\n\u001b[1;32m    249\u001b[0m     files \u001b[38;5;241m=\u001b[39m pool\u001b[38;5;241m.\u001b[39mmap(download, requests)\n\u001b[1;32m    251\u001b[0m \u001b[38;5;28;01mreturn\u001b[39;00m _parse_files(codes, files)\n",
      "File \u001b[0;32m~/miniconda/envs/bayesevt_ai/lib/python3.10/concurrent/futures/_base.py:649\u001b[0m, in \u001b[0;36mExecutor.__exit__\u001b[0;34m(self, exc_type, exc_val, exc_tb)\u001b[0m\n\u001b[1;32m    648\u001b[0m \u001b[38;5;28;01mdef\u001b[39;00m \u001b[38;5;21m__exit__\u001b[39m(\u001b[38;5;28mself\u001b[39m, exc_type, exc_val, exc_tb):\n\u001b[0;32m--> 649\u001b[0m     \u001b[38;5;28;43mself\u001b[39;49m\u001b[38;5;241;43m.\u001b[39;49m\u001b[43mshutdown\u001b[49m\u001b[43m(\u001b[49m\u001b[43mwait\u001b[49m\u001b[38;5;241;43m=\u001b[39;49m\u001b[38;5;28;43;01mTrue\u001b[39;49;00m\u001b[43m)\u001b[49m\n\u001b[1;32m    650\u001b[0m     \u001b[38;5;28;01mreturn\u001b[39;00m \u001b[38;5;28;01mFalse\u001b[39;00m\n",
      "File \u001b[0;32m~/miniconda/envs/bayesevt_ai/lib/python3.10/concurrent/futures/thread.py:235\u001b[0m, in \u001b[0;36mThreadPoolExecutor.shutdown\u001b[0;34m(self, wait, cancel_futures)\u001b[0m\n\u001b[1;32m    233\u001b[0m \u001b[38;5;28;01mif\u001b[39;00m wait:\n\u001b[1;32m    234\u001b[0m     \u001b[38;5;28;01mfor\u001b[39;00m t \u001b[38;5;129;01min\u001b[39;00m \u001b[38;5;28mself\u001b[39m\u001b[38;5;241m.\u001b[39m_threads:\n\u001b[0;32m--> 235\u001b[0m         \u001b[43mt\u001b[49m\u001b[38;5;241;43m.\u001b[39;49m\u001b[43mjoin\u001b[49m\u001b[43m(\u001b[49m\u001b[43m)\u001b[49m\n",
      "File \u001b[0;32m~/miniconda/envs/bayesevt_ai/lib/python3.10/threading.py:1096\u001b[0m, in \u001b[0;36mThread.join\u001b[0;34m(self, timeout)\u001b[0m\n\u001b[1;32m   1093\u001b[0m     \u001b[38;5;28;01mraise\u001b[39;00m \u001b[38;5;167;01mRuntimeError\u001b[39;00m(\u001b[38;5;124m\"\u001b[39m\u001b[38;5;124mcannot join current thread\u001b[39m\u001b[38;5;124m\"\u001b[39m)\n\u001b[1;32m   1095\u001b[0m \u001b[38;5;28;01mif\u001b[39;00m timeout \u001b[38;5;129;01mis\u001b[39;00m \u001b[38;5;28;01mNone\u001b[39;00m:\n\u001b[0;32m-> 1096\u001b[0m     \u001b[38;5;28;43mself\u001b[39;49m\u001b[38;5;241;43m.\u001b[39;49m\u001b[43m_wait_for_tstate_lock\u001b[49m\u001b[43m(\u001b[49m\u001b[43m)\u001b[49m\n\u001b[1;32m   1097\u001b[0m \u001b[38;5;28;01melse\u001b[39;00m:\n\u001b[1;32m   1098\u001b[0m     \u001b[38;5;66;03m# the behavior of a negative timeout isn't documented, but\u001b[39;00m\n\u001b[1;32m   1099\u001b[0m     \u001b[38;5;66;03m# historically .join(timeout=x) for x<0 has acted as if timeout=0\u001b[39;00m\n\u001b[1;32m   1100\u001b[0m     \u001b[38;5;28mself\u001b[39m\u001b[38;5;241m.\u001b[39m_wait_for_tstate_lock(timeout\u001b[38;5;241m=\u001b[39m\u001b[38;5;28mmax\u001b[39m(timeout, \u001b[38;5;241m0\u001b[39m))\n",
      "File \u001b[0;32m~/miniconda/envs/bayesevt_ai/lib/python3.10/threading.py:1116\u001b[0m, in \u001b[0;36mThread._wait_for_tstate_lock\u001b[0;34m(self, block, timeout)\u001b[0m\n\u001b[1;32m   1113\u001b[0m     \u001b[38;5;28;01mreturn\u001b[39;00m\n\u001b[1;32m   1115\u001b[0m \u001b[38;5;28;01mtry\u001b[39;00m:\n\u001b[0;32m-> 1116\u001b[0m     \u001b[38;5;28;01mif\u001b[39;00m \u001b[43mlock\u001b[49m\u001b[38;5;241;43m.\u001b[39;49m\u001b[43macquire\u001b[49m\u001b[43m(\u001b[49m\u001b[43mblock\u001b[49m\u001b[43m,\u001b[49m\u001b[43m \u001b[49m\u001b[43mtimeout\u001b[49m\u001b[43m)\u001b[49m:\n\u001b[1;32m   1117\u001b[0m         lock\u001b[38;5;241m.\u001b[39mrelease()\n\u001b[1;32m   1118\u001b[0m         \u001b[38;5;28mself\u001b[39m\u001b[38;5;241m.\u001b[39m_stop()\n",
      "\u001b[0;31mKeyboardInterrupt\u001b[0m: "
     ]
    }
   ],
   "source": [
    "ds = run_basic_inference(\n",
    "    time_loop, \n",
    "    n=10, \n",
    "    data_source=data_source, \n",
    "    time=datetime.datetime(2021, 8, 1)\n",
    ")"
   ]
  },
  {
   "cell_type": "code",
   "execution_count": null,
   "id": "554fba37-206e-4fd3-b49a-5f75cf48e901",
   "metadata": {},
   "outputs": [],
   "source": [
    "ds.chunk()"
   ]
  },
  {
   "cell_type": "code",
   "execution_count": null,
   "id": "c619a20f-1831-45e1-8386-896a840e7c3b",
   "metadata": {},
   "outputs": [],
   "source": []
  }
 ],
 "metadata": {
  "kernelspec": {
   "display_name": "Python [conda env:bayesevt_ai]",
   "language": "python",
   "name": "conda-env-bayesevt_ai-py"
  },
  "language_info": {
   "codemirror_mode": {
    "name": "ipython",
    "version": 3
   },
   "file_extension": ".py",
   "mimetype": "text/x-python",
   "name": "python",
   "nbconvert_exporter": "python",
   "pygments_lexer": "ipython3",
   "version": "3.10.13"
  }
 },
 "nbformat": 4,
 "nbformat_minor": 5
}
