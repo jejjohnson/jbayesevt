{
 "cells": [
  {
   "cell_type": "markdown",
   "id": "a364ed65-7846-4dbc-a21f-488e4b5e8ee0",
   "metadata": {},
   "source": [
    "# EarthMIP Trial"
   ]
  },
  {
   "cell_type": "code",
   "execution_count": 1,
   "id": "a2a42fbf-9827-4551-8075-0aac7b0cca89",
   "metadata": {},
   "outputs": [],
   "source": [
    "import datetime\n",
    "from earth2mip import inference_ensemble, registry\n",
    "from earth2mip.networks import get_model\n",
    "from earth2mip.initial_conditions import cds\n",
    "from earth2mip.inference_ensemble import run_basic_inference"
   ]
  },
  {
   "cell_type": "code",
   "execution_count": 2,
   "id": "3871167b-0503-4b00-8c11-2a537abb8cb1",
   "metadata": {},
   "outputs": [],
   "source": [
    "time_loop  = get_model(\n",
    "    model=\"e2mip://fcn\",\n",
    "    device=\"cpu\", # \"cuda:0\",\n",
    ")"
   ]
  },
  {
   "cell_type": "code",
   "execution_count": 3,
   "id": "7014b458-8d42-4b89-b8ec-6f34922f5f96",
   "metadata": {},
   "outputs": [],
   "source": [
    "# time_loop"
   ]
  },
  {
   "cell_type": "code",
   "execution_count": 4,
   "id": "0563d57d-b899-41a3-86a1-a22ddcd044d4",
   "metadata": {},
   "outputs": [
    {
     "data": {
      "text/plain": [
       "['u10m',\n",
       " 'v10m',\n",
       " 't2m',\n",
       " 'sp',\n",
       " 'msl',\n",
       " 't850',\n",
       " 'u1000',\n",
       " 'v1000',\n",
       " 'z1000',\n",
       " 'u850',\n",
       " 'v850',\n",
       " 'z850',\n",
       " 'u500',\n",
       " 'v500',\n",
       " 'z500',\n",
       " 't500',\n",
       " 'z50',\n",
       " 'r500',\n",
       " 'r850',\n",
       " 'tcwv',\n",
       " 'u100m',\n",
       " 'v100m',\n",
       " 'u250',\n",
       " 'v250',\n",
       " 'z250',\n",
       " 't250']"
      ]
     },
     "execution_count": 4,
     "metadata": {},
     "output_type": "execute_result"
    }
   ],
   "source": [
    "time_loop.in_channel_names"
   ]
  },
  {
   "cell_type": "code",
   "execution_count": 5,
   "id": "8a6edef8-2615-4afe-bcd7-e9ee97a5a391",
   "metadata": {},
   "outputs": [],
   "source": [
    "data_source = cds.DataSource(time_loop.in_channel_names)"
   ]
  },
  {
   "cell_type": "code",
   "execution_count": null,
   "id": "01e761aa-8c66-4a70-88a7-2bcd207be359",
   "metadata": {},
   "outputs": [],
   "source": []
  },
  {
   "cell_type": "code",
   "execution_count": null,
   "id": "2515f54b-1982-4583-9445-89eebd2e58e2",
   "metadata": {},
   "outputs": [
    {
     "name": "stderr",
     "output_type": "stream",
     "text": [
      "2024-02-13 11:09:57,595 INFO Welcome to the CDS\n",
      "2024-02-13 11:09:57,595 INFO Sending request to https://cds.climate.copernicus.eu/api/v2/resources/reanalysis-era5-pressure-levels\n",
      "2024-02-13 11:09:57,605 INFO Welcome to the CDS\n",
      "2024-02-13 11:09:57,606 INFO Sending request to https://cds.climate.copernicus.eu/api/v2/resources/reanalysis-era5-single-levels\n",
      "2024-02-13 11:09:57,670 INFO Request is queued\n"
     ]
    }
   ],
   "source": [
    "ds = run_basic_inference(\n",
    "    time_loop, \n",
    "    n=10, \n",
    "    data_source=data_source, \n",
    "    time=datetime.datetime(2021, 8, 1)\n",
    ")"
   ]
  },
  {
   "cell_type": "code",
   "execution_count": 3,
   "id": "554fba37-206e-4fd3-b49a-5f75cf48e901",
   "metadata": {},
   "outputs": [
    {
     "data": {
      "text/plain": [
       "<bound method ModelRegistry.list_models of <earth2mip.model_registry.ModelRegistry object at 0x7f55f4345f00>>"
      ]
     },
     "execution_count": 3,
     "metadata": {},
     "output_type": "execute_result"
    }
   ],
   "source": [
    "registry.list_models"
   ]
  },
  {
   "cell_type": "code",
   "execution_count": null,
   "id": "029b855e-dd97-4405-b0af-6038a915c35e",
   "metadata": {},
   "outputs": [],
   "source": []
  }
 ],
 "metadata": {
  "kernelspec": {
   "display_name": "Python [conda env:bayesevt_ai]",
   "language": "python",
   "name": "conda-env-bayesevt_ai-py"
  },
  "language_info": {
   "codemirror_mode": {
    "name": "ipython",
    "version": 3
   },
   "file_extension": ".py",
   "mimetype": "text/x-python",
   "name": "python",
   "nbconvert_exporter": "python",
   "pygments_lexer": "ipython3",
   "version": "3.10.13"
  }
 },
 "nbformat": 4,
 "nbformat_minor": 5
}
