{
 "cells": [
  {
   "cell_type": "markdown",
   "id": "f6a8411f-b7b5-44df-922c-388dc4757b58",
   "metadata": {},
   "source": [
    "# Data"
   ]
  },
  {
   "cell_type": "code",
   "execution_count": 2,
   "id": "54de6f98-6166-4782-b633-964538342be9",
   "metadata": {},
   "outputs": [],
   "source": [
    "import xarray as xr\n",
    "from xmip.preprocessing import combined_preprocessing\n",
    "from xmip.utils import google_cmip_col\n",
    "\n",
    "# col = google_cmip_col()"
   ]
  },
  {
   "cell_type": "code",
   "execution_count": null,
   "id": "cf924f27-e833-4f6f-9bf2-0746dc7f5418",
   "metadata": {},
   "outputs": [],
   "source": [
    "col"
   ]
  },
  {
   "cell_type": "code",
   "execution_count": 3,
   "id": "58af73c7-5fcc-4090-9ccd-0d6eb877dcc6",
   "metadata": {},
   "outputs": [
    {
     "ename": "NameError",
     "evalue": "name 'col' is not defined",
     "output_type": "error",
     "traceback": [
      "\u001b[0;31m---------------------------------------------------------------------------\u001b[0m",
      "\u001b[0;31mNameError\u001b[0m                                 Traceback (most recent call last)",
      "Cell \u001b[0;32mIn[3], line 1\u001b[0m\n\u001b[0;32m----> 1\u001b[0m cat \u001b[38;5;241m=\u001b[39m \u001b[43mcol\u001b[49m\u001b[38;5;241m.\u001b[39msearch(\n\u001b[1;32m      2\u001b[0m     source_id\u001b[38;5;241m=\u001b[39m[\u001b[38;5;124m\"\u001b[39m\u001b[38;5;124mMPI-ESM1-2-HR\u001b[39m\u001b[38;5;124m\"\u001b[39m, \u001b[38;5;124m\"\u001b[39m\u001b[38;5;124mMIROC6\u001b[39m\u001b[38;5;124m\"\u001b[39m],\n\u001b[1;32m      3\u001b[0m     variable_id\u001b[38;5;241m=\u001b[39m[\u001b[38;5;124m\"\u001b[39m\u001b[38;5;124mpr\u001b[39m\u001b[38;5;124m\"\u001b[39m, \u001b[38;5;124m\"\u001b[39m\u001b[38;5;124mtas\u001b[39m\u001b[38;5;124m\"\u001b[39m],\n\u001b[1;32m      4\u001b[0m     member_id\u001b[38;5;241m=\u001b[39m\u001b[38;5;124m\"\u001b[39m\u001b[38;5;124mr1i1p1f1\u001b[39m\u001b[38;5;124m\"\u001b[39m,  \u001b[38;5;66;03m#\u001b[39;00m\n\u001b[1;32m      5\u001b[0m     table_id\u001b[38;5;241m=\u001b[39m\u001b[38;5;124m\"\u001b[39m\u001b[38;5;124mday\u001b[39m\u001b[38;5;124m\"\u001b[39m,\n\u001b[1;32m      6\u001b[0m     grid_label\u001b[38;5;241m=\u001b[39m\u001b[38;5;124m\"\u001b[39m\u001b[38;5;124mgn\u001b[39m\u001b[38;5;124m\"\u001b[39m,\n\u001b[1;32m      7\u001b[0m     experiment_id\u001b[38;5;241m=\u001b[39m[\u001b[38;5;124m\"\u001b[39m\u001b[38;5;124mhistorical\u001b[39m\u001b[38;5;124m\"\u001b[39m, \u001b[38;5;124m\"\u001b[39m\u001b[38;5;124mssp126\u001b[39m\u001b[38;5;124m\"\u001b[39m, \u001b[38;5;124m\"\u001b[39m\u001b[38;5;124mssp245\u001b[39m\u001b[38;5;124m\"\u001b[39m, \u001b[38;5;124m\"\u001b[39m\u001b[38;5;124mssp585\u001b[39m\u001b[38;5;124m\"\u001b[39m],\n\u001b[1;32m      8\u001b[0m     require_all_on\u001b[38;5;241m=\u001b[39m[\u001b[38;5;124m\"\u001b[39m\u001b[38;5;124mexperiment_id\u001b[39m\u001b[38;5;124m\"\u001b[39m, \u001b[38;5;124m\"\u001b[39m\u001b[38;5;124mvariable_id\u001b[39m\u001b[38;5;124m\"\u001b[39m],\n\u001b[1;32m      9\u001b[0m )\n\u001b[1;32m     10\u001b[0m kwargs \u001b[38;5;241m=\u001b[39m \u001b[38;5;28mdict\u001b[39m(\n\u001b[1;32m     11\u001b[0m     preprocess\u001b[38;5;241m=\u001b[39mcombined_preprocessing, xarray_open_kwargs\u001b[38;5;241m=\u001b[39m\u001b[38;5;28mdict\u001b[39m(use_cftime\u001b[38;5;241m=\u001b[39m\u001b[38;5;28;01mTrue\u001b[39;00m)\n\u001b[1;32m     12\u001b[0m )\n\u001b[1;32m     13\u001b[0m ds_dict \u001b[38;5;241m=\u001b[39m cat\u001b[38;5;241m.\u001b[39mto_dataset_dict(zarr_kwargs\u001b[38;5;241m=\u001b[39m{\u001b[38;5;124m\"\u001b[39m\u001b[38;5;124mconsolidated\u001b[39m\u001b[38;5;124m\"\u001b[39m: \u001b[38;5;28;01mTrue\u001b[39;00m})\n",
      "\u001b[0;31mNameError\u001b[0m: name 'col' is not defined"
     ]
    }
   ],
   "source": [
    "cat = col.search(\n",
    "    source_id=[\"MPI-ESM1-2-HR\", \"MIROC6\"],\n",
    "    variable_id=[\"pr\", \"tas\"],\n",
    "    member_id=\"r1i1p1f1\",  #\n",
    "    table_id=\"day\",\n",
    "    grid_label=\"gn\",\n",
    "    experiment_id=[\"historical\", \"ssp126\", \"ssp245\", \"ssp585\"],\n",
    "    require_all_on=[\"experiment_id\", \"variable_id\"],\n",
    ")\n",
    "kwargs = dict(\n",
    "    preprocess=combined_preprocessing, xarray_open_kwargs=dict(use_cftime=True)\n",
    ")\n",
    "ds_dict = cat.to_dataset_dict(zarr_kwargs={\"consolidated\": True})"
   ]
  },
  {
   "cell_type": "code",
   "execution_count": null,
   "id": "854a6899-2367-41bf-974c-ee075e2ce7aa",
   "metadata": {},
   "outputs": [],
   "source": [
    "sel_Hamburg = dict(lon=10, lat=53.5)\n",
    "sel_Madrid = dict(lon=360 - 42, lat=40.5)\n",
    "sel_Delhi = dict(lon=77, lat=28.5)\n",
    "sel_Kinshasa = dict(lon=15, lat=-4)\n",
    "sel_Phoenix = dict(lon=360 - 112, lat=33.5)\n",
    "sel_Sydney = dict(lon=151, lat=-33.85)\n",
    "\n",
    "sels = dict(\n",
    "    Hamburg=sel_Hamburg,\n",
    "    Madrid=sel_Madrid,\n",
    "    Delhi=sel_Delhi,\n",
    "    Kinshasa=sel_Kinshasa,\n",
    "    Phoenix=sel_Phoenix,\n",
    "    Sydney=sel_Sydney,\n",
    ")"
   ]
  }
 ],
 "metadata": {
  "kernelspec": {
   "display_name": "Python [conda env:bayesevt_ai]",
   "language": "python",
   "name": "conda-env-bayesevt_ai-py"
  },
  "language_info": {
   "codemirror_mode": {
    "name": "ipython",
    "version": 3
   },
   "file_extension": ".py",
   "mimetype": "text/x-python",
   "name": "python",
   "nbconvert_exporter": "python",
   "pygments_lexer": "ipython3",
   "version": "3.10.13"
  }
 },
 "nbformat": 4,
 "nbformat_minor": 5
}
