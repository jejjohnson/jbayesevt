{
 "cells": [
  {
   "cell_type": "markdown",
   "id": "f6a8411f-b7b5-44df-922c-388dc4757b58",
   "metadata": {},
   "source": [
    "# Data"
   ]
  },
  {
   "cell_type": "code",
   "execution_count": 1,
   "id": "54de6f98-6166-4782-b633-964538342be9",
   "metadata": {},
   "outputs": [],
   "source": [
    "import xarray as xr\n",
    "from xmip.preprocessing import combined_preprocessing\n",
    "from xmip.utils import google_cmip_col\n",
    "\n",
    "col = google_cmip_col()"
   ]
  },
  {
   "cell_type": "code",
   "execution_count": 2,
   "id": "58af73c7-5fcc-4090-9ccd-0d6eb877dcc6",
   "metadata": {},
   "outputs": [
    {
     "name": "stdout",
     "output_type": "stream",
     "text": [
      "\n",
      "--> The keys in the returned dictionary of datasets are constructed as follows:\n",
      "\t'activity_id.institution_id.source_id.experiment_id.table_id.grid_label'\n"
     ]
    },
    {
     "data": {
      "text/html": [
       "\n",
       "<style>\n",
       "    /* Turns off some styling */\n",
       "    progress {\n",
       "        /* gets rid of default border in Firefox and Opera. */\n",
       "        border: none;\n",
       "        /* Needs to be in here for Safari polyfill so background images work as expected. */\n",
       "        background-size: auto;\n",
       "    }\n",
       "    progress:not([value]), progress:not([value])::-webkit-progress-bar {\n",
       "        background: repeating-linear-gradient(45deg, #7e7e7e, #7e7e7e 10px, #5c5c5c 10px, #5c5c5c 20px);\n",
       "    }\n",
       "    .progress-bar-interrupted, .progress-bar-interrupted::-webkit-progress-bar {\n",
       "        background: #F44336;\n",
       "    }\n",
       "</style>\n"
      ],
      "text/plain": [
       "<IPython.core.display.HTML object>"
      ]
     },
     "metadata": {},
     "output_type": "display_data"
    },
    {
     "data": {
      "text/html": [
       "\n",
       "    <div>\n",
       "      <progress value='8' class='' max='8' style='width:300px; height:20px; vertical-align: middle;'></progress>\n",
       "      100.00% [8/8 00:12&lt;00:00]\n",
       "    </div>\n",
       "    "
      ],
      "text/plain": [
       "<IPython.core.display.HTML object>"
      ]
     },
     "metadata": {},
     "output_type": "display_data"
    }
   ],
   "source": [
    "cat = col.search(\n",
    "    source_id=[\"MPI-ESM1-2-HR\", \"MIROC6\"],\n",
    "    variable_id=[\"pr\", \"tas\"],\n",
    "    member_id=\"r1i1p1f1\",  #\n",
    "    table_id=\"day\",\n",
    "    grid_label=\"gn\",\n",
    "    experiment_id=[\"historical\", \"ssp126\", \"ssp245\", \"ssp585\"],\n",
    "    require_all_on=[\"experiment_id\", \"variable_id\"],\n",
    ")\n",
    "kwargs = dict(\n",
    "    preprocess=combined_preprocessing, xarray_open_kwargs=dict(use_cftime=True)\n",
    ")\n",
    "ds_dict = cat.to_dataset_dict(zarr_kwargs={\"consolidated\": True})"
   ]
  },
  {
   "cell_type": "code",
   "execution_count": 5,
   "id": "03128547-d320-4390-8b75-3fcc57092b0f",
   "metadata": {},
   "outputs": [
    {
     "data": {
      "text/plain": [
       "dict_keys(['ScenarioMIP.MIROC.MIROC6.ssp245.day.gn', 'ScenarioMIP.MIROC.MIROC6.ssp126.day.gn', 'ScenarioMIP.DKRZ.MPI-ESM1-2-HR.ssp245.day.gn', 'ScenarioMIP.MIROC.MIROC6.ssp585.day.gn', 'ScenarioMIP.DKRZ.MPI-ESM1-2-HR.ssp126.day.gn', 'ScenarioMIP.DKRZ.MPI-ESM1-2-HR.ssp585.day.gn', 'CMIP.MPI-M.MPI-ESM1-2-HR.historical.day.gn', 'CMIP.MIROC.MIROC6.historical.day.gn'])"
      ]
     },
     "execution_count": 5,
     "metadata": {},
     "output_type": "execute_result"
    }
   ],
   "source": [
    "(ds_dict.keys())"
   ]
  },
  {
   "cell_type": "code",
   "execution_count": null,
   "id": "854a6899-2367-41bf-974c-ee075e2ce7aa",
   "metadata": {},
   "outputs": [],
   "source": [
    "sel_Hamburg = dict(lon=10, lat=53.5)\n",
    "sel_Madrid = dict(lon=360 - 42, lat=40.5)\n",
    "sel_Delhi = dict(lon=77, lat=28.5)\n",
    "sel_Kinshasa = dict(lon=15, lat=-4)\n",
    "sel_Phoenix = dict(lon=360 - 112, lat=33.5)\n",
    "sel_Sydney = dict(lon=151, lat=-33.85)\n",
    "\n",
    "sels = dict(\n",
    "    Hamburg=sel_Hamburg,\n",
    "    Madrid=sel_Madrid,\n",
    "    Delhi=sel_Delhi,\n",
    "    Kinshasa=sel_Kinshasa,\n",
    "    Phoenix=sel_Phoenix,\n",
    "    Sydney=sel_Sydney,\n",
    ")"
   ]
  }
 ],
 "metadata": {
  "kernelspec": {
   "display_name": "Python [conda env:bayesevt_ai]",
   "language": "python",
   "name": "conda-env-bayesevt_ai-py"
  },
  "language_info": {
   "codemirror_mode": {
    "name": "ipython",
    "version": 3
   },
   "file_extension": ".py",
   "mimetype": "text/x-python",
   "name": "python",
   "nbconvert_exporter": "python",
   "pygments_lexer": "ipython3",
   "version": "3.10.13"
  }
 },
 "nbformat": 4,
 "nbformat_minor": 5
}
