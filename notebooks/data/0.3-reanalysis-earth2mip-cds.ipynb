{
 "cells": [
  {
   "cell_type": "markdown",
   "id": "5794ae35-a2ca-46bf-9151-53c84ffc848c",
   "metadata": {},
   "source": [
    "# Download Data"
   ]
  },
  {
   "cell_type": "code",
   "execution_count": 1,
   "id": "be115f46-0d1b-4323-9076-1f0f67f3f8fa",
   "metadata": {},
   "outputs": [],
   "source": [
    "import autoroot\n",
    "import ee\n",
    "import xarray as xr\n",
    "import cdsapi\n",
    "import climetlab as cml\n",
    "from pathlib import Path\n",
    "import pprint\n",
    "from bayesevt._src.data.era5.ops import parse_single_levels, parse_pressure_levels, parse_all_variables\n",
    "from bayesevt._src.models.earth2mip import EARTH2MIP_MODEL_VARIABLES\n",
    "\n",
    "%load_ext autoreload\n",
    "%autoreload 2"
   ]
  },
  {
   "cell_type": "markdown",
   "id": "d8e0a120-071c-43e6-b9f0-3e9964902dd9",
   "metadata": {},
   "source": [
    "## Single Levels"
   ]
  },
  {
   "cell_type": "markdown",
   "id": "b72a6b4e-5121-462b-9526-3a0415812868",
   "metadata": {},
   "source": [
    "## Case I: Explicit Variables Names\n",
    "\n",
    "In this case, we have explicit variable names from the model. \n",
    "Typically, there is some sense with how these work.\n",
    "\n",
    "**Single Level Variables**. We have explicit surface variables which have a specific name.\n",
    "\n",
    "**Pressure Level Variables**. We have some explicit pressure level variables with a specific name as a *single character* and an associated pressure level."
   ]
  },
  {
   "cell_type": "code",
   "execution_count": 2,
   "id": "36ab0969-286a-4db6-876a-4dcfaf534704",
   "metadata": {},
   "outputs": [],
   "source": [
    "# channel_names = VARIABLES[\"fcnv2_sm\"]\n",
    "channels = list(set(EARTH2MIP_MODEL_VARIABLES[\"pangu\"] + EARTH2MIP_MODEL_VARIABLES[\"fcnv2_sm\"]))\n"
   ]
  },
  {
   "cell_type": "code",
   "execution_count": 3,
   "id": "63d66ace-1914-4386-aba0-132d0691311c",
   "metadata": {},
   "outputs": [],
   "source": [
    "# parse single level variables\n",
    "sl_variables = parse_single_levels(channels)\n",
    "\n",
    "# parse pressure level variables\n",
    "pl_variables = parse_pressure_levels(channels)"
   ]
  },
  {
   "cell_type": "code",
   "execution_count": 4,
   "id": "da5b5553-7e8b-4aa9-a34f-3b68ed9bb5c0",
   "metadata": {},
   "outputs": [
    {
     "data": {
      "text/plain": [
       "{'q', 'r', 't', 'u', 'v', 'z'}"
      ]
     },
     "execution_count": 4,
     "metadata": {},
     "output_type": "execute_result"
    }
   ],
   "source": [
    "set(map(lambda x: x.short_name, pl_variables))"
   ]
  },
  {
   "cell_type": "markdown",
   "id": "d69124f1-ad80-41f5-ab34-21b4581dee18",
   "metadata": {},
   "source": [
    "#### Test Case\n",
    "\n",
    "> this is a simple test case for the doc strings"
   ]
  },
  {
   "cell_type": "code",
   "execution_count": 5,
   "id": "210acb0f-f3e7-4712-a656-540488bc8b1c",
   "metadata": {},
   "outputs": [],
   "source": [
    "from bayesevt._src.dtypes.time import Time\n",
    "from bayesevt._src.dtypes.grid import Grid, RES025\n",
    "from bayesevt._src.dtypes.region import Region, GLOBE\n",
    "from bayesevt._src.data.era5.download import (\n",
    "    create_request_single_level, \n",
    "    create_request_pressure_level,\n",
    "    create_request_single_level_multi,\n",
    "    create_request_pressure_level_multi\n",
    ")"
   ]
  },
  {
   "cell_type": "code",
   "execution_count": 6,
   "id": "20b436c2-47e5-4be0-b6a0-5f9111050cd4",
   "metadata": {},
   "outputs": [],
   "source": [
    "import datetime\n",
    "\n",
    "client = None\n",
    "d = None"
   ]
  },
  {
   "cell_type": "markdown",
   "id": "49982238-2d4e-4723-a0d2-9a4d706f2b89",
   "metadata": {},
   "source": [
    "#### Hint: Stripping Time"
   ]
  },
  {
   "cell_type": "code",
   "execution_count": 17,
   "id": "f5e72dfd-6c33-4a78-b4dc-20331ef9aeba",
   "metadata": {},
   "outputs": [],
   "source": [
    "import pandas as pd\n",
    "from dateutil.parser import parse"
   ]
  },
  {
   "cell_type": "code",
   "execution_count": 18,
   "id": "f1617d8f-9773-4e8f-92d5-37df169bb898",
   "metadata": {},
   "outputs": [
    {
     "data": {
      "text/plain": [
       "datetime.datetime(2021, 8, 1, 0, 0)"
      ]
     },
     "execution_count": 18,
     "metadata": {},
     "output_type": "execute_result"
    }
   ],
   "source": [
    "parse(time_str)"
   ]
  },
  {
   "cell_type": "code",
   "execution_count": null,
   "id": "961720b0-038e-4f03-bc22-94eb9f7bebfb",
   "metadata": {},
   "outputs": [],
   "source": []
  },
  {
   "cell_type": "code",
   "execution_count": 28,
   "id": "37b6d6fe-48b4-471c-ae10-ceaa9dcd460d",
   "metadata": {},
   "outputs": [
    {
     "name": "stdout",
     "output_type": "stream",
     "text": [
      "Time(datetime=datetime.datetime(2021, 8, 1, 0, 0))\n",
      "Time(datetime=datetime.datetime(2021, 8, 1, 0, 0))\n"
     ]
    }
   ],
   "source": [
    "time_str = \"2021-08-01\"\n",
    "time = Time.from_explicit_units(year=2021, month=8, day=1)\n",
    "print(time)\n",
    "time = Time.from_datetime_str(time_str)\n",
    "print(time)\n",
    "format = \"netcdf\""
   ]
  },
  {
   "cell_type": "code",
   "execution_count": 12,
   "id": "aa92187d-3c3f-4327-a607-fc1aa6b02c20",
   "metadata": {},
   "outputs": [
    {
     "data": {
      "text/plain": [
       "Timestamp('2021-08-01 00:00:00')"
      ]
     },
     "execution_count": 12,
     "metadata": {},
     "output_type": "execute_result"
    }
   ],
   "source": [
    "pd.Timestamp(time_str)"
   ]
  },
  {
   "cell_type": "code",
   "execution_count": 10,
   "id": "c05b28e8-8f08-42db-854c-94e830fc6d42",
   "metadata": {},
   "outputs": [
    {
     "name": "stdout",
     "output_type": "stream",
     "text": [
      "{'area': (90, -180, -90, 180),\n",
      " 'day': ['01'],\n",
      " 'format': 'netcdf',\n",
      " 'grid': (0.25, 0.25),\n",
      " 'month': ['08'],\n",
      " 'param': '228247/228246/151/134/165/137/167/166',\n",
      " 'product_type': 'reanalysis',\n",
      " 'time': ['00:00'],\n",
      " 'year': ['2021']}\n"
     ]
    },
    {
     "data": {
      "text/plain": [
       "('reanalysis-era5-single-levels', None, 'reanalysis-202108010000-sl.nc')"
      ]
     },
     "execution_count": 10,
     "metadata": {},
     "output_type": "execute_result"
    }
   ],
   "source": [
    "# create request\n",
    "\n",
    "dataset, request, save_name = create_request_single_level_multi(\n",
    "    sl_variables, \n",
    "    time=time,\n",
    "    region=GLOBE,\n",
    "    grid=RES025,\n",
    "    save_format=\"netcdf\"\n",
    "    \n",
    ")\n",
    "dataset, pprint.pprint(request), save_name"
   ]
  },
  {
   "cell_type": "code",
   "execution_count": 9,
   "id": "2cbb06c5-57a0-4f29-a04e-aa7a78445cd9",
   "metadata": {},
   "outputs": [
    {
     "data": {
      "text/plain": [
       "['tcwv', 'v10', 'sp', 'u100', 'v100', 't2m', 'msl', 'u10']"
      ]
     },
     "execution_count": 9,
     "metadata": {},
     "output_type": "execute_result"
    }
   ],
   "source": [
    "from bayesevt._src.data.era5.variables import VARIABLE_CODES\n",
    "vars = list(map(lambda x: VARIABLE_CODES[int(x)]().short_name, request[\"param\"].split(\"/\")))\n",
    "vars"
   ]
  },
  {
   "cell_type": "code",
   "execution_count": 10,
   "id": "b102ef43-8313-401c-a3a0-1bd521c2abf7",
   "metadata": {},
   "outputs": [
    {
     "name": "stderr",
     "output_type": "stream",
     "text": [
      "2024-02-23 19:35:53,151 INFO Welcome to the CDS\n",
      "2024-02-23 19:35:53,151 INFO Sending request to https://cds.climate.copernicus.eu/api/v2/resources/reanalysis-era5-single-levels\n",
      "2024-02-23 19:35:53,231 INFO Request is queued\n"
     ]
    },
    {
     "ename": "KeyboardInterrupt",
     "evalue": "",
     "output_type": "error",
     "traceback": [
      "\u001b[0;31m---------------------------------------------------------------------------\u001b[0m",
      "\u001b[0;31mKeyboardInterrupt\u001b[0m                         Traceback (most recent call last)",
      "Cell \u001b[0;32mIn[10], line 4\u001b[0m\n\u001b[1;32m      2\u001b[0m save_dir \u001b[38;5;241m=\u001b[39m \u001b[38;5;124m\"\u001b[39m\u001b[38;5;124m/pool/proyectos/CLINT/sa4attrs/data/raw/events\u001b[39m\u001b[38;5;124m\"\u001b[39m\n\u001b[1;32m      3\u001b[0m save_path \u001b[38;5;241m=\u001b[39m Path(save_dir)\u001b[38;5;241m.\u001b[39mjoinpath(save_name)\n\u001b[0;32m----> 4\u001b[0m \u001b[43mc\u001b[49m\u001b[38;5;241;43m.\u001b[39;49m\u001b[43mretrieve\u001b[49m\u001b[43m(\u001b[49m\u001b[43mdataset\u001b[49m\u001b[43m,\u001b[49m\u001b[43m \u001b[49m\u001b[43mrequest\u001b[49m\u001b[43m,\u001b[49m\u001b[43m \u001b[49m\u001b[43msave_path\u001b[49m\u001b[43m)\u001b[49m \n",
      "File \u001b[0;32m~/miniconda/envs/bayesevt_ai/lib/python3.10/site-packages/cdsapi/api.py:364\u001b[0m, in \u001b[0;36mClient.retrieve\u001b[0;34m(self, name, request, target)\u001b[0m\n\u001b[1;32m    363\u001b[0m \u001b[38;5;28;01mdef\u001b[39;00m \u001b[38;5;21mretrieve\u001b[39m(\u001b[38;5;28mself\u001b[39m, name, request, target\u001b[38;5;241m=\u001b[39m\u001b[38;5;28;01mNone\u001b[39;00m):\n\u001b[0;32m--> 364\u001b[0m     result \u001b[38;5;241m=\u001b[39m \u001b[38;5;28;43mself\u001b[39;49m\u001b[38;5;241;43m.\u001b[39;49m\u001b[43m_api\u001b[49m\u001b[43m(\u001b[49m\u001b[38;5;124;43m\"\u001b[39;49m\u001b[38;5;132;43;01m%s\u001b[39;49;00m\u001b[38;5;124;43m/resources/\u001b[39;49m\u001b[38;5;132;43;01m%s\u001b[39;49;00m\u001b[38;5;124;43m\"\u001b[39;49m\u001b[43m \u001b[49m\u001b[38;5;241;43m%\u001b[39;49m\u001b[43m \u001b[49m\u001b[43m(\u001b[49m\u001b[38;5;28;43mself\u001b[39;49m\u001b[38;5;241;43m.\u001b[39;49m\u001b[43murl\u001b[49m\u001b[43m,\u001b[49m\u001b[43m \u001b[49m\u001b[43mname\u001b[49m\u001b[43m)\u001b[49m\u001b[43m,\u001b[49m\u001b[43m \u001b[49m\u001b[43mrequest\u001b[49m\u001b[43m,\u001b[49m\u001b[43m \u001b[49m\u001b[38;5;124;43m\"\u001b[39;49m\u001b[38;5;124;43mPOST\u001b[39;49m\u001b[38;5;124;43m\"\u001b[39;49m\u001b[43m)\u001b[49m\n\u001b[1;32m    365\u001b[0m     \u001b[38;5;28;01mif\u001b[39;00m target \u001b[38;5;129;01mis\u001b[39;00m \u001b[38;5;129;01mnot\u001b[39;00m \u001b[38;5;28;01mNone\u001b[39;00m:\n\u001b[1;32m    366\u001b[0m         result\u001b[38;5;241m.\u001b[39mdownload(target)\n",
      "File \u001b[0;32m~/miniconda/envs/bayesevt_ai/lib/python3.10/site-packages/cdsapi/api.py:492\u001b[0m, in \u001b[0;36mClient._api\u001b[0;34m(self, url, request, method)\u001b[0m\n\u001b[1;32m    489\u001b[0m rid \u001b[38;5;241m=\u001b[39m reply[\u001b[38;5;124m\"\u001b[39m\u001b[38;5;124mrequest_id\u001b[39m\u001b[38;5;124m\"\u001b[39m]\n\u001b[1;32m    491\u001b[0m \u001b[38;5;28mself\u001b[39m\u001b[38;5;241m.\u001b[39mdebug(\u001b[38;5;124m\"\u001b[39m\u001b[38;5;124mRequest ID is \u001b[39m\u001b[38;5;132;01m%s\u001b[39;00m\u001b[38;5;124m, sleep \u001b[39m\u001b[38;5;132;01m%s\u001b[39;00m\u001b[38;5;124m\"\u001b[39m, rid, sleep)\n\u001b[0;32m--> 492\u001b[0m \u001b[43mtime\u001b[49m\u001b[38;5;241;43m.\u001b[39;49m\u001b[43msleep\u001b[49m\u001b[43m(\u001b[49m\u001b[43msleep\u001b[49m\u001b[43m)\u001b[49m\n\u001b[1;32m    493\u001b[0m sleep \u001b[38;5;241m*\u001b[39m\u001b[38;5;241m=\u001b[39m \u001b[38;5;241m1.5\u001b[39m\n\u001b[1;32m    494\u001b[0m \u001b[38;5;28;01mif\u001b[39;00m sleep \u001b[38;5;241m>\u001b[39m \u001b[38;5;28mself\u001b[39m\u001b[38;5;241m.\u001b[39msleep_max:\n",
      "\u001b[0;31mKeyboardInterrupt\u001b[0m: "
     ]
    }
   ],
   "source": [
    "c = cdsapi.Client()\n",
    "save_dir = \"/pool/proyectos/CLINT/sa4attrs/data/raw/events\"\n",
    "save_path = Path(save_dir).joinpath(save_name)\n",
    "c.retrieve(dataset, request, save_path) "
   ]
  },
  {
   "cell_type": "markdown",
   "id": "0bc7576b-2f8f-4c7f-b953-b2e60439841d",
   "metadata": {},
   "source": [
    "#### **Example**: Download - Single Variable, Multiple Pressure Levels\n",
    "\n",
    "In this example, we download a single variable at multiple pressure levels."
   ]
  },
  {
   "cell_type": "markdown",
   "id": "001222ba-4175-42d3-a8a0-124c80e09085",
   "metadata": {},
   "source": [
    "#### **Example**: Download - Multiple Variables, Multiple Pressure Levels"
   ]
  },
  {
   "cell_type": "code",
   "execution_count": 10,
   "id": "c3f59cac-b040-4753-bbf4-f8be691cc2ee",
   "metadata": {},
   "outputs": [
    {
     "name": "stdout",
     "output_type": "stream",
     "text": [
      "{'area': (90, -180, -90, 180),\n",
      " 'day': ['01'],\n",
      " 'format': 'netcdf',\n",
      " 'grid': (0.25, 0.25),\n",
      " 'month': ['08'],\n",
      " 'param': '157/133/131/130/129/132',\n",
      " 'pressure_level': [100,\n",
      "                    200,\n",
      "                    1000,\n",
      "                    300,\n",
      "                    400,\n",
      "                    50,\n",
      "                    850,\n",
      "                    500,\n",
      "                    150,\n",
      "                    600,\n",
      "                    250,\n",
      "                    700,\n",
      "                    925],\n",
      " 'product_type': 'reanalysis',\n",
      " 'time': ['00:00'],\n",
      " 'year': ['2021']}\n"
     ]
    },
    {
     "data": {
      "text/plain": [
       "(None, 'reanalysis-202108010000-pl.nc')"
      ]
     },
     "execution_count": 10,
     "metadata": {},
     "output_type": "execute_result"
    }
   ],
   "source": [
    "dataset, request, save_name = create_request_pressure_level_multi(\n",
    "    codes=pl_variables, \n",
    "    time=time, \n",
    "    save_format=\"netcdf\",\n",
    ")\n",
    "pprint.pprint(request), save_name"
   ]
  },
  {
   "cell_type": "code",
   "execution_count": 11,
   "id": "c86bf23e-b4f9-423c-a04f-c1efba476eab",
   "metadata": {},
   "outputs": [
    {
     "data": {
      "text/plain": [
       "['r', 'q', 'u', 't', 'z', 'v']"
      ]
     },
     "execution_count": 11,
     "metadata": {},
     "output_type": "execute_result"
    }
   ],
   "source": [
    "from bayesevt._src.data.era5.variables import VARIABLE_CODES\n",
    "vars = list(map(lambda x: VARIABLE_CODES[int(x)]().short_name, request[\"param\"].split(\"/\")))\n",
    "vars"
   ]
  },
  {
   "cell_type": "code",
   "execution_count": null,
   "id": "3c40d55f-145e-479e-8875-a08bb9c21ca0",
   "metadata": {},
   "outputs": [],
   "source": []
  },
  {
   "cell_type": "code",
   "execution_count": null,
   "id": "f0de1b4d-b539-4918-b61e-f5a9072a54cd",
   "metadata": {},
   "outputs": [
    {
     "name": "stderr",
     "output_type": "stream",
     "text": [
      "2024-02-23 19:36:20,804 INFO Welcome to the CDS\n",
      "2024-02-23 19:36:20,805 INFO Sending request to https://cds.climate.copernicus.eu/api/v2/resources/reanalysis-era5-pressure-levels\n",
      "2024-02-23 19:36:20,870 INFO Request is queued\n"
     ]
    }
   ],
   "source": [
    "c = cdsapi.Client()\n",
    "save_dir = \"/pool/proyectos/CLINT/sa4attrs/data/raw/events\"\n",
    "save_path = Path(save_dir).joinpath(save_name)\n",
    "c.retrieve(dataset, request, save_name) "
   ]
  },
  {
   "cell_type": "markdown",
   "id": "17974b8b-0dfb-42a4-9395-5a126316c531",
   "metadata": {},
   "source": [
    "## HACKY DATA"
   ]
  },
  {
   "cell_type": "code",
   "execution_count": null,
   "id": "7e77d29a-e0f3-4b74-9def-1e2f70fe2289",
   "metadata": {},
   "outputs": [],
   "source": [
    "save_path = Path(\"/pool/proyectos/CLINT/sa4attrs/data/raw/events/\")\n",
    "netcdf_files = [\n",
    "    save_path.joinpath(\"reanalysis-201808010000-sl.nc\"),\n",
    "    save_path.joinpath(\"reanalysis-201808010000-pl.nc\")\n",
    "]\n",
    "\n",
    "ds = xr.open_mfdataset(netcdf_files, combine=\"by_coords\", engine=\"netcdf4\")\n",
    "ds.to_netcdf(save_path.joinpath(\"reanalysis-201808010000.nc\"), engine=\"netcdf4\")\n",
    "ds = xr.open_dataset(save_path.joinpath(\"reanalysis-201808010000.nc\"))"
   ]
  },
  {
   "cell_type": "code",
   "execution_count": null,
   "id": "3b0ba966-1b9c-4ff3-8c94-adba785d2236",
   "metadata": {},
   "outputs": [],
   "source": [
    "ds"
   ]
  },
  {
   "cell_type": "code",
   "execution_count": null,
   "id": "8ee6fdf9-2771-4017-b004-07f3da00a3a5",
   "metadata": {},
   "outputs": [],
   "source": []
  }
 ],
 "metadata": {
  "kernelspec": {
   "display_name": "Python [conda env:bayesevt_ai]",
   "language": "python",
   "name": "conda-env-bayesevt_ai-py"
  },
  "language_info": {
   "codemirror_mode": {
    "name": "ipython",
    "version": 3
   },
   "file_extension": ".py",
   "mimetype": "text/x-python",
   "name": "python",
   "nbconvert_exporter": "python",
   "pygments_lexer": "ipython3",
   "version": "3.10.13"
  }
 },
 "nbformat": 4,
 "nbformat_minor": 5
}
