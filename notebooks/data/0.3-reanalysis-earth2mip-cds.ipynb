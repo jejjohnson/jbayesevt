{
 "cells": [
  {
   "cell_type": "markdown",
   "id": "27b055c7",
   "metadata": {},
   "source": [
    "# Download Data"
   ]
  },
  {
   "cell_type": "code",
   "execution_count": 1,
   "id": "9b1602c1",
   "metadata": {},
   "outputs": [],
   "source": [
    "import autoroot\n",
    "import ee\n",
    "import xarray as xr\n",
    "import cdsapi\n",
    "import climetlab as cml\n",
    "from pathlib import Path\n",
    "import pprint\n",
    "from bayesevt._src.data.era5.ops import parse_single_levels, parse_pressure_levels, parse_all_variables\n",
    "from bayesevt._src.models.earth2mip import EARTH2MIP_MODEL_VARIABLES\n",
    "\n",
    "%load_ext autoreload\n",
    "%autoreload 2"
   ]
  },
  {
   "cell_type": "markdown",
   "id": "2396792a",
   "metadata": {},
   "source": [
    "## Single Levels"
   ]
  },
  {
   "cell_type": "markdown",
   "id": "cca13c48",
   "metadata": {},
   "source": [
    "## Case I: Explicit Variables Names\n",
    "\n",
    "In this case, we have explicit variable names from the model. \n",
    "Typically, there is some sense with how these work.\n",
    "\n",
    "**Single Level Variables**. We have explicit surface variables which have a specific name.\n",
    "\n",
    "**Pressure Level Variables**. We have some explicit pressure level variables with a specific name as a *single character* and an associated pressure level."
   ]
  },
  {
   "cell_type": "code",
   "execution_count": 2,
   "id": "58e50361",
   "metadata": {},
   "outputs": [],
   "source": [
    "# channel_names = VARIABLES[\"fcnv2_sm\"]\n",
    "channels = list(set(EARTH2MIP_MODEL_VARIABLES[\"pangu\"] + EARTH2MIP_MODEL_VARIABLES[\"fcnv2_sm\"]))\n"
   ]
  },
  {
   "cell_type": "code",
   "execution_count": 3,
   "id": "34529bcd",
   "metadata": {},
   "outputs": [],
   "source": [
    "# parse single level variables\n",
    "sl_variables = parse_single_levels(channels)\n",
    "\n",
    "# parse pressure level variables\n",
    "pl_variables = parse_pressure_levels(channels)"
   ]
  },
  {
   "cell_type": "code",
   "execution_count": 4,
   "id": "2a2bcfb7",
   "metadata": {},
   "outputs": [
    {
     "data": {
      "text/plain": [
       "{'q', 'r', 't', 'u', 'v', 'z'}"
      ]
     },
     "execution_count": 4,
     "metadata": {},
     "output_type": "execute_result"
    }
   ],
   "source": [
    "set(map(lambda x: x.short_name, pl_variables))"
   ]
  },
  {
   "cell_type": "markdown",
   "id": "a0d88d32",
   "metadata": {},
   "source": [
    "#### Test Case\n",
    "\n",
    "> this is a simple test case for the doc strings"
   ]
  },
  {
   "cell_type": "code",
   "execution_count": 5,
   "id": "4946e960",
   "metadata": {},
   "outputs": [],
   "source": [
    "from bayesevt._src.dtypes.time import Time\n",
    "from bayesevt._src.dtypes.grid import Grid, RES025\n",
    "from bayesevt._src.dtypes.region import Region, GLOBE\n",
    "from bayesevt._src.data.era5.download import (\n",
    "    create_request_single_level, \n",
    "    create_request_pressure_level,\n",
    "    create_request_single_level_multi,\n",
    "    create_request_pressure_level_multi\n",
    ")"
   ]
  },
  {
   "cell_type": "code",
   "execution_count": 6,
   "id": "fe3cd208",
   "metadata": {},
   "outputs": [],
   "source": [
    "import datetime\n",
    "\n",
    "client = None\n",
    "d = None"
   ]
  },
  {
   "cell_type": "markdown",
   "id": "6821b93c",
   "metadata": {},
   "source": [
    "#### Hint: Stripping Time"
   ]
  },
  {
   "cell_type": "code",
   "execution_count": 7,
   "id": "3cc5cf89",
   "metadata": {},
   "outputs": [],
   "source": [
    "time = Time(year=2021, month=8, day=1)\n",
    "format = \"netcdf\""
   ]
  },
  {
   "cell_type": "code",
   "execution_count": 8,
   "id": "8f36ca45",
   "metadata": {},
   "outputs": [
    {
     "name": "stdout",
     "output_type": "stream",
     "text": [
      "{'area': (90, -180, -90, 180),\n",
      " 'day': ['01'],\n",
      " 'format': 'netcdf',\n",
      " 'grid': (0.25, 0.25),\n",
      " 'month': ['08'],\n",
      " 'param': '137/166/134/228246/228247/167/151/165',\n",
      " 'product_type': 'reanalysis',\n",
      " 'time': ['00:00'],\n",
      " 'year': ['2021']}\n"
     ]
    },
    {
     "data": {
      "text/plain": [
       "('reanalysis-era5-single-levels', None, 'reanalysis-202108010000-sl.nc')"
      ]
     },
     "execution_count": 8,
     "metadata": {},
     "output_type": "execute_result"
    }
   ],
   "source": [
    "# create request\n",
    "\n",
    "dataset, request, save_name = create_request_single_level_multi(\n",
    "    sl_variables, \n",
    "    time=time,\n",
    "    region=GLOBE,\n",
    "    grid=RES025,\n",
    "    save_format=\"netcdf\"\n",
    "    \n",
    ")\n",
    "dataset, pprint.pprint(request), save_name"
   ]
  },
  {
   "cell_type": "code",
   "execution_count": 9,
   "id": "f2a063f5",
   "metadata": {},
   "outputs": [
    {
     "data": {
      "text/plain": [
       "['tcwv', 'v10', 'sp', 'u100', 'v100', 't2m', 'msl', 'u10']"
      ]
     },
     "execution_count": 9,
     "metadata": {},
     "output_type": "execute_result"
    }
   ],
   "source": [
    "from bayesevt._src.data.era5.variables import VARIABLE_CODES\n",
    "vars = list(map(lambda x: VARIABLE_CODES[int(x)]().short_name, request[\"param\"].split(\"/\")))\n",
    "vars"
   ]
  },
  {
   "cell_type": "code",
   "execution_count": 10,
   "id": "4b076f94",
   "metadata": {},
   "outputs": [
    {
     "name": "stderr",
     "output_type": "stream",
     "text": [
      "2024-02-23 19:35:53,151 INFO Welcome to the CDS\n",
      "2024-02-23 19:35:53,151 INFO Sending request to https://cds.climate.copernicus.eu/api/v2/resources/reanalysis-era5-single-levels\n",
      "2024-02-23 19:35:53,231 INFO Request is queued\n"
     ]
    },
    {
     "ename": "KeyboardInterrupt",
     "evalue": "",
     "output_type": "error",
     "traceback": [
      "\u001b[0;31m---------------------------------------------------------------------------\u001b[0m",
      "\u001b[0;31mKeyboardInterrupt\u001b[0m                         Traceback (most recent call last)",
      "Cell \u001b[0;32mIn[10], line 4\u001b[0m\n\u001b[1;32m      2\u001b[0m save_dir \u001b[38;5;241m=\u001b[39m \u001b[38;5;124m\"\u001b[39m\u001b[38;5;124m/pool/proyectos/CLINT/sa4attrs/data/raw/events\u001b[39m\u001b[38;5;124m\"\u001b[39m\n\u001b[1;32m      3\u001b[0m save_path \u001b[38;5;241m=\u001b[39m Path(save_dir)\u001b[38;5;241m.\u001b[39mjoinpath(save_name)\n\u001b[0;32m----> 4\u001b[0m \u001b[43mc\u001b[49m\u001b[38;5;241;43m.\u001b[39;49m\u001b[43mretrieve\u001b[49m\u001b[43m(\u001b[49m\u001b[43mdataset\u001b[49m\u001b[43m,\u001b[49m\u001b[43m \u001b[49m\u001b[43mrequest\u001b[49m\u001b[43m,\u001b[49m\u001b[43m \u001b[49m\u001b[43msave_path\u001b[49m\u001b[43m)\u001b[49m \n",
      "File \u001b[0;32m~/miniconda/envs/bayesevt_ai/lib/python3.10/site-packages/cdsapi/api.py:364\u001b[0m, in \u001b[0;36mClient.retrieve\u001b[0;34m(self, name, request, target)\u001b[0m\n\u001b[1;32m    363\u001b[0m \u001b[38;5;28;01mdef\u001b[39;00m \u001b[38;5;21mretrieve\u001b[39m(\u001b[38;5;28mself\u001b[39m, name, request, target\u001b[38;5;241m=\u001b[39m\u001b[38;5;28;01mNone\u001b[39;00m):\n\u001b[0;32m--> 364\u001b[0m     result \u001b[38;5;241m=\u001b[39m \u001b[38;5;28;43mself\u001b[39;49m\u001b[38;5;241;43m.\u001b[39;49m\u001b[43m_api\u001b[49m\u001b[43m(\u001b[49m\u001b[38;5;124;43m\"\u001b[39;49m\u001b[38;5;132;43;01m%s\u001b[39;49;00m\u001b[38;5;124;43m/resources/\u001b[39;49m\u001b[38;5;132;43;01m%s\u001b[39;49;00m\u001b[38;5;124;43m\"\u001b[39;49m\u001b[43m \u001b[49m\u001b[38;5;241;43m%\u001b[39;49m\u001b[43m \u001b[49m\u001b[43m(\u001b[49m\u001b[38;5;28;43mself\u001b[39;49m\u001b[38;5;241;43m.\u001b[39;49m\u001b[43murl\u001b[49m\u001b[43m,\u001b[49m\u001b[43m \u001b[49m\u001b[43mname\u001b[49m\u001b[43m)\u001b[49m\u001b[43m,\u001b[49m\u001b[43m \u001b[49m\u001b[43mrequest\u001b[49m\u001b[43m,\u001b[49m\u001b[43m \u001b[49m\u001b[38;5;124;43m\"\u001b[39;49m\u001b[38;5;124;43mPOST\u001b[39;49m\u001b[38;5;124;43m\"\u001b[39;49m\u001b[43m)\u001b[49m\n\u001b[1;32m    365\u001b[0m     \u001b[38;5;28;01mif\u001b[39;00m target \u001b[38;5;129;01mis\u001b[39;00m \u001b[38;5;129;01mnot\u001b[39;00m \u001b[38;5;28;01mNone\u001b[39;00m:\n\u001b[1;32m    366\u001b[0m         result\u001b[38;5;241m.\u001b[39mdownload(target)\n",
      "File \u001b[0;32m~/miniconda/envs/bayesevt_ai/lib/python3.10/site-packages/cdsapi/api.py:492\u001b[0m, in \u001b[0;36mClient._api\u001b[0;34m(self, url, request, method)\u001b[0m\n\u001b[1;32m    489\u001b[0m rid \u001b[38;5;241m=\u001b[39m reply[\u001b[38;5;124m\"\u001b[39m\u001b[38;5;124mrequest_id\u001b[39m\u001b[38;5;124m\"\u001b[39m]\n\u001b[1;32m    491\u001b[0m \u001b[38;5;28mself\u001b[39m\u001b[38;5;241m.\u001b[39mdebug(\u001b[38;5;124m\"\u001b[39m\u001b[38;5;124mRequest ID is \u001b[39m\u001b[38;5;132;01m%s\u001b[39;00m\u001b[38;5;124m, sleep \u001b[39m\u001b[38;5;132;01m%s\u001b[39;00m\u001b[38;5;124m\"\u001b[39m, rid, sleep)\n\u001b[0;32m--> 492\u001b[0m \u001b[43mtime\u001b[49m\u001b[38;5;241;43m.\u001b[39;49m\u001b[43msleep\u001b[49m\u001b[43m(\u001b[49m\u001b[43msleep\u001b[49m\u001b[43m)\u001b[49m\n\u001b[1;32m    493\u001b[0m sleep \u001b[38;5;241m*\u001b[39m\u001b[38;5;241m=\u001b[39m \u001b[38;5;241m1.5\u001b[39m\n\u001b[1;32m    494\u001b[0m \u001b[38;5;28;01mif\u001b[39;00m sleep \u001b[38;5;241m>\u001b[39m \u001b[38;5;28mself\u001b[39m\u001b[38;5;241m.\u001b[39msleep_max:\n",
      "\u001b[0;31mKeyboardInterrupt\u001b[0m: "
     ]
    }
   ],
   "source": [
    "c = cdsapi.Client()\n",
    "save_dir = \"/pool/proyectos/CLINT/sa4attrs/data/raw/events\"\n",
    "save_path = Path(save_dir).joinpath(save_name)\n",
    "c.retrieve(dataset, request, save_path) "
   ]
  },
  {
   "cell_type": "markdown",
   "id": "8b614554",
   "metadata": {},
   "source": [
    "#### **Example**: Download - Single Variable, Multiple Pressure Levels\n",
    "\n",
    "In this example, we download a single variable at multiple pressure levels."
   ]
  },
  {
   "cell_type": "markdown",
   "id": "6f47cae6",
   "metadata": {},
   "source": [
    "#### **Example**: Download - Multiple Variables, Multiple Pressure Levels"
   ]
  },
  {
   "cell_type": "code",
   "execution_count": 10,
   "id": "5720516b",
   "metadata": {},
   "outputs": [
    {
     "name": "stdout",
     "output_type": "stream",
     "text": [
      "{'area': (90, -180, -90, 180),\n",
      " 'day': ['01'],\n",
      " 'format': 'netcdf',\n",
      " 'grid': (0.25, 0.25),\n",
      " 'month': ['08'],\n",
      " 'param': '157/133/131/130/129/132',\n",
      " 'pressure_level': [100,\n",
      "                    200,\n",
      "                    1000,\n",
      "                    300,\n",
      "                    400,\n",
      "                    50,\n",
      "                    850,\n",
      "                    500,\n",
      "                    150,\n",
      "                    600,\n",
      "                    250,\n",
      "                    700,\n",
      "                    925],\n",
      " 'product_type': 'reanalysis',\n",
      " 'time': ['00:00'],\n",
      " 'year': ['2021']}\n"
     ]
    },
    {
     "data": {
      "text/plain": [
       "(None, 'reanalysis-202108010000-pl.nc')"
      ]
     },
     "execution_count": 10,
     "metadata": {},
     "output_type": "execute_result"
    }
   ],
   "source": [
    "dataset, request, save_name = create_request_pressure_level_multi(\n",
    "    codes=pl_variables, \n",
    "    time=time, \n",
    "    save_format=\"netcdf\",\n",
    ")\n",
    "pprint.pprint(request), save_name"
   ]
  },
  {
   "cell_type": "code",
   "execution_count": 11,
   "id": "a577670f",
   "metadata": {},
   "outputs": [
    {
     "data": {
      "text/plain": [
       "['r', 'q', 'u', 't', 'z', 'v']"
      ]
     },
     "execution_count": 11,
     "metadata": {},
     "output_type": "execute_result"
    }
   ],
   "source": [
    "from bayesevt._src.data.era5.variables import VARIABLE_CODES\n",
    "vars = list(map(lambda x: VARIABLE_CODES[int(x)]().short_name, request[\"param\"].split(\"/\")))\n",
    "vars"
   ]
  },
  {
   "cell_type": "code",
   "execution_count": null,
   "id": "5061fca2",
   "metadata": {},
   "outputs": [],
   "source": []
  },
  {
   "cell_type": "code",
   "execution_count": null,
   "id": "b88389f9",
   "metadata": {},
   "outputs": [
    {
     "name": "stderr",
     "output_type": "stream",
     "text": [
      "2024-02-23 19:36:20,804 INFO Welcome to the CDS\n",
      "2024-02-23 19:36:20,805 INFO Sending request to https://cds.climate.copernicus.eu/api/v2/resources/reanalysis-era5-pressure-levels\n",
      "2024-02-23 19:36:20,870 INFO Request is queued\n"
     ]
    }
   ],
   "source": [
    "c = cdsapi.Client()\n",
    "save_dir = \"/pool/proyectos/CLINT/sa4attrs/data/raw/events\"\n",
    "save_path = Path(save_dir).joinpath(save_name)\n",
    "c.retrieve(dataset, request, save_name) "
   ]
  },
  {
   "cell_type": "markdown",
   "id": "865638de",
   "metadata": {},
   "source": [
    "## HACKY DATA"
   ]
  },
  {
   "cell_type": "code",
   "execution_count": null,
   "id": "767082c0",
   "metadata": {},
   "outputs": [],
   "source": [
    "save_path = Path(\"/pool/proyectos/CLINT/sa4attrs/data/raw/events/\")\n",
    "netcdf_files = [\n",
    "    save_path.joinpath(\"reanalysis-201808010000-sl.nc\"),\n",
    "    save_path.joinpath(\"reanalysis-201808010000-pl.nc\")\n",
    "]\n",
    "\n",
    "ds = xr.open_mfdataset(netcdf_files, combine=\"by_coords\", engine=\"netcdf4\")\n",
    "ds.to_netcdf(save_path.joinpath(\"reanalysis-201808010000.nc\"), engine=\"netcdf4\")\n",
    "ds = xr.open_dataset(save_path.joinpath(\"reanalysis-201808010000.nc\"))"
   ]
  },
  {
   "cell_type": "code",
   "execution_count": null,
   "id": "339c3bb8",
   "metadata": {},
   "outputs": [],
   "source": [
    "ds"
   ]
  },
  {
   "cell_type": "code",
   "execution_count": null,
   "id": "353b3715",
   "metadata": {},
   "outputs": [],
   "source": []
  }
 ],
 "metadata": {
  "kernelspec": {
   "display_name": "Python [conda env:bayesevt_ai]",
   "language": "python",
   "name": "conda-env-bayesevt_ai-py"
  },
  "language_info": {
   "codemirror_mode": {
    "name": "ipython",
    "version": 3
   },
   "file_extension": ".py",
   "mimetype": "text/x-python",
   "name": "python",
   "nbconvert_exporter": "python",
   "pygments_lexer": "ipython3",
   "version": "3.10.13"
  }
 },
 "nbformat": 4,
 "nbformat_minor": 5
}
