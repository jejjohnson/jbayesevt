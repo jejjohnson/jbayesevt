{
 "cells": [
  {
   "cell_type": "markdown",
   "id": "9473ba3a-9786-4877-94e2-cfaa17cde1e5",
   "metadata": {},
   "source": [
    "# NETCDF & GRIB"
   ]
  },
  {
   "cell_type": "code",
   "execution_count": null,
   "id": "7ee71f63-3182-40a7-867e-48b115669ade",
   "metadata": {},
   "outputs": [],
   "source": [
    "import climetlab as cml\n",
    "import iris"
   ]
  },
  {
   "cell_type": "code",
   "execution_count": null,
   "id": "45c10f14-3598-48ef-bc1f-554ed3294e86",
   "metadata": {},
   "outputs": [],
   "source": [
    "surface_file = \"surface_fourcastnet.nc\"\n",
    "levels_file = \"levels_fourcastnet.nc\"\n",
    "data = cml.load_source(\"file\", \"/pool/usuarios/juanjohn/ai_models/data/era5/\")\n",
    "data = data.to_xarray()\n",
    "data.to_netcdf(\"/pool/usuarios/juanjohn/ai_models/data/era5/surface_levels_fourcastnet.nc\")"
   ]
  },
  {
   "cell_type": "code",
   "execution_count": null,
   "id": "1016c573-e10d-4a08-b3e2-fda72cfb8041",
   "metadata": {},
   "outputs": [],
   "source": [
    "cubes = iris.load(\"/pool/usuarios/juanjohn/ai_models/data/era5/surface_levels_fourcastnet.nc\")\n",
    "iris.save(cubes,\"/pool/usuarios/juanjohn/ai_models/data/era5/surface_levels_fourcastnet.grib2\")"
   ]
  },
  {
   "cell_type": "markdown",
   "id": "6d44e2fa-89b7-40db-a992-02ca613e9559",
   "metadata": {},
   "source": [
    "* [StackOverFlow](https://stackoverflow.com/questions/15432587/converting-netcdf-to-grib2)"
   ]
  }
 ],
 "metadata": {
  "kernelspec": {
   "display_name": "Python [conda env:bayesevt]",
   "language": "python",
   "name": "conda-env-bayesevt-py"
  },
  "language_info": {
   "codemirror_mode": {
    "name": "ipython",
    "version": 3
   },
   "file_extension": ".py",
   "mimetype": "text/x-python",
   "name": "python",
   "nbconvert_exporter": "python",
   "pygments_lexer": "ipython3",
   "version": "3.11.7"
  }
 },
 "nbformat": 4,
 "nbformat_minor": 5
}
