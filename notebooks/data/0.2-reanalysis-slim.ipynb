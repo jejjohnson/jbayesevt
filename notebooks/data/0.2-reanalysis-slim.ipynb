{
 "cells": [
  {
   "cell_type": "markdown",
   "id": "5794ae35-a2ca-46bf-9151-53c84ffc848c",
   "metadata": {},
   "source": [
    "# Reanalysis"
   ]
  },
  {
   "cell_type": "code",
   "execution_count": 4,
   "id": "be115f46-0d1b-4323-9076-1f0f67f3f8fa",
   "metadata": {},
   "outputs": [],
   "source": [
    "import autoroot\n",
    "import ee\n",
    "import xarray as xr\n",
    "import cdsapi\n",
    "import climetlab as cml\n",
    "from pathlib import Path\n",
    "import pprint\n",
    "from bayesevt._src.data.era5.ops import parse_single_levels, parse_pressure_levels, parse_all_variables\n",
    "from bayesevt._src.models.earth2mip import VARIABLES\n",
    "\n",
    "%load_ext autoreload\n",
    "%autoreload 2"
   ]
  },
  {
   "cell_type": "markdown",
   "id": "d8e0a120-071c-43e6-b9f0-3e9964902dd9",
   "metadata": {},
   "source": [
    "## Single Levels"
   ]
  },
  {
   "cell_type": "markdown",
   "id": "64b7a0f2-a47b-44c6-b28e-2dcb18f6bfd6",
   "metadata": {},
   "source": [
    "### CDSAPI\n",
    "\n",
    "Here, we will look at the Climate Data Store built in API. "
   ]
  },
  {
   "cell_type": "code",
   "execution_count": 5,
   "id": "2ee3a812-9a0c-4548-8c52-7fc4da6e807c",
   "metadata": {},
   "outputs": [],
   "source": [
    "# from bayesevt._src.data.era5 import ERA5_PARAM_CODES_SURFACE_FOURCASTNET"
   ]
  },
  {
   "cell_type": "code",
   "execution_count": 6,
   "id": "e42369a8-25d9-45c4-aeb0-ddbb5fc89a17",
   "metadata": {},
   "outputs": [],
   "source": [
    "\n",
    "# date = \"2021-08-01\"\n",
    "# grid = \"0.25/0.25\"\n",
    "# time = \"00:00\" # '00/to/23/by/6' #\n",
    "\n",
    "# param = '/'.join([str(x) for x in ERA5_PARAM_CODES_SURFACE_FOURCASTNET])\n",
    "# save_dir = Path(\"/pool/usuarios/juanjohn/ai_models/data/era5\")"
   ]
  },
  {
   "cell_type": "markdown",
   "id": "fd62e2e5-eaa9-4bf8-a518-eb92ac64cb7f",
   "metadata": {},
   "source": [
    "**Translations**\n",
    "\n",
    "* ERA5 Variables <--> CMIP6 Variables\n",
    "* ERA5 Variables --> ERA5 Codes"
   ]
  },
  {
   "cell_type": "markdown",
   "id": "b72a6b4e-5121-462b-9526-3a0415812868",
   "metadata": {},
   "source": [
    "## Case I: Explicit Variables Names\n",
    "\n",
    "In this case, we have explicit variable names from the model. \n",
    "Typically, there is some sense with how these work.\n",
    "\n",
    "**Single Level Variables**. We have explicit surface variables which have a specific name.\n",
    "\n",
    "**Pressure Level Variables**. We have some explicit pressure level variables with a specific name as a *single character* and an associated pressure level."
   ]
  },
  {
   "cell_type": "code",
   "execution_count": 7,
   "id": "36ab0969-286a-4db6-876a-4dcfaf534704",
   "metadata": {},
   "outputs": [],
   "source": [
    "# channel_names = VARIABLES[\"fcnv2_sm\"]\n",
    "channels = list(set(VARIABLES[\"pangu\"] + VARIABLES[\"fcnv2_sm\"]))"
   ]
  },
  {
   "cell_type": "code",
   "execution_count": 9,
   "id": "63d66ace-1914-4386-aba0-132d0691311c",
   "metadata": {},
   "outputs": [],
   "source": [
    "\n",
    "# parse single level variables\n",
    "sl_variables = parse_single_levels(channels)\n",
    "\n",
    "# parse pressure level variables\n",
    "pl_variables = parse_pressure_levels(channels)\n",
    "\n",
    "# parse all variables\n",
    "all_variables = parse_all_variables(channels)"
   ]
  },
  {
   "cell_type": "code",
   "execution_count": 9,
   "id": "f68c4569-48f5-4d24-8ee3-4d3ea3f9ad16",
   "metadata": {},
   "outputs": [],
   "source": [
    "# files = [\n",
    "#     \"/pool/proyectos/CLINT/sa4attrs/data/raw/fcn_sl_20210801.grib\",\n",
    "#     \"/pool/proyectos/CLINT/sa4attrs/data/raw/fcn_pl_20210801.grib\"\n",
    "# ]"
   ]
  },
  {
   "cell_type": "markdown",
   "id": "d69124f1-ad80-41f5-ab34-21b4581dee18",
   "metadata": {},
   "source": [
    "#### Test Case\n",
    "\n",
    "> this is a simple test case for the doc strings"
   ]
  },
  {
   "cell_type": "code",
   "execution_count": 7,
   "id": "09ebed15-5994-49d9-97a0-20ceab8bbca7",
   "metadata": {},
   "outputs": [],
   "source": [
    "\n",
    "# channels_ = [\"u10m\", \"v10m\", \"z100\", \"u250\"]\n",
    "\n",
    "# print(\"Case: Single Level\\n\")\n",
    "# sl_variables = parse_single_levels(channels_)\n",
    "# pprint.pprint(sl_variables, width=60)\n",
    "\n",
    "# print(\"\\nCase: Pressure Levels\\n\")\n",
    "# pl_variables = parse_pressure_levels(channels_)\n",
    "# pprint.pprint(pl_variables, width=60)\n",
    "\n",
    "# print(\"\\nCase: All Levels\\n\")\n",
    "# all_variables = parse_all_variables(channels_)\n",
    "# pprint.pprint(all_variables, width=60)"
   ]
  },
  {
   "cell_type": "markdown",
   "id": "08b0c969-56e2-4fdb-ac65-5211bb7fbff7",
   "metadata": {},
   "source": [
    "#### Download: Single Levels"
   ]
  },
  {
   "cell_type": "code",
   "execution_count": 11,
   "id": "20b436c2-47e5-4be0-b6a0-5f9111050cd4",
   "metadata": {},
   "outputs": [],
   "source": [
    "import datetime\n",
    "\n",
    "client = None\n",
    "d = None"
   ]
  },
  {
   "cell_type": "markdown",
   "id": "49982238-2d4e-4723-a0d2-9a4d706f2b89",
   "metadata": {},
   "source": [
    "#### Hint: Stripping Time"
   ]
  },
  {
   "cell_type": "code",
   "execution_count": 13,
   "id": "37b6d6fe-48b4-471c-ae10-ceaa9dcd460d",
   "metadata": {},
   "outputs": [],
   "source": [
    "from bayesevt._src.dtypes.time import Time\n",
    "from bayesevt._src.dtypes.grid import Grid, RES025\n",
    "from bayesevt._src.dtypes.region import Region, GLOBE\n",
    "from bayesevt._src.data.era5.download import (\n",
    "    create_request_single_level, \n",
    "    create_request_pressure_level,\n",
    "    create_request_single_level_multi,\n",
    "    create_request_pressure_level_multi\n",
    ")\n",
    "\n",
    "\n",
    "time = Time(year=2018, month=8, day=1)\n",
    "format = \"netcdf\""
   ]
  },
  {
   "cell_type": "code",
   "execution_count": null,
   "id": "17a50a52-d1c8-49aa-bd2e-7092da32aa4e",
   "metadata": {},
   "outputs": [],
   "source": [
    "\n"
   ]
  },
  {
   "cell_type": "code",
   "execution_count": 15,
   "id": "4561aef2-5642-4a57-98d0-45a288144a5b",
   "metadata": {},
   "outputs": [
    {
     "name": "stdout",
     "output_type": "stream",
     "text": [
      "{'area': (90, -180, -90, 180),\n",
      " 'day': ['01'],\n",
      " 'format': 'netcdf',\n",
      " 'grid': (0.25, 0.25),\n",
      " 'month': ['08'],\n",
      " 'param': ['228247'],\n",
      " 'product_type': 'reanalysis',\n",
      " 'time': ['00:00'],\n",
      " 'year': ['2018']}\n"
     ]
    },
    {
     "data": {
      "text/plain": [
       "('reanalysis-era5-single-levels', None, 'reanalysis-t2m-20180801-00:00-sl.nc')"
      ]
     },
     "execution_count": 15,
     "metadata": {},
     "output_type": "execute_result"
    }
   ],
   "source": [
    "# create request\n",
    "\n",
    "dataset, request, save_name = create_request_single_level(\n",
    "    sl_variables[0], \n",
    "    time=time,\n",
    "    region=GLOBE,\n",
    "    grid=RES025,\n",
    "    save_format=format\n",
    "    \n",
    ")\n",
    "dataset, pprint.pprint(request), save_name"
   ]
  },
  {
   "cell_type": "code",
   "execution_count": 16,
   "id": "4e85bc56-1e40-464a-baf8-e3790171734d",
   "metadata": {},
   "outputs": [],
   "source": [
    "# c = cdsapi.Client()\n",
    "# save_dir = \"./\"\n",
    "# save_path = Path(save_dir).joinpath(save_name)\n",
    "# c.retrieve(dataset, request, save_path) "
   ]
  },
  {
   "cell_type": "code",
   "execution_count": 17,
   "id": "bbc3f450-50f9-4077-aaa7-ab6b66943ecf",
   "metadata": {},
   "outputs": [
    {
     "data": {
      "text/plain": [
       "[Temperature2m(name='t2m', short_name='t2m', long_name='2m Temperature', era5_name='2m_temperature', ecmwf_gid=228247, cmip_name='', units='meters / second'),\n",
       " VWind100m(name='v100m', short_name='v100', long_name='100m V Component of Wind', era5_name='100m_v_component_of_wind', ecmwf_gid=228247, cmip_name='', units='meters / second'),\n",
       " TotalColumnWaterVapour(name='tcwv', short_name='tcwv', long_name='Total column vertically-integrated water vapour', era5_name='total_column_water_vapour', ecmwf_gid=137, cmip_name='', units='kg / m**2'),\n",
       " UWind10m(name='u10m', short_name='u10', long_name='10m U Component of Wind', era5_name='10m_u_component_of_wind', ecmwf_gid=165, cmip_name='uas', units='meters / second'),\n",
       " MeanSeaLevelPressure(name='msl', short_name='msl', long_name='Mean Sea Level Pressure', era5_name='mean_sea_level_pressure', standard_name='air_pressure_at_mean_sea_level', ecmwf_gid=151, cmip_name='', units='Pa'),\n",
       " SurfacePressure(name='sp', short_name='sp', long_name='Surface Pressure', era5_name='surface_pressure', standard_name='surface_air_pressure', ecmwf_gid=134, cmip_name='', units='Pa'),\n",
       " UWind100m(name='u100m', short_name='u100', long_name='100m Component of Wind', era5_name='100m_u_component_of_wind', ecmwf_gid=228246, cmip_name='', units='meters / second'),\n",
       " VWind10m(name='v10m', short_name='v10', long_name='10 metre V wind component', era5_name='10m_v_component_of_wind', ecmwf_gid=166, units='meters / second')]"
      ]
     },
     "execution_count": 17,
     "metadata": {},
     "output_type": "execute_result"
    }
   ],
   "source": [
    "sl_variables"
   ]
  },
  {
   "cell_type": "code",
   "execution_count": 28,
   "id": "c05b28e8-8f08-42db-854c-94e830fc6d42",
   "metadata": {},
   "outputs": [
    {
     "name": "stdout",
     "output_type": "stream",
     "text": [
      "{'area': (90, -180, -90, 180),\n",
      " 'day': ['01'],\n",
      " 'format': 'grib',\n",
      " 'grid': (0.25, 0.25),\n",
      " 'month': ['08'],\n",
      " 'param': '137/165/151/228246/134/228247/166',\n",
      " 'product_type': 'reanalysis',\n",
      " 'time': ['00:00'],\n",
      " 'year': ['2018']}\n"
     ]
    },
    {
     "data": {
      "text/plain": [
       "('reanalysis-era5-single-levels', None, 'reanalysis-20180801-00:00-sl.grib')"
      ]
     },
     "execution_count": 28,
     "metadata": {},
     "output_type": "execute_result"
    }
   ],
   "source": [
    "# create request\n",
    "\n",
    "dataset, request, save_name = create_request_single_level_multi(\n",
    "    sl_variables, \n",
    "    time=time,\n",
    "    region=GLOBE,\n",
    "    grid=RES025,\n",
    "    save_format=\"grib\"\n",
    "    \n",
    ")\n",
    "dataset, pprint.pprint(request), save_name"
   ]
  },
  {
   "cell_type": "code",
   "execution_count": null,
   "id": "b102ef43-8313-401c-a3a0-1bd521c2abf7",
   "metadata": {},
   "outputs": [
    {
     "name": "stderr",
     "output_type": "stream",
     "text": [
      "2024-02-22 03:35:31,526 INFO Welcome to the CDS\n",
      "2024-02-22 03:35:31,527 INFO Sending request to https://cds.climate.copernicus.eu/api/v2/resources/reanalysis-era5-single-levels\n",
      "2024-02-22 03:35:31,590 INFO Request is queued\n"
     ]
    }
   ],
   "source": [
    "c = cdsapi.Client()\n",
    "save_dir = \"/pool/proyectos/CLINT/sa4attrs/data/raw/events\"\n",
    "save_path = Path(save_dir).joinpath(save_name)\n",
    "c.retrieve(dataset, request, save_path) "
   ]
  },
  {
   "cell_type": "markdown",
   "id": "6f339dcb-d7f9-4571-b9d2-4fc4c6475f0c",
   "metadata": {},
   "source": [
    "#### Download: Pressure Levels"
   ]
  },
  {
   "cell_type": "markdown",
   "id": "4796d984-93d1-4169-bf00-913a3c3d8c9c",
   "metadata": {},
   "source": [
    "#### **Example**: Download Single Variable, Single Pressure Level\n",
    "\n",
    "> In this example, we will demonstrate how we can download a single variable at a single pressure level."
   ]
  },
  {
   "cell_type": "markdown",
   "id": "fd34cb80-77a8-425a-ade3-dfe80c7c599a",
   "metadata": {},
   "source": [
    "First, we need to do some preprocessing of the list of variables. \n",
    "Currently, there are multiple variables available."
   ]
  },
  {
   "cell_type": "code",
   "execution_count": 22,
   "id": "ecefa4a5-3691-4a51-b81e-67d0f201723f",
   "metadata": {},
   "outputs": [],
   "source": [
    "# get unique variables\n",
    "unique_vars = list(set(map(lambda x: x.name, pl_variables)))\n",
    "unique_vars\n",
    "# extract variable of interest\n",
    "pl_u = list(filter(lambda x: x.short_name in [\"u\"], pl_variables))"
   ]
  },
  {
   "cell_type": "code",
   "execution_count": 16,
   "id": "08dfcee3-8b3d-42e0-b801-8538145d14b8",
   "metadata": {},
   "outputs": [
    {
     "name": "stdout",
     "output_type": "stream",
     "text": [
      "{'area': (90, -180, -90, 180),\n",
      " 'day': ['01'],\n",
      " 'format': 'grib',\n",
      " 'grid': (0.25, 0.25),\n",
      " 'month': ['08'],\n",
      " 'param': ['131'],\n",
      " 'pressure_level': [1000],\n",
      " 'product_type': 'reanalysis',\n",
      " 'time': ['00:00'],\n",
      " 'year': ['2018']}\n"
     ]
    },
    {
     "data": {
      "text/plain": [
       "('reanalysis-era5-pressure-levels',\n",
       " None,\n",
       " 'reanalysis-u1000-20180801-00:00-pl.grib')"
      ]
     },
     "execution_count": 16,
     "metadata": {},
     "output_type": "execute_result"
    }
   ],
   "source": [
    "# find unique variables\n",
    "dataset, request, save_name = create_request_pressure_level(pl_u[0], time, format=\"grib\")\n",
    "dataset, pprint.pprint(request), save_name"
   ]
  },
  {
   "cell_type": "code",
   "execution_count": 17,
   "id": "f91cd4cd-2eb9-4667-8bb3-c44ae753f559",
   "metadata": {},
   "outputs": [],
   "source": [
    "# c = cdsapi.Client()\n",
    "# save_dir = \"./\"\n",
    "# save_path = Path(save_dir).joinpath(save_name)\n",
    "# c.retrieve(dataset, joint_requests, save_name) "
   ]
  },
  {
   "cell_type": "markdown",
   "id": "0bc7576b-2f8f-4c7f-b953-b2e60439841d",
   "metadata": {},
   "source": [
    "#### **Example**: Download - Single Variable, Multiple Pressure Levels\n",
    "\n",
    "In this example, we download a single variable at multiple pressure levels."
   ]
  },
  {
   "cell_type": "code",
   "execution_count": 18,
   "id": "1dee318d-069c-4d1a-955d-aafbf3a1143e",
   "metadata": {},
   "outputs": [],
   "source": [
    "from bayesevt._src.data.era5.download import create_request_pressure_level_multi"
   ]
  },
  {
   "cell_type": "code",
   "execution_count": 19,
   "id": "01776b5e-347e-4444-9fb6-c60001209677",
   "metadata": {},
   "outputs": [
    {
     "name": "stdout",
     "output_type": "stream",
     "text": [
      "{'area': (90, -180, -90, 180),\n",
      " 'day': ['01'],\n",
      " 'format': 'grib',\n",
      " 'grid': (0.25, 0.25),\n",
      " 'month': ['08'],\n",
      " 'param': '131',\n",
      " 'pressure_level': [1000, 850, 250, 500],\n",
      " 'product_type': 'reanalysis',\n",
      " 'time': ['00:00'],\n",
      " 'year': ['2018']}\n"
     ]
    },
    {
     "data": {
      "text/plain": [
       "(None, 'reanalysis-20180801-00:00-pl.grib')"
      ]
     },
     "execution_count": 19,
     "metadata": {},
     "output_type": "execute_result"
    }
   ],
   "source": [
    "dataset, request, save_name = create_request_pressure_level_multi(\n",
    "    codes=pl_u,\n",
    "    time=time, \n",
    "    save_format=\"netcdf\",\n",
    ")\n",
    "pprint.pprint(request), save_name"
   ]
  },
  {
   "cell_type": "code",
   "execution_count": 20,
   "id": "e75e2beb-2fae-4889-8ad4-228cdecc6c8b",
   "metadata": {},
   "outputs": [],
   "source": [
    "# c = cdsapi.Client()\n",
    "# save_dir = \"./\"\n",
    "# save_path = Path(save_dir).joinpath(save_name)\n",
    "# c.retrieve(dataset, joint_requests, save_name) "
   ]
  },
  {
   "cell_type": "markdown",
   "id": "001222ba-4175-42d3-a8a0-124c80e09085",
   "metadata": {},
   "source": [
    "#### **Example**: Download - Multiple Variables, Multiple Pressure Levels"
   ]
  },
  {
   "cell_type": "code",
   "execution_count": 26,
   "id": "c3f59cac-b040-4753-bbf4-f8be691cc2ee",
   "metadata": {},
   "outputs": [
    {
     "name": "stdout",
     "output_type": "stream",
     "text": [
      "{'area': (90, -180, -90, 180),\n",
      " 'day': ['01'],\n",
      " 'format': 'grib',\n",
      " 'grid': (0.25, 0.25),\n",
      " 'month': ['08'],\n",
      " 'param': '132/131/157/129/133/130',\n",
      " 'pressure_level': [100,\n",
      "                    200,\n",
      "                    1000,\n",
      "                    300,\n",
      "                    400,\n",
      "                    850,\n",
      "                    50,\n",
      "                    500,\n",
      "                    150,\n",
      "                    600,\n",
      "                    250,\n",
      "                    700,\n",
      "                    925],\n",
      " 'product_type': 'reanalysis',\n",
      " 'time': ['00:00'],\n",
      " 'year': ['2018']}\n"
     ]
    },
    {
     "data": {
      "text/plain": [
       "(None, 'reanalysis-20180801-00:00-pl.grib')"
      ]
     },
     "execution_count": 26,
     "metadata": {},
     "output_type": "execute_result"
    }
   ],
   "source": [
    "dataset, request, save_name = create_request_pressure_level_multi(\n",
    "    codes=pl_variables, \n",
    "    time=time, \n",
    "    save_format=\"grib\",\n",
    ")\n",
    "pprint.pprint(request), save_name"
   ]
  },
  {
   "cell_type": "code",
   "execution_count": 27,
   "id": "f0de1b4d-b539-4918-b61e-f5a9072a54cd",
   "metadata": {},
   "outputs": [
    {
     "name": "stderr",
     "output_type": "stream",
     "text": [
      "2024-02-22 03:35:09,865 INFO Welcome to the CDS\n",
      "2024-02-22 03:35:09,865 INFO Sending request to https://cds.climate.copernicus.eu/api/v2/resources/reanalysis-era5-pressure-levels\n",
      "2024-02-22 03:35:09,917 INFO Request is queued\n"
     ]
    },
    {
     "ename": "KeyboardInterrupt",
     "evalue": "",
     "output_type": "error",
     "traceback": [
      "\u001b[0;31m---------------------------------------------------------------------------\u001b[0m",
      "\u001b[0;31mKeyboardInterrupt\u001b[0m                         Traceback (most recent call last)",
      "Cell \u001b[0;32mIn[27], line 3\u001b[0m\n\u001b[1;32m      1\u001b[0m c \u001b[38;5;241m=\u001b[39m cdsapi\u001b[38;5;241m.\u001b[39mClient()\n\u001b[1;32m      2\u001b[0m save_path \u001b[38;5;241m=\u001b[39m Path(save_dir)\u001b[38;5;241m.\u001b[39mjoinpath(save_name)\n\u001b[0;32m----> 3\u001b[0m \u001b[43mc\u001b[49m\u001b[38;5;241;43m.\u001b[39;49m\u001b[43mretrieve\u001b[49m\u001b[43m(\u001b[49m\u001b[43mdataset\u001b[49m\u001b[43m,\u001b[49m\u001b[43m \u001b[49m\u001b[43mrequest\u001b[49m\u001b[43m,\u001b[49m\u001b[43m \u001b[49m\u001b[43msave_name\u001b[49m\u001b[43m)\u001b[49m \n",
      "File \u001b[0;32m~/miniconda/envs/bayesevt_ai/lib/python3.10/site-packages/cdsapi/api.py:364\u001b[0m, in \u001b[0;36mClient.retrieve\u001b[0;34m(self, name, request, target)\u001b[0m\n\u001b[1;32m    363\u001b[0m \u001b[38;5;28;01mdef\u001b[39;00m \u001b[38;5;21mretrieve\u001b[39m(\u001b[38;5;28mself\u001b[39m, name, request, target\u001b[38;5;241m=\u001b[39m\u001b[38;5;28;01mNone\u001b[39;00m):\n\u001b[0;32m--> 364\u001b[0m     result \u001b[38;5;241m=\u001b[39m \u001b[38;5;28;43mself\u001b[39;49m\u001b[38;5;241;43m.\u001b[39;49m\u001b[43m_api\u001b[49m\u001b[43m(\u001b[49m\u001b[38;5;124;43m\"\u001b[39;49m\u001b[38;5;132;43;01m%s\u001b[39;49;00m\u001b[38;5;124;43m/resources/\u001b[39;49m\u001b[38;5;132;43;01m%s\u001b[39;49;00m\u001b[38;5;124;43m\"\u001b[39;49m\u001b[43m \u001b[49m\u001b[38;5;241;43m%\u001b[39;49m\u001b[43m \u001b[49m\u001b[43m(\u001b[49m\u001b[38;5;28;43mself\u001b[39;49m\u001b[38;5;241;43m.\u001b[39;49m\u001b[43murl\u001b[49m\u001b[43m,\u001b[49m\u001b[43m \u001b[49m\u001b[43mname\u001b[49m\u001b[43m)\u001b[49m\u001b[43m,\u001b[49m\u001b[43m \u001b[49m\u001b[43mrequest\u001b[49m\u001b[43m,\u001b[49m\u001b[43m \u001b[49m\u001b[38;5;124;43m\"\u001b[39;49m\u001b[38;5;124;43mPOST\u001b[39;49m\u001b[38;5;124;43m\"\u001b[39;49m\u001b[43m)\u001b[49m\n\u001b[1;32m    365\u001b[0m     \u001b[38;5;28;01mif\u001b[39;00m target \u001b[38;5;129;01mis\u001b[39;00m \u001b[38;5;129;01mnot\u001b[39;00m \u001b[38;5;28;01mNone\u001b[39;00m:\n\u001b[1;32m    366\u001b[0m         result\u001b[38;5;241m.\u001b[39mdownload(target)\n",
      "File \u001b[0;32m~/miniconda/envs/bayesevt_ai/lib/python3.10/site-packages/cdsapi/api.py:492\u001b[0m, in \u001b[0;36mClient._api\u001b[0;34m(self, url, request, method)\u001b[0m\n\u001b[1;32m    489\u001b[0m rid \u001b[38;5;241m=\u001b[39m reply[\u001b[38;5;124m\"\u001b[39m\u001b[38;5;124mrequest_id\u001b[39m\u001b[38;5;124m\"\u001b[39m]\n\u001b[1;32m    491\u001b[0m \u001b[38;5;28mself\u001b[39m\u001b[38;5;241m.\u001b[39mdebug(\u001b[38;5;124m\"\u001b[39m\u001b[38;5;124mRequest ID is \u001b[39m\u001b[38;5;132;01m%s\u001b[39;00m\u001b[38;5;124m, sleep \u001b[39m\u001b[38;5;132;01m%s\u001b[39;00m\u001b[38;5;124m\"\u001b[39m, rid, sleep)\n\u001b[0;32m--> 492\u001b[0m \u001b[43mtime\u001b[49m\u001b[38;5;241;43m.\u001b[39;49m\u001b[43msleep\u001b[49m\u001b[43m(\u001b[49m\u001b[43msleep\u001b[49m\u001b[43m)\u001b[49m\n\u001b[1;32m    493\u001b[0m sleep \u001b[38;5;241m*\u001b[39m\u001b[38;5;241m=\u001b[39m \u001b[38;5;241m1.5\u001b[39m\n\u001b[1;32m    494\u001b[0m \u001b[38;5;28;01mif\u001b[39;00m sleep \u001b[38;5;241m>\u001b[39m \u001b[38;5;28mself\u001b[39m\u001b[38;5;241m.\u001b[39msleep_max:\n",
      "\u001b[0;31mKeyboardInterrupt\u001b[0m: "
     ]
    }
   ],
   "source": [
    "c = cdsapi.Client()\n",
    "save_path = Path(save_dir).joinpath(save_name)\n",
    "c.retrieve(dataset, request, save_name) "
   ]
  },
  {
   "cell_type": "markdown",
   "id": "7977dfcf-cb2d-4c08-a386-56c7517574e5",
   "metadata": {},
   "source": [
    "## Case II: Explicit Names & Levels\n",
    "\n",
    "This is arguably easier to manipulate."
   ]
  },
  {
   "cell_type": "code",
   "execution_count": 23,
   "id": "c88b5e9c-8739-434e-b3fb-45780503f45b",
   "metadata": {},
   "outputs": [],
   "source": [
    "pl_variables = ['t', 'u', 'v', 'z', 'r']\n",
    "pl_levels = [1000, 925, 850, 700, 600, 500, 400, 300, 250, 200, 150, 100, 50]\n",
    "sl_variables = ['u10m', 'v10m', 't2m', 'sp', 'msl', 'tcwv', 'u100m', 'v100m']"
   ]
  },
  {
   "cell_type": "code",
   "execution_count": 24,
   "id": "9b7a7361-5bf8-420c-ad80-f1ed65da8141",
   "metadata": {},
   "outputs": [],
   "source": [
    "sl_vars = list(map(lambda x: SingleLevelCode.from_name(x), sl_variables))\n"
   ]
  },
  {
   "cell_type": "code",
   "execution_count": 25,
   "id": "faa5d8b2-d649-4c5d-9a57-745be62f2875",
   "metadata": {},
   "outputs": [
    {
     "name": "stdout",
     "output_type": "stream",
     "text": [
      "{'area': (90, -180, -90, 180),\n",
      " 'day': ['01'],\n",
      " 'format': 'grib',\n",
      " 'grid': (0.25, 0.25),\n",
      " 'month': ['08'],\n",
      " 'param': '151/166/137/165/167/228246/228247/134',\n",
      " 'product_type': 'reanalysis',\n",
      " 'time': ['00:00'],\n",
      " 'year': ['2018']}\n"
     ]
    },
    {
     "data": {
      "text/plain": [
       "('reanalysis-era5-single-levels', None, 'reanalysis-20180801-00:00-sl.grib')"
      ]
     },
     "execution_count": 25,
     "metadata": {},
     "output_type": "execute_result"
    }
   ],
   "source": [
    "# create request\n",
    "\n",
    "dataset, request, save_name = create_request_single_level_multi(\n",
    "    sl_vars, \n",
    "    time=time,\n",
    "    region=GLOBE,\n",
    "    grid=RES025,\n",
    "    format=format\n",
    "    \n",
    ")\n",
    "dataset, pprint.pprint(request), save_name"
   ]
  },
  {
   "cell_type": "code",
   "execution_count": 26,
   "id": "22ab9d42-8b5b-4c7c-aa07-82b02f7ef406",
   "metadata": {},
   "outputs": [],
   "source": [
    "# c = cdsapi.Client()\n",
    "# save_dir = \"./\"\n",
    "# save_path = Path(save_dir).joinpath(save_name)\n",
    "# c.retrieve(dataset, request, save_name) "
   ]
  },
  {
   "cell_type": "code",
   "execution_count": 27,
   "id": "fb417aaf-6211-4562-b12f-cfab56e04ca4",
   "metadata": {},
   "outputs": [],
   "source": [
    "from itertools import product"
   ]
  },
  {
   "cell_type": "code",
   "execution_count": 28,
   "id": "5816b7f9-9f35-465a-bf52-a08ffcdb925d",
   "metadata": {},
   "outputs": [],
   "source": [
    "# get product of all variables and levels\n",
    "pl_levels_and_variables = list(product(sl_variables, pl_levels))\n",
    "# criteria to create code\n",
    "op = lambda x: PressureLevelCode(id=x[0], level=x[1])\n",
    "# create codes\n",
    "pl_var_and_levels = list(map(op, pl_levels_and_variables))"
   ]
  },
  {
   "cell_type": "code",
   "execution_count": 29,
   "id": "fee897eb-6535-41d4-b061-a672962a03a0",
   "metadata": {},
   "outputs": [
    {
     "name": "stdout",
     "output_type": "stream",
     "text": [
      "{'area': (90, -180, -90, 180),\n",
      " 'day': ['01'],\n",
      " 'format': 'grib',\n",
      " 'grid': (0.25, 0.25),\n",
      " 'month': ['08'],\n",
      " 'param': 'sp/msl/u10m/tcwv/v100m/t2m/v10m/u100m',\n",
      " 'pressure_level': [100,\n",
      "                    1000,\n",
      "                    200,\n",
      "                    300,\n",
      "                    400,\n",
      "                    850,\n",
      "                    50,\n",
      "                    500,\n",
      "                    150,\n",
      "                    600,\n",
      "                    250,\n",
      "                    700,\n",
      "                    925],\n",
      " 'product_type': 'reanalysis',\n",
      " 'time': ['00:00'],\n",
      " 'year': ['2018']}\n"
     ]
    },
    {
     "data": {
      "text/plain": [
       "('reanalysis-era5-pressure-levels', None, 'reanalysis-20180801-00:00-pl.grib')"
      ]
     },
     "execution_count": 29,
     "metadata": {},
     "output_type": "execute_result"
    }
   ],
   "source": [
    "dataset, request, save_name = create_request_pressure_level_multi(\n",
    "    codes=pl_var_and_levels, \n",
    "    time=time, \n",
    "    format=\"grib\",\n",
    ")\n",
    "dataset, pprint.pprint(request), save_name"
   ]
  },
  {
   "cell_type": "code",
   "execution_count": 30,
   "id": "c0be61b4-5145-44a4-a5e9-80512e730db6",
   "metadata": {},
   "outputs": [],
   "source": [
    "# c = cdsapi.Client()\n",
    "# save_dir = \"./\"\n",
    "# save_path = Path(save_dir).joinpath(save_name)\n",
    "# c.retrieve(dataset, request, save_name) "
   ]
  },
  {
   "cell_type": "code",
   "execution_count": 31,
   "id": "ec619570-ae0b-4014-ad19-b6952d3b64f9",
   "metadata": {},
   "outputs": [],
   "source": [
    "from earth2mip.datasets.era5 import _create_virtual_dataset"
   ]
  },
  {
   "cell_type": "code",
   "execution_count": 32,
   "id": "9f30d7e6-0f6b-4ae9-b0a1-d1f090b9710a",
   "metadata": {},
   "outputs": [
    {
     "ename": "IndexError",
     "evalue": "list index out of range",
     "output_type": "error",
     "traceback": [
      "\u001b[0;31m---------------------------------------------------------------------------\u001b[0m",
      "\u001b[0;31mIndexError\u001b[0m                                Traceback (most recent call last)",
      "Cell \u001b[0;32mIn[32], line 1\u001b[0m\n\u001b[0;32m----> 1\u001b[0m \u001b[43m_create_virtual_dataset\u001b[49m\u001b[43m(\u001b[49m\u001b[38;5;124;43m\"\u001b[39;49m\u001b[38;5;124;43m./\u001b[39;49m\u001b[38;5;124;43m\"\u001b[39;49m\u001b[43m,\u001b[49m\u001b[43m \u001b[49m\u001b[38;5;124;43m\"\u001b[39;49m\u001b[38;5;124;43mtest\u001b[39;49m\u001b[38;5;124;43m\"\u001b[39;49m\u001b[43m)\u001b[49m\n",
      "File \u001b[0;32m~/miniconda/envs/bayesevt_ai/lib/python3.10/site-packages/earth2mip/datasets/era5/__init__.py:93\u001b[0m, in \u001b[0;36m_create_virtual_dataset\u001b[0;34m(root, virtual_dataset_path)\u001b[0m\n\u001b[1;32m     90\u001b[0m file_paths \u001b[38;5;241m=\u001b[39m \u001b[38;5;28msorted\u001b[39m(file_paths, key\u001b[38;5;241m=\u001b[39mos\u001b[38;5;241m.\u001b[39mpath\u001b[38;5;241m.\u001b[39mbasename)\n\u001b[1;32m     92\u001b[0m \u001b[38;5;66;03m# Open the first file to extract the dataset shape\u001b[39;00m\n\u001b[0;32m---> 93\u001b[0m \u001b[38;5;28;01mwith\u001b[39;00m h5py\u001b[38;5;241m.\u001b[39mFile(\u001b[43mfile_paths\u001b[49m\u001b[43m[\u001b[49m\u001b[38;5;241;43m0\u001b[39;49m\u001b[43m]\u001b[49m, \u001b[38;5;124m\"\u001b[39m\u001b[38;5;124mr\u001b[39m\u001b[38;5;124m\"\u001b[39m) \u001b[38;5;28;01mas\u001b[39;00m f:\n\u001b[1;32m     94\u001b[0m     dataset_shape \u001b[38;5;241m=\u001b[39m f[\u001b[38;5;124m\"\u001b[39m\u001b[38;5;124mfields\u001b[39m\u001b[38;5;124m\"\u001b[39m]\u001b[38;5;241m.\u001b[39mshape\n\u001b[1;32m     96\u001b[0m \u001b[38;5;66;03m# Create the virtual dataset\u001b[39;00m\n",
      "\u001b[0;31mIndexError\u001b[0m: list index out of range"
     ]
    }
   ],
   "source": [
    "_create_virtual_dataset(\"./\", \"test\")"
   ]
  },
  {
   "cell_type": "code",
   "execution_count": null,
   "id": "4cb777b7-22a9-4ff8-bd06-672948c5c4d2",
   "metadata": {},
   "outputs": [],
   "source": []
  }
 ],
 "metadata": {
  "kernelspec": {
   "display_name": "Python [conda env:bayesevt_ai]",
   "language": "python",
   "name": "conda-env-bayesevt_ai-py"
  },
  "language_info": {
   "codemirror_mode": {
    "name": "ipython",
    "version": 3
   },
   "file_extension": ".py",
   "mimetype": "text/x-python",
   "name": "python",
   "nbconvert_exporter": "python",
   "pygments_lexer": "ipython3",
   "version": "3.10.13"
  }
 },
 "nbformat": 4,
 "nbformat_minor": 5
}
