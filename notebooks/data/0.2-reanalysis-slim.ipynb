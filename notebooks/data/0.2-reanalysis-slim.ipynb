{
 "cells": [
  {
   "cell_type": "markdown",
   "id": "5794ae35-a2ca-46bf-9151-53c84ffc848c",
   "metadata": {},
   "source": [
    "# Reanalysis"
   ]
  },
  {
   "cell_type": "code",
   "execution_count": 19,
   "id": "be115f46-0d1b-4323-9076-1f0f67f3f8fa",
   "metadata": {},
   "outputs": [
    {
     "name": "stdout",
     "output_type": "stream",
     "text": [
      "The autoreload extension is already loaded. To reload it, use:\n",
      "  %reload_ext autoreload\n"
     ]
    }
   ],
   "source": [
    "import autoroot\n",
    "import ee\n",
    "import xarray as xr\n",
    "import cdsapi\n",
    "import climetlab as cml\n",
    "from pathlib import Path\n",
    "import pprint\n",
    "from bayesevt._src.data.era5.ops import parse_single_levels, parse_pressure_levels, parse_all_variables\n",
    "from bayesevt._src.models.earth2mip import VARIABLES\n",
    "\n",
    "%load_ext autoreload\n",
    "%autoreload 2"
   ]
  },
  {
   "cell_type": "markdown",
   "id": "d8e0a120-071c-43e6-b9f0-3e9964902dd9",
   "metadata": {},
   "source": [
    "## Single Levels"
   ]
  },
  {
   "cell_type": "markdown",
   "id": "64b7a0f2-a47b-44c6-b28e-2dcb18f6bfd6",
   "metadata": {},
   "source": [
    "### CDSAPI\n",
    "\n",
    "Here, we will look at the Climate Data Store built in API. "
   ]
  },
  {
   "cell_type": "code",
   "execution_count": 20,
   "id": "2ee3a812-9a0c-4548-8c52-7fc4da6e807c",
   "metadata": {},
   "outputs": [],
   "source": [
    "# from bayesevt._src.data.era5 import ERA5_PARAM_CODES_SURFACE_FOURCASTNET"
   ]
  },
  {
   "cell_type": "code",
   "execution_count": 21,
   "id": "e42369a8-25d9-45c4-aeb0-ddbb5fc89a17",
   "metadata": {},
   "outputs": [],
   "source": [
    "\n",
    "# date = \"2021-08-01\"\n",
    "# grid = \"0.25/0.25\"\n",
    "# time = \"00:00\" # '00/to/23/by/6' #\n",
    "\n",
    "# param = '/'.join([str(x) for x in ERA5_PARAM_CODES_SURFACE_FOURCASTNET])\n",
    "# save_dir = Path(\"/pool/usuarios/juanjohn/ai_models/data/era5\")"
   ]
  },
  {
   "cell_type": "markdown",
   "id": "fd62e2e5-eaa9-4bf8-a518-eb92ac64cb7f",
   "metadata": {},
   "source": [
    "**Translations**\n",
    "\n",
    "* ERA5 Variables <--> CMIP6 Variables\n",
    "* ERA5 Variables --> ERA5 Codes"
   ]
  },
  {
   "cell_type": "markdown",
   "id": "b72a6b4e-5121-462b-9526-3a0415812868",
   "metadata": {},
   "source": [
    "## Case I: Explicit Variables Names\n",
    "\n",
    "In this case, we have explicit variable names from the model. \n",
    "Typically, there is some sense with how these work.\n",
    "\n",
    "**Single Level Variables**. We have explicit surface variables which have a specific name.\n",
    "\n",
    "**Pressure Level Variables**. We have some explicit pressure level variables with a specific name as a *single character* and an associated pressure level."
   ]
  },
  {
   "cell_type": "code",
   "execution_count": 22,
   "id": "36ab0969-286a-4db6-876a-4dcfaf534704",
   "metadata": {},
   "outputs": [],
   "source": [
    "# channel_names = VARIABLES[\"fcnv2_sm\"]\n",
    "channels = list(set(VARIABLES[\"pangu\"] + VARIABLES[\"fcnv2_sm\"]))"
   ]
  },
  {
   "cell_type": "code",
   "execution_count": 24,
   "id": "63d66ace-1914-4386-aba0-132d0691311c",
   "metadata": {},
   "outputs": [],
   "source": [
    "# parse single level variables\n",
    "sl_variables = parse_single_levels(channels)\n",
    "\n",
    "# parse pressure level variables\n",
    "pl_variables = parse_pressure_levels(channels)\n",
    "\n",
    "# parse all variables\n",
    "all_variables = parse_all_variables(channels)"
   ]
  },
  {
   "cell_type": "code",
   "execution_count": 6,
   "id": "f68c4569-48f5-4d24-8ee3-4d3ea3f9ad16",
   "metadata": {},
   "outputs": [],
   "source": [
    "# files = [\n",
    "#     \"/pool/proyectos/CLINT/sa4attrs/data/raw/fcn_sl_20210801.grib\",\n",
    "#     \"/pool/proyectos/CLINT/sa4attrs/data/raw/fcn_pl_20210801.grib\"\n",
    "# ]"
   ]
  },
  {
   "cell_type": "markdown",
   "id": "d69124f1-ad80-41f5-ab34-21b4581dee18",
   "metadata": {},
   "source": [
    "#### Test Case\n",
    "\n",
    "> this is a simple test case for the doc strings"
   ]
  },
  {
   "cell_type": "code",
   "execution_count": 7,
   "id": "09ebed15-5994-49d9-97a0-20ceab8bbca7",
   "metadata": {},
   "outputs": [],
   "source": [
    "\n",
    "# channels_ = [\"u10m\", \"v10m\", \"z100\", \"u250\"]\n",
    "\n",
    "# print(\"Case: Single Level\\n\")\n",
    "# sl_variables = parse_single_levels(channels_)\n",
    "# pprint.pprint(sl_variables, width=60)\n",
    "\n",
    "# print(\"\\nCase: Pressure Levels\\n\")\n",
    "# pl_variables = parse_pressure_levels(channels_)\n",
    "# pprint.pprint(pl_variables, width=60)\n",
    "\n",
    "# print(\"\\nCase: All Levels\\n\")\n",
    "# all_variables = parse_all_variables(channels_)\n",
    "# pprint.pprint(all_variables, width=60)"
   ]
  },
  {
   "cell_type": "markdown",
   "id": "08b0c969-56e2-4fdb-ac65-5211bb7fbff7",
   "metadata": {},
   "source": [
    "#### Download: Single Levels"
   ]
  },
  {
   "cell_type": "code",
   "execution_count": 8,
   "id": "20b436c2-47e5-4be0-b6a0-5f9111050cd4",
   "metadata": {},
   "outputs": [],
   "source": [
    "import datetime\n",
    "\n",
    "client = None\n",
    "d = None"
   ]
  },
  {
   "cell_type": "markdown",
   "id": "49982238-2d4e-4723-a0d2-9a4d706f2b89",
   "metadata": {},
   "source": [
    "#### Hint: Stripping Time"
   ]
  },
  {
   "cell_type": "code",
   "execution_count": 9,
   "id": "37b6d6fe-48b4-471c-ae10-ceaa9dcd460d",
   "metadata": {},
   "outputs": [],
   "source": [
    "from bayesevt._src.dtypes.time import Time\n",
    "from bayesevt._src.dtypes.grid import Grid, RES025\n",
    "from bayesevt._src.dtypes.region import Region, GLOBE\n",
    "from bayesevt._src.data.era5.download import (\n",
    "    create_request_single_level, \n",
    "    create_request_pressure_level,\n",
    "    create_request_single_level_multi,\n",
    "    create_request_pressure_level_multi\n",
    ")\n",
    "\n",
    "\n",
    "time = Time(year=2018, month=8, day=1)\n",
    "format = \"netcdf\""
   ]
  },
  {
   "cell_type": "code",
   "execution_count": 10,
   "id": "c05b28e8-8f08-42db-854c-94e830fc6d42",
   "metadata": {},
   "outputs": [
    {
     "name": "stdout",
     "output_type": "stream",
     "text": [
      "{'area': (90, -180, -90, 180),\n",
      " 'day': ['01'],\n",
      " 'format': 'grib',\n",
      " 'grid': (0.25, 0.25),\n",
      " 'month': ['08'],\n",
      " 'param': '137/166/165/228246/228247/151/134',\n",
      " 'product_type': 'reanalysis',\n",
      " 'time': ['00:00'],\n",
      " 'year': ['2018']}\n"
     ]
    },
    {
     "data": {
      "text/plain": [
       "('reanalysis-era5-single-levels', None, 'reanalysis-20180801-00:00-sl.grib')"
      ]
     },
     "execution_count": 10,
     "metadata": {},
     "output_type": "execute_result"
    }
   ],
   "source": [
    "# create request\n",
    "\n",
    "dataset, request, save_name = create_request_single_level_multi(\n",
    "    sl_variables, \n",
    "    time=time,\n",
    "    region=GLOBE,\n",
    "    grid=RES025,\n",
    "    save_format=\"grib\"\n",
    "    \n",
    ")\n",
    "dataset, pprint.pprint(request), save_name"
   ]
  },
  {
   "cell_type": "code",
   "execution_count": 12,
   "id": "b102ef43-8313-401c-a3a0-1bd521c2abf7",
   "metadata": {},
   "outputs": [
    {
     "name": "stderr",
     "output_type": "stream",
     "text": [
      "2024-02-22 03:35:31,526 INFO Welcome to the CDS\n",
      "2024-02-22 03:35:31,527 INFO Sending request to https://cds.climate.copernicus.eu/api/v2/resources/reanalysis-era5-single-levels\n",
      "2024-02-22 03:35:31,590 INFO Request is queued\n"
     ]
    }
   ],
   "source": [
    "# c = cdsapi.Client()\n",
    "# save_dir = \"/pool/proyectos/CLINT/sa4attrs/data/raw/events\"\n",
    "# save_path = Path(save_dir).joinpath(save_name)\n",
    "# c.retrieve(dataset, request, save_path) "
   ]
  },
  {
   "cell_type": "code",
   "execution_count": null,
   "id": "e2f0215a-d685-42fc-820a-a7182a5c0419",
   "metadata": {},
   "outputs": [],
   "source": []
  },
  {
   "cell_type": "markdown",
   "id": "6f339dcb-d7f9-4571-b9d2-4fc4c6475f0c",
   "metadata": {},
   "source": [
    "#### Download: Pressure Levels"
   ]
  },
  {
   "cell_type": "markdown",
   "id": "4796d984-93d1-4169-bf00-913a3c3d8c9c",
   "metadata": {},
   "source": [
    "#### **Example**: Download Single Variable, Single Pressure Level\n",
    "\n",
    "> In this example, we will demonstrate how we can download a single variable at a single pressure level."
   ]
  },
  {
   "cell_type": "markdown",
   "id": "fd34cb80-77a8-425a-ade3-dfe80c7c599a",
   "metadata": {},
   "source": [
    "First, we need to do some preprocessing of the list of variables. \n",
    "Currently, there are multiple variables available."
   ]
  },
  {
   "cell_type": "code",
   "execution_count": 22,
   "id": "ecefa4a5-3691-4a51-b81e-67d0f201723f",
   "metadata": {},
   "outputs": [],
   "source": [
    "# get unique variables\n",
    "unique_vars = list(set(map(lambda x: x.name, pl_variables)))\n",
    "unique_vars\n",
    "# extract variable of interest\n",
    "pl_u = list(filter(lambda x: x.short_name in [\"u\"], pl_variables))"
   ]
  },
  {
   "cell_type": "code",
   "execution_count": 16,
   "id": "08dfcee3-8b3d-42e0-b801-8538145d14b8",
   "metadata": {},
   "outputs": [
    {
     "name": "stdout",
     "output_type": "stream",
     "text": [
      "{'area': (90, -180, -90, 180),\n",
      " 'day': ['01'],\n",
      " 'format': 'grib',\n",
      " 'grid': (0.25, 0.25),\n",
      " 'month': ['08'],\n",
      " 'param': ['131'],\n",
      " 'pressure_level': [1000],\n",
      " 'product_type': 'reanalysis',\n",
      " 'time': ['00:00'],\n",
      " 'year': ['2018']}\n"
     ]
    },
    {
     "data": {
      "text/plain": [
       "('reanalysis-era5-pressure-levels',\n",
       " None,\n",
       " 'reanalysis-u1000-20180801-00:00-pl.grib')"
      ]
     },
     "execution_count": 16,
     "metadata": {},
     "output_type": "execute_result"
    }
   ],
   "source": [
    "# find unique variables\n",
    "dataset, request, save_name = create_request_pressure_level(pl_u[0], time, format=\"grib\")\n",
    "dataset, pprint.pprint(request), save_name"
   ]
  },
  {
   "cell_type": "code",
   "execution_count": 17,
   "id": "f91cd4cd-2eb9-4667-8bb3-c44ae753f559",
   "metadata": {},
   "outputs": [],
   "source": [
    "# c = cdsapi.Client()\n",
    "# save_dir = \"./\"\n",
    "# save_path = Path(save_dir).joinpath(save_name)\n",
    "# c.retrieve(dataset, joint_requests, save_name) "
   ]
  },
  {
   "cell_type": "markdown",
   "id": "0bc7576b-2f8f-4c7f-b953-b2e60439841d",
   "metadata": {},
   "source": [
    "#### **Example**: Download - Single Variable, Multiple Pressure Levels\n",
    "\n",
    "In this example, we download a single variable at multiple pressure levels."
   ]
  },
  {
   "cell_type": "code",
   "execution_count": 18,
   "id": "1dee318d-069c-4d1a-955d-aafbf3a1143e",
   "metadata": {},
   "outputs": [],
   "source": [
    "from bayesevt._src.data.era5.download import create_request_pressure_level_multi"
   ]
  },
  {
   "cell_type": "code",
   "execution_count": 19,
   "id": "01776b5e-347e-4444-9fb6-c60001209677",
   "metadata": {},
   "outputs": [
    {
     "name": "stdout",
     "output_type": "stream",
     "text": [
      "{'area': (90, -180, -90, 180),\n",
      " 'day': ['01'],\n",
      " 'format': 'grib',\n",
      " 'grid': (0.25, 0.25),\n",
      " 'month': ['08'],\n",
      " 'param': '131',\n",
      " 'pressure_level': [1000, 850, 250, 500],\n",
      " 'product_type': 'reanalysis',\n",
      " 'time': ['00:00'],\n",
      " 'year': ['2018']}\n"
     ]
    },
    {
     "data": {
      "text/plain": [
       "(None, 'reanalysis-20180801-00:00-pl.grib')"
      ]
     },
     "execution_count": 19,
     "metadata": {},
     "output_type": "execute_result"
    }
   ],
   "source": [
    "dataset, request, save_name = create_request_pressure_level_multi(\n",
    "    codes=pl_u,\n",
    "    time=time, \n",
    "    save_format=\"netcdf\",\n",
    ")\n",
    "pprint.pprint(request), save_name"
   ]
  },
  {
   "cell_type": "code",
   "execution_count": 43,
   "id": "e75e2beb-2fae-4889-8ad4-228cdecc6c8b",
   "metadata": {},
   "outputs": [
    {
     "ename": "NameError",
     "evalue": "name 'joint_requests' is not defined",
     "output_type": "error",
     "traceback": [
      "\u001b[0;31m---------------------------------------------------------------------------\u001b[0m",
      "\u001b[0;31mNameError\u001b[0m                                 Traceback (most recent call last)",
      "Cell \u001b[0;32mIn[43], line 4\u001b[0m\n\u001b[1;32m      2\u001b[0m save_dir \u001b[38;5;241m=\u001b[39m \u001b[38;5;124m\"\u001b[39m\u001b[38;5;124m./\u001b[39m\u001b[38;5;124m\"\u001b[39m\n\u001b[1;32m      3\u001b[0m save_path \u001b[38;5;241m=\u001b[39m Path(save_dir)\u001b[38;5;241m.\u001b[39mjoinpath(save_name)\n\u001b[0;32m----> 4\u001b[0m c\u001b[38;5;241m.\u001b[39mretrieve(dataset, \u001b[43mjoint_requests\u001b[49m, save_name) \n",
      "\u001b[0;31mNameError\u001b[0m: name 'joint_requests' is not defined"
     ]
    }
   ],
   "source": [
    "c = cdsapi.Client()\n",
    "save_dir = \"./\"\n",
    "save_path = Path(save_dir).joinpath(save_name)\n",
    "c.retrieve(dataset, joint_requests, save_name) "
   ]
  },
  {
   "cell_type": "markdown",
   "id": "001222ba-4175-42d3-a8a0-124c80e09085",
   "metadata": {},
   "source": [
    "#### **Example**: Download - Multiple Variables, Multiple Pressure Levels"
   ]
  },
  {
   "cell_type": "code",
   "execution_count": 42,
   "id": "c3f59cac-b040-4753-bbf4-f8be691cc2ee",
   "metadata": {},
   "outputs": [
    {
     "name": "stdout",
     "output_type": "stream",
     "text": [
      "{'area': (90, -180, -90, 180),\n",
      " 'day': ['01'],\n",
      " 'format': 'grib',\n",
      " 'grid': (0.25, 0.25),\n",
      " 'month': ['08'],\n",
      " 'param': '132/131/157/129/133/130',\n",
      " 'pressure_level': [100,\n",
      "                    200,\n",
      "                    1000,\n",
      "                    300,\n",
      "                    400,\n",
      "                    850,\n",
      "                    50,\n",
      "                    500,\n",
      "                    150,\n",
      "                    600,\n",
      "                    250,\n",
      "                    700,\n",
      "                    925],\n",
      " 'product_type': 'reanalysis',\n",
      " 'time': ['00:00'],\n",
      " 'year': ['2018']}\n"
     ]
    },
    {
     "data": {
      "text/plain": [
       "(None, 'reanalysis-20180801-00:00-pl.grib')"
      ]
     },
     "execution_count": 42,
     "metadata": {},
     "output_type": "execute_result"
    }
   ],
   "source": [
    "dataset, request, save_name = create_request_pressure_level_multi(\n",
    "    codes=pl_variables, \n",
    "    time=time, \n",
    "    save_format=\"grib\",\n",
    ")\n",
    "pprint.pprint(request), save_name"
   ]
  },
  {
   "cell_type": "code",
   "execution_count": 27,
   "id": "f0de1b4d-b539-4918-b61e-f5a9072a54cd",
   "metadata": {},
   "outputs": [
    {
     "name": "stderr",
     "output_type": "stream",
     "text": [
      "2024-02-22 03:35:09,865 INFO Welcome to the CDS\n",
      "2024-02-22 03:35:09,865 INFO Sending request to https://cds.climate.copernicus.eu/api/v2/resources/reanalysis-era5-pressure-levels\n",
      "2024-02-22 03:35:09,917 INFO Request is queued\n"
     ]
    },
    {
     "ename": "KeyboardInterrupt",
     "evalue": "",
     "output_type": "error",
     "traceback": [
      "\u001b[0;31m---------------------------------------------------------------------------\u001b[0m",
      "\u001b[0;31mKeyboardInterrupt\u001b[0m                         Traceback (most recent call last)",
      "Cell \u001b[0;32mIn[27], line 3\u001b[0m\n\u001b[1;32m      1\u001b[0m c \u001b[38;5;241m=\u001b[39m cdsapi\u001b[38;5;241m.\u001b[39mClient()\n\u001b[1;32m      2\u001b[0m save_path \u001b[38;5;241m=\u001b[39m Path(save_dir)\u001b[38;5;241m.\u001b[39mjoinpath(save_name)\n\u001b[0;32m----> 3\u001b[0m \u001b[43mc\u001b[49m\u001b[38;5;241;43m.\u001b[39;49m\u001b[43mretrieve\u001b[49m\u001b[43m(\u001b[49m\u001b[43mdataset\u001b[49m\u001b[43m,\u001b[49m\u001b[43m \u001b[49m\u001b[43mrequest\u001b[49m\u001b[43m,\u001b[49m\u001b[43m \u001b[49m\u001b[43msave_name\u001b[49m\u001b[43m)\u001b[49m \n",
      "File \u001b[0;32m~/miniconda/envs/bayesevt_ai/lib/python3.10/site-packages/cdsapi/api.py:364\u001b[0m, in \u001b[0;36mClient.retrieve\u001b[0;34m(self, name, request, target)\u001b[0m\n\u001b[1;32m    363\u001b[0m \u001b[38;5;28;01mdef\u001b[39;00m \u001b[38;5;21mretrieve\u001b[39m(\u001b[38;5;28mself\u001b[39m, name, request, target\u001b[38;5;241m=\u001b[39m\u001b[38;5;28;01mNone\u001b[39;00m):\n\u001b[0;32m--> 364\u001b[0m     result \u001b[38;5;241m=\u001b[39m \u001b[38;5;28;43mself\u001b[39;49m\u001b[38;5;241;43m.\u001b[39;49m\u001b[43m_api\u001b[49m\u001b[43m(\u001b[49m\u001b[38;5;124;43m\"\u001b[39;49m\u001b[38;5;132;43;01m%s\u001b[39;49;00m\u001b[38;5;124;43m/resources/\u001b[39;49m\u001b[38;5;132;43;01m%s\u001b[39;49;00m\u001b[38;5;124;43m\"\u001b[39;49m\u001b[43m \u001b[49m\u001b[38;5;241;43m%\u001b[39;49m\u001b[43m \u001b[49m\u001b[43m(\u001b[49m\u001b[38;5;28;43mself\u001b[39;49m\u001b[38;5;241;43m.\u001b[39;49m\u001b[43murl\u001b[49m\u001b[43m,\u001b[49m\u001b[43m \u001b[49m\u001b[43mname\u001b[49m\u001b[43m)\u001b[49m\u001b[43m,\u001b[49m\u001b[43m \u001b[49m\u001b[43mrequest\u001b[49m\u001b[43m,\u001b[49m\u001b[43m \u001b[49m\u001b[38;5;124;43m\"\u001b[39;49m\u001b[38;5;124;43mPOST\u001b[39;49m\u001b[38;5;124;43m\"\u001b[39;49m\u001b[43m)\u001b[49m\n\u001b[1;32m    365\u001b[0m     \u001b[38;5;28;01mif\u001b[39;00m target \u001b[38;5;129;01mis\u001b[39;00m \u001b[38;5;129;01mnot\u001b[39;00m \u001b[38;5;28;01mNone\u001b[39;00m:\n\u001b[1;32m    366\u001b[0m         result\u001b[38;5;241m.\u001b[39mdownload(target)\n",
      "File \u001b[0;32m~/miniconda/envs/bayesevt_ai/lib/python3.10/site-packages/cdsapi/api.py:492\u001b[0m, in \u001b[0;36mClient._api\u001b[0;34m(self, url, request, method)\u001b[0m\n\u001b[1;32m    489\u001b[0m rid \u001b[38;5;241m=\u001b[39m reply[\u001b[38;5;124m\"\u001b[39m\u001b[38;5;124mrequest_id\u001b[39m\u001b[38;5;124m\"\u001b[39m]\n\u001b[1;32m    491\u001b[0m \u001b[38;5;28mself\u001b[39m\u001b[38;5;241m.\u001b[39mdebug(\u001b[38;5;124m\"\u001b[39m\u001b[38;5;124mRequest ID is \u001b[39m\u001b[38;5;132;01m%s\u001b[39;00m\u001b[38;5;124m, sleep \u001b[39m\u001b[38;5;132;01m%s\u001b[39;00m\u001b[38;5;124m\"\u001b[39m, rid, sleep)\n\u001b[0;32m--> 492\u001b[0m \u001b[43mtime\u001b[49m\u001b[38;5;241;43m.\u001b[39;49m\u001b[43msleep\u001b[49m\u001b[43m(\u001b[49m\u001b[43msleep\u001b[49m\u001b[43m)\u001b[49m\n\u001b[1;32m    493\u001b[0m sleep \u001b[38;5;241m*\u001b[39m\u001b[38;5;241m=\u001b[39m \u001b[38;5;241m1.5\u001b[39m\n\u001b[1;32m    494\u001b[0m \u001b[38;5;28;01mif\u001b[39;00m sleep \u001b[38;5;241m>\u001b[39m \u001b[38;5;28mself\u001b[39m\u001b[38;5;241m.\u001b[39msleep_max:\n",
      "\u001b[0;31mKeyboardInterrupt\u001b[0m: "
     ]
    }
   ],
   "source": [
    "# c = cdsapi.Client()\n",
    "# save_path = Path(save_dir).joinpath(save_name)\n",
    "# c.retrieve(dataset, request, save_name) "
   ]
  },
  {
   "cell_type": "markdown",
   "id": "7977dfcf-cb2d-4c08-a386-56c7517574e5",
   "metadata": {},
   "source": [
    "## Case II: Explicit Names & Levels\n",
    "\n",
    "This is arguably easier to manipulate."
   ]
  },
  {
   "cell_type": "code",
   "execution_count": 23,
   "id": "c88b5e9c-8739-434e-b3fb-45780503f45b",
   "metadata": {},
   "outputs": [],
   "source": [
    "pl_variables = ['t', 'u', 'v', 'z', 'r']\n",
    "pl_levels = [1000, 925, 850, 700, 600, 500, 400, 300, 250, 200, 150, 100, 50]\n",
    "sl_variables = ['u10m', 'v10m', 't2m', 'sp', 'msl', 'tcwv', 'u100m', 'v100m']"
   ]
  },
  {
   "cell_type": "code",
   "execution_count": 24,
   "id": "9b7a7361-5bf8-420c-ad80-f1ed65da8141",
   "metadata": {},
   "outputs": [],
   "source": [
    "sl_vars = list(map(lambda x: SingleLevelCode.from_name(x), sl_variables))\n"
   ]
  },
  {
   "cell_type": "code",
   "execution_count": 25,
   "id": "faa5d8b2-d649-4c5d-9a57-745be62f2875",
   "metadata": {},
   "outputs": [
    {
     "name": "stdout",
     "output_type": "stream",
     "text": [
      "{'area': (90, -180, -90, 180),\n",
      " 'day': ['01'],\n",
      " 'format': 'grib',\n",
      " 'grid': (0.25, 0.25),\n",
      " 'month': ['08'],\n",
      " 'param': '151/166/137/165/167/228246/228247/134',\n",
      " 'product_type': 'reanalysis',\n",
      " 'time': ['00:00'],\n",
      " 'year': ['2018']}\n"
     ]
    },
    {
     "data": {
      "text/plain": [
       "('reanalysis-era5-single-levels', None, 'reanalysis-20180801-00:00-sl.grib')"
      ]
     },
     "execution_count": 25,
     "metadata": {},
     "output_type": "execute_result"
    }
   ],
   "source": [
    "# create request\n",
    "\n",
    "dataset, request, save_name = create_request_single_level_multi(\n",
    "    sl_vars, \n",
    "    time=time,\n",
    "    region=GLOBE,\n",
    "    grid=RES025,\n",
    "    format=format\n",
    "    \n",
    ")\n",
    "dataset, pprint.pprint(request), save_name"
   ]
  },
  {
   "cell_type": "code",
   "execution_count": 26,
   "id": "22ab9d42-8b5b-4c7c-aa07-82b02f7ef406",
   "metadata": {},
   "outputs": [],
   "source": [
    "# c = cdsapi.Client()\n",
    "# save_dir = \"./\"\n",
    "# save_path = Path(save_dir).joinpath(save_name)\n",
    "# c.retrieve(dataset, request, save_name) "
   ]
  },
  {
   "cell_type": "code",
   "execution_count": 27,
   "id": "fb417aaf-6211-4562-b12f-cfab56e04ca4",
   "metadata": {},
   "outputs": [],
   "source": [
    "from itertools import product"
   ]
  },
  {
   "cell_type": "code",
   "execution_count": 28,
   "id": "5816b7f9-9f35-465a-bf52-a08ffcdb925d",
   "metadata": {},
   "outputs": [],
   "source": [
    "# get product of all variables and levels\n",
    "pl_levels_and_variables = list(product(sl_variables, pl_levels))\n",
    "# criteria to create code\n",
    "op = lambda x: PressureLevelCode(id=x[0], level=x[1])\n",
    "# create codes\n",
    "pl_var_and_levels = list(map(op, pl_levels_and_variables))"
   ]
  },
  {
   "cell_type": "code",
   "execution_count": 29,
   "id": "fee897eb-6535-41d4-b061-a672962a03a0",
   "metadata": {},
   "outputs": [
    {
     "name": "stdout",
     "output_type": "stream",
     "text": [
      "{'area': (90, -180, -90, 180),\n",
      " 'day': ['01'],\n",
      " 'format': 'grib',\n",
      " 'grid': (0.25, 0.25),\n",
      " 'month': ['08'],\n",
      " 'param': 'sp/msl/u10m/tcwv/v100m/t2m/v10m/u100m',\n",
      " 'pressure_level': [100,\n",
      "                    1000,\n",
      "                    200,\n",
      "                    300,\n",
      "                    400,\n",
      "                    850,\n",
      "                    50,\n",
      "                    500,\n",
      "                    150,\n",
      "                    600,\n",
      "                    250,\n",
      "                    700,\n",
      "                    925],\n",
      " 'product_type': 'reanalysis',\n",
      " 'time': ['00:00'],\n",
      " 'year': ['2018']}\n"
     ]
    },
    {
     "data": {
      "text/plain": [
       "('reanalysis-era5-pressure-levels', None, 'reanalysis-20180801-00:00-pl.grib')"
      ]
     },
     "execution_count": 29,
     "metadata": {},
     "output_type": "execute_result"
    }
   ],
   "source": [
    "dataset, request, save_name = create_request_pressure_level_multi(\n",
    "    codes=pl_var_and_levels, \n",
    "    time=time, \n",
    "    format=\"grib\",\n",
    ")\n",
    "dataset, pprint.pprint(request), save_name"
   ]
  },
  {
   "cell_type": "code",
   "execution_count": 30,
   "id": "c0be61b4-5145-44a4-a5e9-80512e730db6",
   "metadata": {},
   "outputs": [],
   "source": [
    "# c = cdsapi.Client()\n",
    "# save_dir = \"./\"\n",
    "# save_path = Path(save_dir).joinpath(save_name)\n",
    "# c.retrieve(dataset, request, save_name) "
   ]
  },
  {
   "cell_type": "code",
   "execution_count": 31,
   "id": "ec619570-ae0b-4014-ad19-b6952d3b64f9",
   "metadata": {},
   "outputs": [],
   "source": [
    "from earth2mip.datasets.era5 import _create_virtual_dataset"
   ]
  },
  {
   "cell_type": "code",
   "execution_count": 32,
   "id": "9f30d7e6-0f6b-4ae9-b0a1-d1f090b9710a",
   "metadata": {},
   "outputs": [
    {
     "ename": "IndexError",
     "evalue": "list index out of range",
     "output_type": "error",
     "traceback": [
      "\u001b[0;31m---------------------------------------------------------------------------\u001b[0m",
      "\u001b[0;31mIndexError\u001b[0m                                Traceback (most recent call last)",
      "Cell \u001b[0;32mIn[32], line 1\u001b[0m\n\u001b[0;32m----> 1\u001b[0m \u001b[43m_create_virtual_dataset\u001b[49m\u001b[43m(\u001b[49m\u001b[38;5;124;43m\"\u001b[39;49m\u001b[38;5;124;43m./\u001b[39;49m\u001b[38;5;124;43m\"\u001b[39;49m\u001b[43m,\u001b[49m\u001b[43m \u001b[49m\u001b[38;5;124;43m\"\u001b[39;49m\u001b[38;5;124;43mtest\u001b[39;49m\u001b[38;5;124;43m\"\u001b[39;49m\u001b[43m)\u001b[49m\n",
      "File \u001b[0;32m~/miniconda/envs/bayesevt_ai/lib/python3.10/site-packages/earth2mip/datasets/era5/__init__.py:93\u001b[0m, in \u001b[0;36m_create_virtual_dataset\u001b[0;34m(root, virtual_dataset_path)\u001b[0m\n\u001b[1;32m     90\u001b[0m file_paths \u001b[38;5;241m=\u001b[39m \u001b[38;5;28msorted\u001b[39m(file_paths, key\u001b[38;5;241m=\u001b[39mos\u001b[38;5;241m.\u001b[39mpath\u001b[38;5;241m.\u001b[39mbasename)\n\u001b[1;32m     92\u001b[0m \u001b[38;5;66;03m# Open the first file to extract the dataset shape\u001b[39;00m\n\u001b[0;32m---> 93\u001b[0m \u001b[38;5;28;01mwith\u001b[39;00m h5py\u001b[38;5;241m.\u001b[39mFile(\u001b[43mfile_paths\u001b[49m\u001b[43m[\u001b[49m\u001b[38;5;241;43m0\u001b[39;49m\u001b[43m]\u001b[49m, \u001b[38;5;124m\"\u001b[39m\u001b[38;5;124mr\u001b[39m\u001b[38;5;124m\"\u001b[39m) \u001b[38;5;28;01mas\u001b[39;00m f:\n\u001b[1;32m     94\u001b[0m     dataset_shape \u001b[38;5;241m=\u001b[39m f[\u001b[38;5;124m\"\u001b[39m\u001b[38;5;124mfields\u001b[39m\u001b[38;5;124m\"\u001b[39m]\u001b[38;5;241m.\u001b[39mshape\n\u001b[1;32m     96\u001b[0m \u001b[38;5;66;03m# Create the virtual dataset\u001b[39;00m\n",
      "\u001b[0;31mIndexError\u001b[0m: list index out of range"
     ]
    }
   ],
   "source": [
    "_create_virtual_dataset(\"./\", \"test\")"
   ]
  },
  {
   "cell_type": "markdown",
   "id": "17974b8b-0dfb-42a4-9395-5a126316c531",
   "metadata": {},
   "source": [
    "## HACKY DATA"
   ]
  },
  {
   "cell_type": "code",
   "execution_count": 17,
   "id": "7e77d29a-e0f3-4b74-9def-1e2f70fe2289",
   "metadata": {},
   "outputs": [],
   "source": [
    "save_path = Path(\"/pool/proyectos/CLINT/sa4attrs/data/raw/events/\")\n",
    "netcdf_files = [\n",
    "    save_path.joinpath(\"reanalysis-201808010000-pl.nc\"),\n",
    "    save_path.joinpath(\"reanalysis-201808010000-sl.nc\")\n",
    "]\n",
    "\n",
    "ds = xr.open_mfdataset(netcdf_files, combine=\"by_coords\", engine=\"netcdf4\")\n",
    "ds.to_netcdf(save_path.joinpath(\"reanalysis-201808010000.nc\"), engine=\"netcdf4\")\n",
    "ds = xr.open_dataset(save_path.joinpath(\"reanalysis-201808010000.nc\"))"
   ]
  },
  {
   "cell_type": "code",
   "execution_count": 18,
   "id": "3b0ba966-1b9c-4ff3-8c94-adba785d2236",
   "metadata": {},
   "outputs": [
    {
     "data": {
      "text/html": [
       "<div><svg style=\"position: absolute; width: 0; height: 0; overflow: hidden\">\n",
       "<defs>\n",
       "<symbol id=\"icon-database\" viewBox=\"0 0 32 32\">\n",
       "<path d=\"M16 0c-8.837 0-16 2.239-16 5v4c0 2.761 7.163 5 16 5s16-2.239 16-5v-4c0-2.761-7.163-5-16-5z\"></path>\n",
       "<path d=\"M16 17c-8.837 0-16-2.239-16-5v6c0 2.761 7.163 5 16 5s16-2.239 16-5v-6c0 2.761-7.163 5-16 5z\"></path>\n",
       "<path d=\"M16 26c-8.837 0-16-2.239-16-5v6c0 2.761 7.163 5 16 5s16-2.239 16-5v-6c0 2.761-7.163 5-16 5z\"></path>\n",
       "</symbol>\n",
       "<symbol id=\"icon-file-text2\" viewBox=\"0 0 32 32\">\n",
       "<path d=\"M28.681 7.159c-0.694-0.947-1.662-2.053-2.724-3.116s-2.169-2.030-3.116-2.724c-1.612-1.182-2.393-1.319-2.841-1.319h-15.5c-1.378 0-2.5 1.121-2.5 2.5v27c0 1.378 1.122 2.5 2.5 2.5h23c1.378 0 2.5-1.122 2.5-2.5v-19.5c0-0.448-0.137-1.23-1.319-2.841zM24.543 5.457c0.959 0.959 1.712 1.825 2.268 2.543h-4.811v-4.811c0.718 0.556 1.584 1.309 2.543 2.268zM28 29.5c0 0.271-0.229 0.5-0.5 0.5h-23c-0.271 0-0.5-0.229-0.5-0.5v-27c0-0.271 0.229-0.5 0.5-0.5 0 0 15.499-0 15.5 0v7c0 0.552 0.448 1 1 1h7v19.5z\"></path>\n",
       "<path d=\"M23 26h-14c-0.552 0-1-0.448-1-1s0.448-1 1-1h14c0.552 0 1 0.448 1 1s-0.448 1-1 1z\"></path>\n",
       "<path d=\"M23 22h-14c-0.552 0-1-0.448-1-1s0.448-1 1-1h14c0.552 0 1 0.448 1 1s-0.448 1-1 1z\"></path>\n",
       "<path d=\"M23 18h-14c-0.552 0-1-0.448-1-1s0.448-1 1-1h14c0.552 0 1 0.448 1 1s-0.448 1-1 1z\"></path>\n",
       "</symbol>\n",
       "</defs>\n",
       "</svg>\n",
       "<style>/* CSS stylesheet for displaying xarray objects in jupyterlab.\n",
       " *\n",
       " */\n",
       "\n",
       ":root {\n",
       "  --xr-font-color0: var(--jp-content-font-color0, rgba(0, 0, 0, 1));\n",
       "  --xr-font-color2: var(--jp-content-font-color2, rgba(0, 0, 0, 0.54));\n",
       "  --xr-font-color3: var(--jp-content-font-color3, rgba(0, 0, 0, 0.38));\n",
       "  --xr-border-color: var(--jp-border-color2, #e0e0e0);\n",
       "  --xr-disabled-color: var(--jp-layout-color3, #bdbdbd);\n",
       "  --xr-background-color: var(--jp-layout-color0, white);\n",
       "  --xr-background-color-row-even: var(--jp-layout-color1, white);\n",
       "  --xr-background-color-row-odd: var(--jp-layout-color2, #eeeeee);\n",
       "}\n",
       "\n",
       "html[theme=dark],\n",
       "body[data-theme=dark],\n",
       "body.vscode-dark {\n",
       "  --xr-font-color0: rgba(255, 255, 255, 1);\n",
       "  --xr-font-color2: rgba(255, 255, 255, 0.54);\n",
       "  --xr-font-color3: rgba(255, 255, 255, 0.38);\n",
       "  --xr-border-color: #1F1F1F;\n",
       "  --xr-disabled-color: #515151;\n",
       "  --xr-background-color: #111111;\n",
       "  --xr-background-color-row-even: #111111;\n",
       "  --xr-background-color-row-odd: #313131;\n",
       "}\n",
       "\n",
       ".xr-wrap {\n",
       "  display: block !important;\n",
       "  min-width: 300px;\n",
       "  max-width: 700px;\n",
       "}\n",
       "\n",
       ".xr-text-repr-fallback {\n",
       "  /* fallback to plain text repr when CSS is not injected (untrusted notebook) */\n",
       "  display: none;\n",
       "}\n",
       "\n",
       ".xr-header {\n",
       "  padding-top: 6px;\n",
       "  padding-bottom: 6px;\n",
       "  margin-bottom: 4px;\n",
       "  border-bottom: solid 1px var(--xr-border-color);\n",
       "}\n",
       "\n",
       ".xr-header > div,\n",
       ".xr-header > ul {\n",
       "  display: inline;\n",
       "  margin-top: 0;\n",
       "  margin-bottom: 0;\n",
       "}\n",
       "\n",
       ".xr-obj-type,\n",
       ".xr-array-name {\n",
       "  margin-left: 2px;\n",
       "  margin-right: 10px;\n",
       "}\n",
       "\n",
       ".xr-obj-type {\n",
       "  color: var(--xr-font-color2);\n",
       "}\n",
       "\n",
       ".xr-sections {\n",
       "  padding-left: 0 !important;\n",
       "  display: grid;\n",
       "  grid-template-columns: 150px auto auto 1fr 20px 20px;\n",
       "}\n",
       "\n",
       ".xr-section-item {\n",
       "  display: contents;\n",
       "}\n",
       "\n",
       ".xr-section-item input {\n",
       "  display: none;\n",
       "}\n",
       "\n",
       ".xr-section-item input + label {\n",
       "  color: var(--xr-disabled-color);\n",
       "}\n",
       "\n",
       ".xr-section-item input:enabled + label {\n",
       "  cursor: pointer;\n",
       "  color: var(--xr-font-color2);\n",
       "}\n",
       "\n",
       ".xr-section-item input:enabled + label:hover {\n",
       "  color: var(--xr-font-color0);\n",
       "}\n",
       "\n",
       ".xr-section-summary {\n",
       "  grid-column: 1;\n",
       "  color: var(--xr-font-color2);\n",
       "  font-weight: 500;\n",
       "}\n",
       "\n",
       ".xr-section-summary > span {\n",
       "  display: inline-block;\n",
       "  padding-left: 0.5em;\n",
       "}\n",
       "\n",
       ".xr-section-summary-in:disabled + label {\n",
       "  color: var(--xr-font-color2);\n",
       "}\n",
       "\n",
       ".xr-section-summary-in + label:before {\n",
       "  display: inline-block;\n",
       "  content: '►';\n",
       "  font-size: 11px;\n",
       "  width: 15px;\n",
       "  text-align: center;\n",
       "}\n",
       "\n",
       ".xr-section-summary-in:disabled + label:before {\n",
       "  color: var(--xr-disabled-color);\n",
       "}\n",
       "\n",
       ".xr-section-summary-in:checked + label:before {\n",
       "  content: '▼';\n",
       "}\n",
       "\n",
       ".xr-section-summary-in:checked + label > span {\n",
       "  display: none;\n",
       "}\n",
       "\n",
       ".xr-section-summary,\n",
       ".xr-section-inline-details {\n",
       "  padding-top: 4px;\n",
       "  padding-bottom: 4px;\n",
       "}\n",
       "\n",
       ".xr-section-inline-details {\n",
       "  grid-column: 2 / -1;\n",
       "}\n",
       "\n",
       ".xr-section-details {\n",
       "  display: none;\n",
       "  grid-column: 1 / -1;\n",
       "  margin-bottom: 5px;\n",
       "}\n",
       "\n",
       ".xr-section-summary-in:checked ~ .xr-section-details {\n",
       "  display: contents;\n",
       "}\n",
       "\n",
       ".xr-array-wrap {\n",
       "  grid-column: 1 / -1;\n",
       "  display: grid;\n",
       "  grid-template-columns: 20px auto;\n",
       "}\n",
       "\n",
       ".xr-array-wrap > label {\n",
       "  grid-column: 1;\n",
       "  vertical-align: top;\n",
       "}\n",
       "\n",
       ".xr-preview {\n",
       "  color: var(--xr-font-color3);\n",
       "}\n",
       "\n",
       ".xr-array-preview,\n",
       ".xr-array-data {\n",
       "  padding: 0 5px !important;\n",
       "  grid-column: 2;\n",
       "}\n",
       "\n",
       ".xr-array-data,\n",
       ".xr-array-in:checked ~ .xr-array-preview {\n",
       "  display: none;\n",
       "}\n",
       "\n",
       ".xr-array-in:checked ~ .xr-array-data,\n",
       ".xr-array-preview {\n",
       "  display: inline-block;\n",
       "}\n",
       "\n",
       ".xr-dim-list {\n",
       "  display: inline-block !important;\n",
       "  list-style: none;\n",
       "  padding: 0 !important;\n",
       "  margin: 0;\n",
       "}\n",
       "\n",
       ".xr-dim-list li {\n",
       "  display: inline-block;\n",
       "  padding: 0;\n",
       "  margin: 0;\n",
       "}\n",
       "\n",
       ".xr-dim-list:before {\n",
       "  content: '(';\n",
       "}\n",
       "\n",
       ".xr-dim-list:after {\n",
       "  content: ')';\n",
       "}\n",
       "\n",
       ".xr-dim-list li:not(:last-child):after {\n",
       "  content: ',';\n",
       "  padding-right: 5px;\n",
       "}\n",
       "\n",
       ".xr-has-index {\n",
       "  font-weight: bold;\n",
       "}\n",
       "\n",
       ".xr-var-list,\n",
       ".xr-var-item {\n",
       "  display: contents;\n",
       "}\n",
       "\n",
       ".xr-var-item > div,\n",
       ".xr-var-item label,\n",
       ".xr-var-item > .xr-var-name span {\n",
       "  background-color: var(--xr-background-color-row-even);\n",
       "  margin-bottom: 0;\n",
       "}\n",
       "\n",
       ".xr-var-item > .xr-var-name:hover span {\n",
       "  padding-right: 5px;\n",
       "}\n",
       "\n",
       ".xr-var-list > li:nth-child(odd) > div,\n",
       ".xr-var-list > li:nth-child(odd) > label,\n",
       ".xr-var-list > li:nth-child(odd) > .xr-var-name span {\n",
       "  background-color: var(--xr-background-color-row-odd);\n",
       "}\n",
       "\n",
       ".xr-var-name {\n",
       "  grid-column: 1;\n",
       "}\n",
       "\n",
       ".xr-var-dims {\n",
       "  grid-column: 2;\n",
       "}\n",
       "\n",
       ".xr-var-dtype {\n",
       "  grid-column: 3;\n",
       "  text-align: right;\n",
       "  color: var(--xr-font-color2);\n",
       "}\n",
       "\n",
       ".xr-var-preview {\n",
       "  grid-column: 4;\n",
       "}\n",
       "\n",
       ".xr-index-preview {\n",
       "  grid-column: 2 / 5;\n",
       "  color: var(--xr-font-color2);\n",
       "}\n",
       "\n",
       ".xr-var-name,\n",
       ".xr-var-dims,\n",
       ".xr-var-dtype,\n",
       ".xr-preview,\n",
       ".xr-attrs dt {\n",
       "  white-space: nowrap;\n",
       "  overflow: hidden;\n",
       "  text-overflow: ellipsis;\n",
       "  padding-right: 10px;\n",
       "}\n",
       "\n",
       ".xr-var-name:hover,\n",
       ".xr-var-dims:hover,\n",
       ".xr-var-dtype:hover,\n",
       ".xr-attrs dt:hover {\n",
       "  overflow: visible;\n",
       "  width: auto;\n",
       "  z-index: 1;\n",
       "}\n",
       "\n",
       ".xr-var-attrs,\n",
       ".xr-var-data,\n",
       ".xr-index-data {\n",
       "  display: none;\n",
       "  background-color: var(--xr-background-color) !important;\n",
       "  padding-bottom: 5px !important;\n",
       "}\n",
       "\n",
       ".xr-var-attrs-in:checked ~ .xr-var-attrs,\n",
       ".xr-var-data-in:checked ~ .xr-var-data,\n",
       ".xr-index-data-in:checked ~ .xr-index-data {\n",
       "  display: block;\n",
       "}\n",
       "\n",
       ".xr-var-data > table {\n",
       "  float: right;\n",
       "}\n",
       "\n",
       ".xr-var-name span,\n",
       ".xr-var-data,\n",
       ".xr-index-name div,\n",
       ".xr-index-data,\n",
       ".xr-attrs {\n",
       "  padding-left: 25px !important;\n",
       "}\n",
       "\n",
       ".xr-attrs,\n",
       ".xr-var-attrs,\n",
       ".xr-var-data,\n",
       ".xr-index-data {\n",
       "  grid-column: 1 / -1;\n",
       "}\n",
       "\n",
       "dl.xr-attrs {\n",
       "  padding: 0;\n",
       "  margin: 0;\n",
       "  display: grid;\n",
       "  grid-template-columns: 125px auto;\n",
       "}\n",
       "\n",
       ".xr-attrs dt,\n",
       ".xr-attrs dd {\n",
       "  padding: 0;\n",
       "  margin: 0;\n",
       "  float: left;\n",
       "  padding-right: 10px;\n",
       "  width: auto;\n",
       "}\n",
       "\n",
       ".xr-attrs dt {\n",
       "  font-weight: normal;\n",
       "  grid-column: 1;\n",
       "}\n",
       "\n",
       ".xr-attrs dt:hover span {\n",
       "  display: inline-block;\n",
       "  background: var(--xr-background-color);\n",
       "  padding-right: 10px;\n",
       "}\n",
       "\n",
       ".xr-attrs dd {\n",
       "  grid-column: 2;\n",
       "  white-space: pre-wrap;\n",
       "  word-break: break-all;\n",
       "}\n",
       "\n",
       ".xr-icon-database,\n",
       ".xr-icon-file-text2,\n",
       ".xr-no-icon {\n",
       "  display: inline-block;\n",
       "  vertical-align: middle;\n",
       "  width: 1em;\n",
       "  height: 1.5em !important;\n",
       "  stroke-width: 0;\n",
       "  stroke: currentColor;\n",
       "  fill: currentColor;\n",
       "}\n",
       "</style><pre class='xr-text-repr-fallback'>&lt;xarray.Dataset&gt; Size: 353MB\n",
       "Dimensions:    (longitude: 1440, latitude: 721, time: 1, level: 13)\n",
       "Coordinates:\n",
       "  * longitude  (longitude) float32 6kB -180.0 -179.8 -179.5 ... 179.5 179.8\n",
       "  * latitude   (latitude) float32 3kB 90.0 89.75 89.5 ... -89.5 -89.75 -90.0\n",
       "  * time       (time) datetime64[ns] 8B 2018-08-01\n",
       "  * level      (level) int32 52B 100 200 1000 300 400 ... 150 600 250 700 925\n",
       "Data variables: (12/13)\n",
       "    tcwv       (time, latitude, longitude) float32 4MB ...\n",
       "    u10        (time, latitude, longitude) float32 4MB ...\n",
       "    msl        (time, latitude, longitude) float32 4MB ...\n",
       "    u100       (time, latitude, longitude) float32 4MB ...\n",
       "    sp         (time, latitude, longitude) float32 4MB ...\n",
       "    v100       (time, latitude, longitude) float32 4MB ...\n",
       "    ...         ...\n",
       "    v          (time, level, latitude, longitude) float32 54MB ...\n",
       "    u          (time, level, latitude, longitude) float32 54MB ...\n",
       "    r          (time, level, latitude, longitude) float32 54MB ...\n",
       "    z          (time, level, latitude, longitude) float32 54MB ...\n",
       "    q          (time, level, latitude, longitude) float32 54MB ...\n",
       "    t          (time, level, latitude, longitude) float32 54MB ...\n",
       "Attributes:\n",
       "    Conventions:  CF-1.6\n",
       "    history:      2024-02-22 07:11:13 GMT by grib_to_netcdf-2.25.1: /opt/ecmw...</pre><div class='xr-wrap' style='display:none'><div class='xr-header'><div class='xr-obj-type'>xarray.Dataset</div></div><ul class='xr-sections'><li class='xr-section-item'><input id='section-ace9823f-7cfd-4179-9352-f45b1007b93c' class='xr-section-summary-in' type='checkbox' disabled ><label for='section-ace9823f-7cfd-4179-9352-f45b1007b93c' class='xr-section-summary'  title='Expand/collapse section'>Dimensions:</label><div class='xr-section-inline-details'><ul class='xr-dim-list'><li><span class='xr-has-index'>longitude</span>: 1440</li><li><span class='xr-has-index'>latitude</span>: 721</li><li><span class='xr-has-index'>time</span>: 1</li><li><span class='xr-has-index'>level</span>: 13</li></ul></div><div class='xr-section-details'></div></li><li class='xr-section-item'><input id='section-67cf150e-5dff-4b20-b0df-fece28634cc4' class='xr-section-summary-in' type='checkbox'  checked><label for='section-67cf150e-5dff-4b20-b0df-fece28634cc4' class='xr-section-summary' >Coordinates: <span>(4)</span></label><div class='xr-section-inline-details'></div><div class='xr-section-details'><ul class='xr-var-list'><li class='xr-var-item'><div class='xr-var-name'><span class='xr-has-index'>longitude</span></div><div class='xr-var-dims'>(longitude)</div><div class='xr-var-dtype'>float32</div><div class='xr-var-preview xr-preview'>-180.0 -179.8 ... 179.5 179.8</div><input id='attrs-8aa2401b-217b-43c4-8a6a-c6a0ed9c50de' class='xr-var-attrs-in' type='checkbox' ><label for='attrs-8aa2401b-217b-43c4-8a6a-c6a0ed9c50de' title='Show/Hide attributes'><svg class='icon xr-icon-file-text2'><use xlink:href='#icon-file-text2'></use></svg></label><input id='data-11080350-7f58-45c2-ad18-ea101b2e223c' class='xr-var-data-in' type='checkbox'><label for='data-11080350-7f58-45c2-ad18-ea101b2e223c' title='Show/Hide data repr'><svg class='icon xr-icon-database'><use xlink:href='#icon-database'></use></svg></label><div class='xr-var-attrs'><dl class='xr-attrs'><dt><span>units :</span></dt><dd>degrees_east</dd><dt><span>long_name :</span></dt><dd>longitude</dd></dl></div><div class='xr-var-data'><pre>array([-180.  , -179.75, -179.5 , ...,  179.25,  179.5 ,  179.75],\n",
       "      dtype=float32)</pre></div></li><li class='xr-var-item'><div class='xr-var-name'><span class='xr-has-index'>latitude</span></div><div class='xr-var-dims'>(latitude)</div><div class='xr-var-dtype'>float32</div><div class='xr-var-preview xr-preview'>90.0 89.75 89.5 ... -89.75 -90.0</div><input id='attrs-19be4c3b-1bf4-4285-a5be-f3591274fcea' class='xr-var-attrs-in' type='checkbox' ><label for='attrs-19be4c3b-1bf4-4285-a5be-f3591274fcea' title='Show/Hide attributes'><svg class='icon xr-icon-file-text2'><use xlink:href='#icon-file-text2'></use></svg></label><input id='data-3be42176-db80-48d1-bb7f-dc98f3707dd9' class='xr-var-data-in' type='checkbox'><label for='data-3be42176-db80-48d1-bb7f-dc98f3707dd9' title='Show/Hide data repr'><svg class='icon xr-icon-database'><use xlink:href='#icon-database'></use></svg></label><div class='xr-var-attrs'><dl class='xr-attrs'><dt><span>units :</span></dt><dd>degrees_north</dd><dt><span>long_name :</span></dt><dd>latitude</dd></dl></div><div class='xr-var-data'><pre>array([ 90.  ,  89.75,  89.5 , ..., -89.5 , -89.75, -90.  ], dtype=float32)</pre></div></li><li class='xr-var-item'><div class='xr-var-name'><span class='xr-has-index'>time</span></div><div class='xr-var-dims'>(time)</div><div class='xr-var-dtype'>datetime64[ns]</div><div class='xr-var-preview xr-preview'>2018-08-01</div><input id='attrs-27b1eded-eb81-4ed0-a059-e3e8d4cb219b' class='xr-var-attrs-in' type='checkbox' ><label for='attrs-27b1eded-eb81-4ed0-a059-e3e8d4cb219b' title='Show/Hide attributes'><svg class='icon xr-icon-file-text2'><use xlink:href='#icon-file-text2'></use></svg></label><input id='data-5d643911-c00c-4c13-8ca4-4ea7d0035b11' class='xr-var-data-in' type='checkbox'><label for='data-5d643911-c00c-4c13-8ca4-4ea7d0035b11' title='Show/Hide data repr'><svg class='icon xr-icon-database'><use xlink:href='#icon-database'></use></svg></label><div class='xr-var-attrs'><dl class='xr-attrs'><dt><span>long_name :</span></dt><dd>time</dd></dl></div><div class='xr-var-data'><pre>array([&#x27;2018-08-01T00:00:00.000000000&#x27;], dtype=&#x27;datetime64[ns]&#x27;)</pre></div></li><li class='xr-var-item'><div class='xr-var-name'><span class='xr-has-index'>level</span></div><div class='xr-var-dims'>(level)</div><div class='xr-var-dtype'>int32</div><div class='xr-var-preview xr-preview'>100 200 1000 300 ... 250 700 925</div><input id='attrs-84ed7403-7aa7-469a-8804-f653314f4113' class='xr-var-attrs-in' type='checkbox' ><label for='attrs-84ed7403-7aa7-469a-8804-f653314f4113' title='Show/Hide attributes'><svg class='icon xr-icon-file-text2'><use xlink:href='#icon-file-text2'></use></svg></label><input id='data-3c9cab91-1a7f-4fcc-bce5-9c1f0b386567' class='xr-var-data-in' type='checkbox'><label for='data-3c9cab91-1a7f-4fcc-bce5-9c1f0b386567' title='Show/Hide data repr'><svg class='icon xr-icon-database'><use xlink:href='#icon-database'></use></svg></label><div class='xr-var-attrs'><dl class='xr-attrs'><dt><span>units :</span></dt><dd>millibars</dd><dt><span>long_name :</span></dt><dd>pressure_level</dd></dl></div><div class='xr-var-data'><pre>array([ 100,  200, 1000,  300,  400,  850,   50,  500,  150,  600,  250,  700,\n",
       "        925], dtype=int32)</pre></div></li></ul></div></li><li class='xr-section-item'><input id='section-eab35dcf-0754-469d-8097-d52b8ea4c0fe' class='xr-section-summary-in' type='checkbox'  checked><label for='section-eab35dcf-0754-469d-8097-d52b8ea4c0fe' class='xr-section-summary' >Data variables: <span>(13)</span></label><div class='xr-section-inline-details'></div><div class='xr-section-details'><ul class='xr-var-list'><li class='xr-var-item'><div class='xr-var-name'><span>tcwv</span></div><div class='xr-var-dims'>(time, latitude, longitude)</div><div class='xr-var-dtype'>float32</div><div class='xr-var-preview xr-preview'>...</div><input id='attrs-8914d47d-c761-486a-8816-82e0fadb84e7' class='xr-var-attrs-in' type='checkbox' ><label for='attrs-8914d47d-c761-486a-8816-82e0fadb84e7' title='Show/Hide attributes'><svg class='icon xr-icon-file-text2'><use xlink:href='#icon-file-text2'></use></svg></label><input id='data-f7a3bf84-1bbe-40fb-a8d6-1e59b0e29876' class='xr-var-data-in' type='checkbox'><label for='data-f7a3bf84-1bbe-40fb-a8d6-1e59b0e29876' title='Show/Hide data repr'><svg class='icon xr-icon-database'><use xlink:href='#icon-database'></use></svg></label><div class='xr-var-attrs'><dl class='xr-attrs'><dt><span>units :</span></dt><dd>kg m**-2</dd><dt><span>long_name :</span></dt><dd>Total column vertically-integrated water vapour</dd><dt><span>standard_name :</span></dt><dd>lwe_thickness_of_atmosphere_mass_content_of_water_vapor</dd></dl></div><div class='xr-var-data'><pre>[1038240 values with dtype=float32]</pre></div></li><li class='xr-var-item'><div class='xr-var-name'><span>u10</span></div><div class='xr-var-dims'>(time, latitude, longitude)</div><div class='xr-var-dtype'>float32</div><div class='xr-var-preview xr-preview'>...</div><input id='attrs-a7c093fd-1bb9-4427-bff1-ad4dbb26cd2b' class='xr-var-attrs-in' type='checkbox' ><label for='attrs-a7c093fd-1bb9-4427-bff1-ad4dbb26cd2b' title='Show/Hide attributes'><svg class='icon xr-icon-file-text2'><use xlink:href='#icon-file-text2'></use></svg></label><input id='data-19b6797b-2390-41a7-ae18-80167dd4975a' class='xr-var-data-in' type='checkbox'><label for='data-19b6797b-2390-41a7-ae18-80167dd4975a' title='Show/Hide data repr'><svg class='icon xr-icon-database'><use xlink:href='#icon-database'></use></svg></label><div class='xr-var-attrs'><dl class='xr-attrs'><dt><span>units :</span></dt><dd>m s**-1</dd><dt><span>long_name :</span></dt><dd>10 metre U wind component</dd></dl></div><div class='xr-var-data'><pre>[1038240 values with dtype=float32]</pre></div></li><li class='xr-var-item'><div class='xr-var-name'><span>msl</span></div><div class='xr-var-dims'>(time, latitude, longitude)</div><div class='xr-var-dtype'>float32</div><div class='xr-var-preview xr-preview'>...</div><input id='attrs-cdf88440-a27e-4247-bb97-9c21c813641c' class='xr-var-attrs-in' type='checkbox' ><label for='attrs-cdf88440-a27e-4247-bb97-9c21c813641c' title='Show/Hide attributes'><svg class='icon xr-icon-file-text2'><use xlink:href='#icon-file-text2'></use></svg></label><input id='data-1c1443e8-6d09-4553-a319-ecd4d72b5ba8' class='xr-var-data-in' type='checkbox'><label for='data-1c1443e8-6d09-4553-a319-ecd4d72b5ba8' title='Show/Hide data repr'><svg class='icon xr-icon-database'><use xlink:href='#icon-database'></use></svg></label><div class='xr-var-attrs'><dl class='xr-attrs'><dt><span>units :</span></dt><dd>Pa</dd><dt><span>long_name :</span></dt><dd>Mean sea level pressure</dd><dt><span>standard_name :</span></dt><dd>air_pressure_at_mean_sea_level</dd></dl></div><div class='xr-var-data'><pre>[1038240 values with dtype=float32]</pre></div></li><li class='xr-var-item'><div class='xr-var-name'><span>u100</span></div><div class='xr-var-dims'>(time, latitude, longitude)</div><div class='xr-var-dtype'>float32</div><div class='xr-var-preview xr-preview'>...</div><input id='attrs-311db7db-ca7b-490f-833e-65b11129a468' class='xr-var-attrs-in' type='checkbox' ><label for='attrs-311db7db-ca7b-490f-833e-65b11129a468' title='Show/Hide attributes'><svg class='icon xr-icon-file-text2'><use xlink:href='#icon-file-text2'></use></svg></label><input id='data-e984e817-23e2-4483-b321-fcc7fd2cec75' class='xr-var-data-in' type='checkbox'><label for='data-e984e817-23e2-4483-b321-fcc7fd2cec75' title='Show/Hide data repr'><svg class='icon xr-icon-database'><use xlink:href='#icon-database'></use></svg></label><div class='xr-var-attrs'><dl class='xr-attrs'><dt><span>units :</span></dt><dd>m s**-1</dd><dt><span>long_name :</span></dt><dd>100 metre U wind component</dd></dl></div><div class='xr-var-data'><pre>[1038240 values with dtype=float32]</pre></div></li><li class='xr-var-item'><div class='xr-var-name'><span>sp</span></div><div class='xr-var-dims'>(time, latitude, longitude)</div><div class='xr-var-dtype'>float32</div><div class='xr-var-preview xr-preview'>...</div><input id='attrs-3403951b-eb33-4102-b301-f124b1f9056f' class='xr-var-attrs-in' type='checkbox' ><label for='attrs-3403951b-eb33-4102-b301-f124b1f9056f' title='Show/Hide attributes'><svg class='icon xr-icon-file-text2'><use xlink:href='#icon-file-text2'></use></svg></label><input id='data-817c700c-4f3d-4a49-b4be-22bdf9b1b6d0' class='xr-var-data-in' type='checkbox'><label for='data-817c700c-4f3d-4a49-b4be-22bdf9b1b6d0' title='Show/Hide data repr'><svg class='icon xr-icon-database'><use xlink:href='#icon-database'></use></svg></label><div class='xr-var-attrs'><dl class='xr-attrs'><dt><span>units :</span></dt><dd>Pa</dd><dt><span>long_name :</span></dt><dd>Surface pressure</dd><dt><span>standard_name :</span></dt><dd>surface_air_pressure</dd></dl></div><div class='xr-var-data'><pre>[1038240 values with dtype=float32]</pre></div></li><li class='xr-var-item'><div class='xr-var-name'><span>v100</span></div><div class='xr-var-dims'>(time, latitude, longitude)</div><div class='xr-var-dtype'>float32</div><div class='xr-var-preview xr-preview'>...</div><input id='attrs-e6ffa0e5-b892-4a6f-a482-3399034434b7' class='xr-var-attrs-in' type='checkbox' ><label for='attrs-e6ffa0e5-b892-4a6f-a482-3399034434b7' title='Show/Hide attributes'><svg class='icon xr-icon-file-text2'><use xlink:href='#icon-file-text2'></use></svg></label><input id='data-d96accf9-ac7a-4b15-bb18-0cd14814fabe' class='xr-var-data-in' type='checkbox'><label for='data-d96accf9-ac7a-4b15-bb18-0cd14814fabe' title='Show/Hide data repr'><svg class='icon xr-icon-database'><use xlink:href='#icon-database'></use></svg></label><div class='xr-var-attrs'><dl class='xr-attrs'><dt><span>units :</span></dt><dd>m s**-1</dd><dt><span>long_name :</span></dt><dd>100 metre V wind component</dd></dl></div><div class='xr-var-data'><pre>[1038240 values with dtype=float32]</pre></div></li><li class='xr-var-item'><div class='xr-var-name'><span>v10</span></div><div class='xr-var-dims'>(time, latitude, longitude)</div><div class='xr-var-dtype'>float32</div><div class='xr-var-preview xr-preview'>...</div><input id='attrs-bf498c8a-9427-40b7-8494-e2d2fda71874' class='xr-var-attrs-in' type='checkbox' ><label for='attrs-bf498c8a-9427-40b7-8494-e2d2fda71874' title='Show/Hide attributes'><svg class='icon xr-icon-file-text2'><use xlink:href='#icon-file-text2'></use></svg></label><input id='data-b03f4a8c-2a01-4eb4-afe6-5e59508efaf0' class='xr-var-data-in' type='checkbox'><label for='data-b03f4a8c-2a01-4eb4-afe6-5e59508efaf0' title='Show/Hide data repr'><svg class='icon xr-icon-database'><use xlink:href='#icon-database'></use></svg></label><div class='xr-var-attrs'><dl class='xr-attrs'><dt><span>units :</span></dt><dd>m s**-1</dd><dt><span>long_name :</span></dt><dd>10 metre V wind component</dd></dl></div><div class='xr-var-data'><pre>[1038240 values with dtype=float32]</pre></div></li><li class='xr-var-item'><div class='xr-var-name'><span>v</span></div><div class='xr-var-dims'>(time, level, latitude, longitude)</div><div class='xr-var-dtype'>float32</div><div class='xr-var-preview xr-preview'>...</div><input id='attrs-ea6c37a6-8b7c-4756-a857-cff8e92ba0f2' class='xr-var-attrs-in' type='checkbox' ><label for='attrs-ea6c37a6-8b7c-4756-a857-cff8e92ba0f2' title='Show/Hide attributes'><svg class='icon xr-icon-file-text2'><use xlink:href='#icon-file-text2'></use></svg></label><input id='data-891e0c99-073b-4828-b2bb-fda2425913b8' class='xr-var-data-in' type='checkbox'><label for='data-891e0c99-073b-4828-b2bb-fda2425913b8' title='Show/Hide data repr'><svg class='icon xr-icon-database'><use xlink:href='#icon-database'></use></svg></label><div class='xr-var-attrs'><dl class='xr-attrs'><dt><span>units :</span></dt><dd>m s**-1</dd><dt><span>long_name :</span></dt><dd>V component of wind</dd><dt><span>standard_name :</span></dt><dd>northward_wind</dd></dl></div><div class='xr-var-data'><pre>[13497120 values with dtype=float32]</pre></div></li><li class='xr-var-item'><div class='xr-var-name'><span>u</span></div><div class='xr-var-dims'>(time, level, latitude, longitude)</div><div class='xr-var-dtype'>float32</div><div class='xr-var-preview xr-preview'>...</div><input id='attrs-2614f717-6023-4d6f-be65-d2eed0cb073e' class='xr-var-attrs-in' type='checkbox' ><label for='attrs-2614f717-6023-4d6f-be65-d2eed0cb073e' title='Show/Hide attributes'><svg class='icon xr-icon-file-text2'><use xlink:href='#icon-file-text2'></use></svg></label><input id='data-4e20bb5f-c543-4121-9b28-2e61fc02d0c3' class='xr-var-data-in' type='checkbox'><label for='data-4e20bb5f-c543-4121-9b28-2e61fc02d0c3' title='Show/Hide data repr'><svg class='icon xr-icon-database'><use xlink:href='#icon-database'></use></svg></label><div class='xr-var-attrs'><dl class='xr-attrs'><dt><span>units :</span></dt><dd>m s**-1</dd><dt><span>long_name :</span></dt><dd>U component of wind</dd><dt><span>standard_name :</span></dt><dd>eastward_wind</dd></dl></div><div class='xr-var-data'><pre>[13497120 values with dtype=float32]</pre></div></li><li class='xr-var-item'><div class='xr-var-name'><span>r</span></div><div class='xr-var-dims'>(time, level, latitude, longitude)</div><div class='xr-var-dtype'>float32</div><div class='xr-var-preview xr-preview'>...</div><input id='attrs-70e044a1-9392-4012-bc7d-c7afb6522844' class='xr-var-attrs-in' type='checkbox' ><label for='attrs-70e044a1-9392-4012-bc7d-c7afb6522844' title='Show/Hide attributes'><svg class='icon xr-icon-file-text2'><use xlink:href='#icon-file-text2'></use></svg></label><input id='data-4699d026-325c-439b-802c-102370981228' class='xr-var-data-in' type='checkbox'><label for='data-4699d026-325c-439b-802c-102370981228' title='Show/Hide data repr'><svg class='icon xr-icon-database'><use xlink:href='#icon-database'></use></svg></label><div class='xr-var-attrs'><dl class='xr-attrs'><dt><span>units :</span></dt><dd>%</dd><dt><span>long_name :</span></dt><dd>Relative humidity</dd><dt><span>standard_name :</span></dt><dd>relative_humidity</dd></dl></div><div class='xr-var-data'><pre>[13497120 values with dtype=float32]</pre></div></li><li class='xr-var-item'><div class='xr-var-name'><span>z</span></div><div class='xr-var-dims'>(time, level, latitude, longitude)</div><div class='xr-var-dtype'>float32</div><div class='xr-var-preview xr-preview'>...</div><input id='attrs-d6af360c-679b-47a1-bcb5-0f78921ca89c' class='xr-var-attrs-in' type='checkbox' ><label for='attrs-d6af360c-679b-47a1-bcb5-0f78921ca89c' title='Show/Hide attributes'><svg class='icon xr-icon-file-text2'><use xlink:href='#icon-file-text2'></use></svg></label><input id='data-f434ab56-38ba-4ef5-ba26-c5a6b3bf6091' class='xr-var-data-in' type='checkbox'><label for='data-f434ab56-38ba-4ef5-ba26-c5a6b3bf6091' title='Show/Hide data repr'><svg class='icon xr-icon-database'><use xlink:href='#icon-database'></use></svg></label><div class='xr-var-attrs'><dl class='xr-attrs'><dt><span>units :</span></dt><dd>m**2 s**-2</dd><dt><span>long_name :</span></dt><dd>Geopotential</dd><dt><span>standard_name :</span></dt><dd>geopotential</dd></dl></div><div class='xr-var-data'><pre>[13497120 values with dtype=float32]</pre></div></li><li class='xr-var-item'><div class='xr-var-name'><span>q</span></div><div class='xr-var-dims'>(time, level, latitude, longitude)</div><div class='xr-var-dtype'>float32</div><div class='xr-var-preview xr-preview'>...</div><input id='attrs-bea36745-4f78-476e-9b02-1fe6642f17dc' class='xr-var-attrs-in' type='checkbox' ><label for='attrs-bea36745-4f78-476e-9b02-1fe6642f17dc' title='Show/Hide attributes'><svg class='icon xr-icon-file-text2'><use xlink:href='#icon-file-text2'></use></svg></label><input id='data-3fc4fb34-bc51-446b-b9f1-0c1c7d9f8645' class='xr-var-data-in' type='checkbox'><label for='data-3fc4fb34-bc51-446b-b9f1-0c1c7d9f8645' title='Show/Hide data repr'><svg class='icon xr-icon-database'><use xlink:href='#icon-database'></use></svg></label><div class='xr-var-attrs'><dl class='xr-attrs'><dt><span>units :</span></dt><dd>kg kg**-1</dd><dt><span>long_name :</span></dt><dd>Specific humidity</dd><dt><span>standard_name :</span></dt><dd>specific_humidity</dd></dl></div><div class='xr-var-data'><pre>[13497120 values with dtype=float32]</pre></div></li><li class='xr-var-item'><div class='xr-var-name'><span>t</span></div><div class='xr-var-dims'>(time, level, latitude, longitude)</div><div class='xr-var-dtype'>float32</div><div class='xr-var-preview xr-preview'>...</div><input id='attrs-8a554d63-0a36-40e6-a836-2d438523fd09' class='xr-var-attrs-in' type='checkbox' ><label for='attrs-8a554d63-0a36-40e6-a836-2d438523fd09' title='Show/Hide attributes'><svg class='icon xr-icon-file-text2'><use xlink:href='#icon-file-text2'></use></svg></label><input id='data-691e4124-dd04-4339-bcd3-78f19df5746a' class='xr-var-data-in' type='checkbox'><label for='data-691e4124-dd04-4339-bcd3-78f19df5746a' title='Show/Hide data repr'><svg class='icon xr-icon-database'><use xlink:href='#icon-database'></use></svg></label><div class='xr-var-attrs'><dl class='xr-attrs'><dt><span>units :</span></dt><dd>K</dd><dt><span>long_name :</span></dt><dd>Temperature</dd><dt><span>standard_name :</span></dt><dd>air_temperature</dd></dl></div><div class='xr-var-data'><pre>[13497120 values with dtype=float32]</pre></div></li></ul></div></li><li class='xr-section-item'><input id='section-30c3b974-beb3-4f04-b362-ddeb04177436' class='xr-section-summary-in' type='checkbox'  ><label for='section-30c3b974-beb3-4f04-b362-ddeb04177436' class='xr-section-summary' >Indexes: <span>(4)</span></label><div class='xr-section-inline-details'></div><div class='xr-section-details'><ul class='xr-var-list'><li class='xr-var-item'><div class='xr-index-name'><div>longitude</div></div><div class='xr-index-preview'>PandasIndex</div><div></div><input id='index-42513bfd-3273-45ef-906f-9b18aa1cbca2' class='xr-index-data-in' type='checkbox'/><label for='index-42513bfd-3273-45ef-906f-9b18aa1cbca2' title='Show/Hide index repr'><svg class='icon xr-icon-database'><use xlink:href='#icon-database'></use></svg></label><div class='xr-index-data'><pre>PandasIndex(Index([ -180.0, -179.75,  -179.5, -179.25,  -179.0, -178.75,  -178.5, -178.25,\n",
       "        -178.0, -177.75,\n",
       "       ...\n",
       "         177.5,  177.75,   178.0,  178.25,   178.5,  178.75,   179.0,  179.25,\n",
       "         179.5,  179.75],\n",
       "      dtype=&#x27;float32&#x27;, name=&#x27;longitude&#x27;, length=1440))</pre></div></li><li class='xr-var-item'><div class='xr-index-name'><div>latitude</div></div><div class='xr-index-preview'>PandasIndex</div><div></div><input id='index-5237537f-8866-42d5-baf4-da57a49b3ffe' class='xr-index-data-in' type='checkbox'/><label for='index-5237537f-8866-42d5-baf4-da57a49b3ffe' title='Show/Hide index repr'><svg class='icon xr-icon-database'><use xlink:href='#icon-database'></use></svg></label><div class='xr-index-data'><pre>PandasIndex(Index([  90.0,  89.75,   89.5,  89.25,   89.0,  88.75,   88.5,  88.25,   88.0,\n",
       "        87.75,\n",
       "       ...\n",
       "       -87.75,  -88.0, -88.25,  -88.5, -88.75,  -89.0, -89.25,  -89.5, -89.75,\n",
       "        -90.0],\n",
       "      dtype=&#x27;float32&#x27;, name=&#x27;latitude&#x27;, length=721))</pre></div></li><li class='xr-var-item'><div class='xr-index-name'><div>time</div></div><div class='xr-index-preview'>PandasIndex</div><div></div><input id='index-f61d6ab3-a15e-4325-83fc-6b9d188d9d9f' class='xr-index-data-in' type='checkbox'/><label for='index-f61d6ab3-a15e-4325-83fc-6b9d188d9d9f' title='Show/Hide index repr'><svg class='icon xr-icon-database'><use xlink:href='#icon-database'></use></svg></label><div class='xr-index-data'><pre>PandasIndex(DatetimeIndex([&#x27;2018-08-01&#x27;], dtype=&#x27;datetime64[ns]&#x27;, name=&#x27;time&#x27;, freq=None))</pre></div></li><li class='xr-var-item'><div class='xr-index-name'><div>level</div></div><div class='xr-index-preview'>PandasIndex</div><div></div><input id='index-b456db6d-54f4-4eed-a4d0-ec0a89b690e4' class='xr-index-data-in' type='checkbox'/><label for='index-b456db6d-54f4-4eed-a4d0-ec0a89b690e4' title='Show/Hide index repr'><svg class='icon xr-icon-database'><use xlink:href='#icon-database'></use></svg></label><div class='xr-index-data'><pre>PandasIndex(Index([100, 200, 1000, 300, 400, 850, 50, 500, 150, 600, 250, 700, 925], dtype=&#x27;int32&#x27;, name=&#x27;level&#x27;))</pre></div></li></ul></div></li><li class='xr-section-item'><input id='section-53ff33c5-eca1-451a-83a7-30cb1a93371d' class='xr-section-summary-in' type='checkbox'  checked><label for='section-53ff33c5-eca1-451a-83a7-30cb1a93371d' class='xr-section-summary' >Attributes: <span>(2)</span></label><div class='xr-section-inline-details'></div><div class='xr-section-details'><dl class='xr-attrs'><dt><span>Conventions :</span></dt><dd>CF-1.6</dd><dt><span>history :</span></dt><dd>2024-02-22 07:11:13 GMT by grib_to_netcdf-2.25.1: /opt/ecmwf/mars-client/bin/grib_to_netcdf.bin -S param -o /cache/data7/adaptor.mars.internal-1708585873.637956-8726-11-76bf842e-6d82-40fb-87c2-50293d7a223c.nc /cache/tmp/76bf842e-6d82-40fb-87c2-50293d7a223c-adaptor.mars.internal-1708585870.8948472-8726-7-tmp.grib</dd></dl></div></li></ul></div></div>"
      ],
      "text/plain": [
       "<xarray.Dataset> Size: 353MB\n",
       "Dimensions:    (longitude: 1440, latitude: 721, time: 1, level: 13)\n",
       "Coordinates:\n",
       "  * longitude  (longitude) float32 6kB -180.0 -179.8 -179.5 ... 179.5 179.8\n",
       "  * latitude   (latitude) float32 3kB 90.0 89.75 89.5 ... -89.5 -89.75 -90.0\n",
       "  * time       (time) datetime64[ns] 8B 2018-08-01\n",
       "  * level      (level) int32 52B 100 200 1000 300 400 ... 150 600 250 700 925\n",
       "Data variables: (12/13)\n",
       "    tcwv       (time, latitude, longitude) float32 4MB ...\n",
       "    u10        (time, latitude, longitude) float32 4MB ...\n",
       "    msl        (time, latitude, longitude) float32 4MB ...\n",
       "    u100       (time, latitude, longitude) float32 4MB ...\n",
       "    sp         (time, latitude, longitude) float32 4MB ...\n",
       "    v100       (time, latitude, longitude) float32 4MB ...\n",
       "    ...         ...\n",
       "    v          (time, level, latitude, longitude) float32 54MB ...\n",
       "    u          (time, level, latitude, longitude) float32 54MB ...\n",
       "    r          (time, level, latitude, longitude) float32 54MB ...\n",
       "    z          (time, level, latitude, longitude) float32 54MB ...\n",
       "    q          (time, level, latitude, longitude) float32 54MB ...\n",
       "    t          (time, level, latitude, longitude) float32 54MB ...\n",
       "Attributes:\n",
       "    Conventions:  CF-1.6\n",
       "    history:      2024-02-22 07:11:13 GMT by grib_to_netcdf-2.25.1: /opt/ecmw..."
      ]
     },
     "execution_count": 18,
     "metadata": {},
     "output_type": "execute_result"
    }
   ],
   "source": [
    "ds"
   ]
  },
  {
   "cell_type": "code",
   "execution_count": null,
   "id": "8ee6fdf9-2771-4017-b004-07f3da00a3a5",
   "metadata": {},
   "outputs": [],
   "source": []
  }
 ],
 "metadata": {
  "kernelspec": {
   "display_name": "Python [conda env:bayesevt_ai]",
   "language": "python",
   "name": "conda-env-bayesevt_ai-py"
  },
  "language_info": {
   "codemirror_mode": {
    "name": "ipython",
    "version": 3
   },
   "file_extension": ".py",
   "mimetype": "text/x-python",
   "name": "python",
   "nbconvert_exporter": "python",
   "pygments_lexer": "ipython3",
   "version": "3.10.13"
  }
 },
 "nbformat": 4,
 "nbformat_minor": 5
}
