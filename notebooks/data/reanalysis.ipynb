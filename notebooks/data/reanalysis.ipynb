{
 "cells": [
  {
   "cell_type": "markdown",
   "id": "5794ae35-a2ca-46bf-9151-53c84ffc848c",
   "metadata": {},
   "source": [
    "# Reanalysis"
   ]
  },
  {
   "cell_type": "code",
   "execution_count": 1,
   "id": "be115f46-0d1b-4323-9076-1f0f67f3f8fa",
   "metadata": {},
   "outputs": [],
   "source": [
    "import autoroot\n",
    "import ee\n",
    "import xarray as xr\n",
    "import cdsapi\n",
    "import climetlab as cml\n",
    "from pathlib import Path\n",
    "\n",
    "%load_ext autoreload\n",
    "%autoreload 2"
   ]
  },
  {
   "cell_type": "markdown",
   "id": "d8e0a120-071c-43e6-b9f0-3e9964902dd9",
   "metadata": {},
   "source": [
    "## Single Levels"
   ]
  },
  {
   "cell_type": "markdown",
   "id": "64b7a0f2-a47b-44c6-b28e-2dcb18f6bfd6",
   "metadata": {},
   "source": [
    "### CDSAPI\n",
    "\n",
    "Here, we will look at the Climate Data Store built in API. "
   ]
  },
  {
   "cell_type": "code",
   "execution_count": 2,
   "id": "2ee3a812-9a0c-4548-8c52-7fc4da6e807c",
   "metadata": {},
   "outputs": [],
   "source": [
    "from bayesevt._src.data.era5 import ERA5_PARAM_CODES_SURFACE_FOURCASTNET"
   ]
  },
  {
   "cell_type": "code",
   "execution_count": 3,
   "id": "e42369a8-25d9-45c4-aeb0-ddbb5fc89a17",
   "metadata": {},
   "outputs": [],
   "source": [
    "\n",
    "date = \"2021-08-01\"\n",
    "grid = \"0.25/0.25\"\n",
    "time = \"00:00\" # '00/to/23/by/6' #\n",
    "\n",
    "param = '/'.join([str(x) for x in ERA5_PARAM_CODES_SURFACE_FOURCASTNET])\n",
    "save_dir = Path(\"/pool/usuarios/juanjohn/ai_models/data/era5\")"
   ]
  },
  {
   "cell_type": "code",
   "execution_count": null,
   "id": "3260a015-5c34-4170-8286-1c42ee3384f8",
   "metadata": {},
   "outputs": [],
   "source": [
    "c = cdsapi.Client()\n",
    "c.retrieve('reanalysis-era5-single-levels', {\n",
    "        'date'    : date,\n",
    "        'product_type': 'reanalysis',\n",
    "        'param'   : param,\n",
    "        'time'    : time, \n",
    "        'grid'    : grid,               \n",
    "        'format'  : 'netcdf',                \n",
    "    }, f'{save_dir}/surface_fourcastnet.nc') "
   ]
  },
  {
   "cell_type": "code",
   "execution_count": null,
   "id": "e5b1276a-6e3e-40c9-bc31-a9668382f457",
   "metadata": {},
   "outputs": [],
   "source": [
    "ds = xr.open_dataset(f'{save_dir}/surface_fourcastnet.nc')\n",
    "ds"
   ]
  },
  {
   "cell_type": "markdown",
   "id": "e25063a9-43ce-4ee4-b260-700343d29856",
   "metadata": {},
   "source": [
    "### Climetlab\n",
    "\n",
    "This is an alternative way to load the data via a nicer wrapper.\n",
    "It's what is being used in the ai-models repo so I think it's worth learning."
   ]
  },
  {
   "cell_type": "code",
   "execution_count": null,
   "id": "300af288-9731-4f1b-97ee-e64ac3639973",
   "metadata": {},
   "outputs": [],
   "source": [
    "# grid = \"0.25/0.25\"\n",
    "# date = \"2021-08-01\"\n",
    "# time = \"00:00\"\n",
    "# variables = [\n",
    "#     '10u',\n",
    "#     '10v',\n",
    "#     '2t',\n",
    "#     'sp',\n",
    "#     'msl',\n",
    "#     'tcwv',\n",
    "#     '100u',\n",
    "#     '100v'\n",
    "# ]   \n",
    "# out = cml.load_source(\"cds\", \"reanalysis-era5-single-levels\", date=date, time=time, param=variables)"
   ]
  },
  {
   "cell_type": "markdown",
   "id": "788bf269-0a94-48f5-bdd4-bf0336ad3fe1",
   "metadata": {},
   "source": [
    "## Pressure Levels"
   ]
  },
  {
   "cell_type": "markdown",
   "id": "8f2c3451-d9cf-43b7-a968-8f3c372229dd",
   "metadata": {},
   "source": [
    "### CDSAPI"
   ]
  },
  {
   "cell_type": "code",
   "execution_count": null,
   "id": "21bb9586-b0f5-4da4-b52d-399fb8ade2ca",
   "metadata": {},
   "outputs": [],
   "source": [
    "from bayesevt._src.data.era5 import ERA5_LEVELS_FOURCASTNET, ERA5_PARAM_CODES_PRESSURE_LEVELS_FOURCASTNET"
   ]
  },
  {
   "cell_type": "code",
   "execution_count": null,
   "id": "1500d661-f224-46bb-b5fa-c3d12fb214fc",
   "metadata": {},
   "outputs": [],
   "source": [
    "date = \"2021-08-01\"\n",
    "grid = \"0.25/0.25\"\n",
    "time = \"00:00\" # '00/to/23/by/6' #\n",
    "\n",
    "param = '/'.join([str(x) for x in ERA5_PARAM_CODES_PRESSURE_LEVELS_FOURCASTNET])\n",
    "levelist = '/'.join([str(x) for x in ERA5_LEVELS_FOURCASTNET]),\n",
    "save_dir = Path(\"/pool/usuarios/juanjohn/ai_models/data/era5\")"
   ]
  },
  {
   "cell_type": "code",
   "execution_count": null,
   "id": "c960ce94-a9d3-490e-a65f-b040bbef6162",
   "metadata": {},
   "outputs": [],
   "source": [
    "c.retrieve('reanalysis-era5-complete', {\n",
    "        'date'    : date,\n",
    "        'levelist': levelist,\n",
    "        'levtype' : 'pl',\n",
    "        'param'   : param,\n",
    "        'stream'  : 'oper',\n",
    "        'time'    : time, \n",
    "        'type'    : 'an',\n",
    "        'grid'    : grid,               \n",
    "        'format'  : 'netcdf',                \n",
    "    }, f'{save_dir}/levels_fourcastnet.nc') "
   ]
  },
  {
   "cell_type": "code",
   "execution_count": null,
   "id": "4e131212-ea78-44cd-b9ea-7d2ab67606af",
   "metadata": {},
   "outputs": [],
   "source": []
  }
 ],
 "metadata": {
  "kernelspec": {
   "display_name": "Python [conda env:helio_tools]",
   "language": "python",
   "name": "conda-env-helio_tools-py"
  },
  "language_info": {
   "codemirror_mode": {
    "name": "ipython",
    "version": 3
   },
   "file_extension": ".py",
   "mimetype": "text/x-python",
   "name": "python",
   "nbconvert_exporter": "python",
   "pygments_lexer": "ipython3",
   "version": "3.10.13"
  }
 },
 "nbformat": 4,
 "nbformat_minor": 5
}
