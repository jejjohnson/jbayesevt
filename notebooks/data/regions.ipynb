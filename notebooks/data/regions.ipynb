{
 "cells": [
  {
   "cell_type": "code",
   "execution_count": 22,
   "id": "df252eb6-7a84-4542-94ab-77cbe66c95c6",
   "metadata": {},
   "outputs": [],
   "source": [
    "import geopandas as gpd\n",
    "import regionmask\n",
    "import cartopy.io.shapereader as shpreader\n"
   ]
  },
  {
   "cell_type": "markdown",
   "id": "d1f431ab-2649-4173-b7fd-9481d7d68283",
   "metadata": {},
   "source": [
    "# Spain"
   ]
  },
  {
   "cell_type": "code",
   "execution_count": 48,
   "id": "2bd8b463-d4cc-4592-9c8a-a85f14ebc48f",
   "metadata": {},
   "outputs": [],
   "source": [
    "countries = regionmask.defined_regions.natural_earth_v5_0_0.countries_110"
   ]
  },
  {
   "cell_type": "code",
   "execution_count": 59,
   "id": "35cd1e5e-5275-487f-8bfc-47a8f04ddcf5",
   "metadata": {},
   "outputs": [
    {
     "data": {
      "text/plain": [
       "<regionmask._OneRegion: Spain (E / 132)>"
      ]
     },
     "execution_count": 59,
     "metadata": {},
     "output_type": "execute_result"
    }
   ],
   "source": [
    "countries[\"Spain\"]"
   ]
  },
  {
   "cell_type": "markdown",
   "id": "08cb5dad-b1fc-4738-9c43-ff337d5f3647",
   "metadata": {},
   "source": [
    "## Mediterranean Sea"
   ]
  },
  {
   "cell_type": "code",
   "execution_count": 23,
   "id": "2db7642e-e6ca-497d-abc7-a9fd10022b42",
   "metadata": {},
   "outputs": [],
   "source": [
    "basins = regionmask.defined_regions.natural_earth_v5_0_0.ocean_basins_50"
   ]
  },
  {
   "cell_type": "code",
   "execution_count": 35,
   "id": "ab923553-dca7-4d9e-9e23-d2d6854dada6",
   "metadata": {},
   "outputs": [
    {
     "data": {
      "text/plain": [
       "<regionmask._OneRegion: Mediterranean Sea (Mediterranean Sea / 26)>"
      ]
     },
     "execution_count": 35,
     "metadata": {},
     "output_type": "execute_result"
    }
   ],
   "source": [
    "medsea_mask = basins[\"Mediterranean Sea\"]\n",
    "medsea_mask"
   ]
  },
  {
   "cell_type": "code",
   "execution_count": 47,
   "id": "d661f54b-41f5-48e8-bfc0-1e837ec35b44",
   "metadata": {},
   "outputs": [
    {
     "data": {
      "text/plain": [
       "'Mediterranean Sea'"
      ]
     },
     "execution_count": 47,
     "metadata": {},
     "output_type": "execute_result"
    }
   ],
   "source": [
    "basins[26]."
   ]
  },
  {
   "cell_type": "code",
   "execution_count": 11,
   "id": "f650a2f8-0789-48c3-b66a-48fa7c748e8a",
   "metadata": {},
   "outputs": [],
   "source": [
    "world = gpd.read_file(shpfilename)"
   ]
  },
  {
   "cell_type": "code",
   "execution_count": 19,
   "id": "906ec6af-6638-41f6-b64a-e542d5f5f05c",
   "metadata": {},
   "outputs": [
    {
     "data": {
      "text/plain": [
       "<Axes: >"
      ]
     },
     "execution_count": 19,
     "metadata": {},
     "output_type": "execute_result"
    },
    {
     "data": {
      "image/png": "[encoded data removed]",
      "text/plain": [
       "<Figure size 640x480 with 1 Axes>"
      ]
     },
     "metadata": {},
     "output_type": "display_data"
    }
   ],
   "source": [
    "spain_shp = world.loc[world[\"SOVEREIGNT\"] == \"Spain\"]\n",
    "spain_boundaries = spain_shp[\"geometry\"]\n",
    "spain_boundaries.plot()"
   ]
  },
  {
   "cell_type": "code",
   "execution_count": 3,
   "id": "55340750-31c9-41cc-a78c-f40b2691bce1",
   "metadata": {},
   "outputs": [
    {
     "name": "stderr",
     "output_type": "stream",
     "text": [
      "/home/juanjohn/miniconda/envs/helio_tools/lib/python3.10/site-packages/cartopy/io/__init__.py:241: DownloadWarning: Downloading: https://naturalearth.s3.amazonaws.com/110m_cultural/ne_110m_admin_0_countries.zip\n",
      "  warnings.warn(f'Downloading: {url}', DownloadWarning)\n"
     ]
    }
   ],
   "source": [
    "shpfilename = shpreader.natural_earth(resolution='110m',\n",
    "                                      category='cultural',\n",
    "                                      name='admin_0_countries')"
   ]
  },
  {
   "cell_type": "code",
   "execution_count": 5,
   "id": "efce545b-8ff1-42b3-8e26-aab8cedbe0a9",
   "metadata": {},
   "outputs": [],
   "source": [
    "reader = shpreader.Reader(shpfilename)\n",
    "countries = reader.records()"
   ]
  },
  {
   "cell_type": "code",
   "execution_count": 6,
   "id": "08152a45-88d5-46e8-85ac-09ead6b77980",
   "metadata": {},
   "outputs": [
    {
     "data": {
      "text/plain": [
       "<generator object FionaReader.records at 0x7fec1cf38580>"
      ]
     },
     "execution_count": 6,
     "metadata": {},
     "output_type": "execute_result"
    }
   ],
   "source": [
    "countries"
   ]
  }
 ],
 "metadata": {
  "kernelspec": {
   "display_name": "Python [conda env:helio_tools]",
   "language": "python",
   "name": "conda-env-helio_tools-py"
  },
  "language_info": {
   "codemirror_mode": {
    "name": "ipython",
    "version": 3
   },
   "file_extension": ".py",
   "mimetype": "text/x-python",
   "name": "python",
   "nbconvert_exporter": "python",
   "pygments_lexer": "ipython3",
   "version": "3.11.6"
  }
 },
 "nbformat": 4,
 "nbformat_minor": 5
}
